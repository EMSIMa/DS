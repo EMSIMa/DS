{
  "nbformat": 4,
  "nbformat_minor": 0,
  "metadata": {
    "colab": {
      "provenance": [],
      "collapsed_sections": [
        "ZgOoRYHkaZN1",
        "us27WaOiix9Y"
      ]
    },
    "kernelspec": {
      "name": "python3",
      "display_name": "Python 3"
    }
  },
  "cells": [
    {
      "cell_type": "markdown",
      "metadata": {
        "id": "7FPBAw87HBeT"
      },
      "source": [
        "#PYTHON FOR DATA SCIENCE"
      ]
    },
    {
      "cell_type": "markdown",
      "source": [
        "<a href=\"https://colab.research.google.com/github/EMSIMa/DS/blob/main/Python%20For%20Data%20Science%20Part%201.ipynb\" target=\"_parent\"><img src=\"https://colab.research.google.com/assets/colab-badge.svg\" alt=\"Open in Colab\"/></a>\n"
      ],
      "metadata": {
        "id": "aIjIuwW3vVrk"
      }
    },
    {
      "cell_type": "code",
      "metadata": {
        "id": "U6CgMLGIGhFV",
        "cellView": "form",
        "colab": {
          "base_uri": "https://localhost:8080/",
          "height": 499
        },
        "outputId": "0b904350-6431-4fe7-eae3-11e0f08151bd"
      },
      "source": [
        "#@title Data Science:\n",
        "%%html\n",
        "<figure>\n",
        "<center>\n",
        "<img src='https://i.imgur.com/TcuCeak.png' height=450 width=500/>\n",
        "<figcaption></figcaption></center>\n",
        "</figure>"
      ],
      "execution_count": null,
      "outputs": [
        {
          "output_type": "display_data",
          "data": {
            "text/plain": [
              "<IPython.core.display.HTML object>"
            ],
            "text/html": [
              "<figure>\n",
              "<center>\n",
              "<img src='https://i.imgur.com/TcuCeak.png' height=450 width=500/>\n",
              "<figcaption></figcaption></center>\n",
              "</figure>\n"
            ]
          },
          "metadata": {}
        }
      ]
    },
    {
      "cell_type": "code",
      "metadata": {
        "id": "lqQG42tpWWcK",
        "cellView": "form",
        "colab": {
          "base_uri": "https://localhost:8080/",
          "height": 399
        },
        "outputId": "6c3fb8a5-1a38-48e8-fc64-e95021d3ff35"
      },
      "source": [
        "#@title Ce cours est: \n",
        "%%html\n",
        "<figure>\n",
        "<center>\n",
        "<img src='https://i.imgur.com/xjD5f4G.jpg' height=350 width=400/>\n",
        "<figcaption></figcaption></center>\n",
        "</figure>"
      ],
      "execution_count": null,
      "outputs": [
        {
          "output_type": "display_data",
          "data": {
            "text/plain": [
              "<IPython.core.display.HTML object>"
            ],
            "text/html": [
              "<figure>\n",
              "<center>\n",
              "<img src='https://i.imgur.com/xjD5f4G.jpg' height=350 width=400/>\n",
              "<figcaption></figcaption></center>\n",
              "</figure>\n"
            ]
          },
          "metadata": {}
        }
      ]
    },
    {
      "cell_type": "markdown",
      "metadata": {
        "id": "i_fKbXvGY705"
      },
      "source": [
        "# Pouquoi Python?"
      ]
    },
    {
      "cell_type": "code",
      "metadata": {
        "id": "YRe3g_I6XsSE",
        "cellView": "form",
        "colab": {
          "base_uri": "https://localhost:8080/",
          "height": 449
        },
        "outputId": "1c03d33a-f858-49f6-e327-9fc7c222b67e"
      },
      "source": [
        "#@title Java vs. Python\n",
        "%%html\n",
        "<figure>\n",
        "<center>\n",
        "<img src='https://i.redd.it/ry69u7oa1rsy.png' height=400 width=1000/>\n",
        "<figcaption></figcaption></center>\n",
        "</figure>"
      ],
      "execution_count": null,
      "outputs": [
        {
          "output_type": "display_data",
          "data": {
            "text/plain": [
              "<IPython.core.display.HTML object>"
            ],
            "text/html": [
              "<figure>\n",
              "<center>\n",
              "<img src='https://i.redd.it/ry69u7oa1rsy.png' height=400 width=1000/>\n",
              "<figcaption></figcaption></center>\n",
              "</figure>\n"
            ]
          },
          "metadata": {}
        }
      ]
    },
    {
      "cell_type": "markdown",
      "metadata": {
        "id": "k0WSeKooZfUP"
      },
      "source": [
        "# Le pipline de la data science "
      ]
    },
    {
      "cell_type": "markdown",
      "metadata": {
        "id": "InalkPRQaDux"
      },
      "source": [
        "\n",
        "\n",
        "1.   Obtenir ou collecter des données\n",
        "2.   Manipuler et traiter les données\n",
        "3.   Modélisation et analyse\n",
        "4.   Visualiser, évaluer, présenter et communiquer\n",
        "\n"
      ]
    },
    {
      "cell_type": "markdown",
      "metadata": {
        "id": "ZgOoRYHkaZN1"
      },
      "source": [
        "## Bases de Python"
      ]
    },
    {
      "cell_type": "code",
      "metadata": {
        "id": "xdxrPbyiYs6K",
        "colab": {
          "base_uri": "https://localhost:8080/"
        },
        "outputId": "57b37beb-c584-470b-986b-e6a64e1d9b4d"
      },
      "source": [
        "print(\"Voici Python !\")"
      ],
      "execution_count": null,
      "outputs": [
        {
          "output_type": "stream",
          "name": "stdout",
          "text": [
            "Voici Python !\n"
          ]
        }
      ]
    },
    {
      "cell_type": "markdown",
      "metadata": {
        "id": "Yu6hiIlOamDG"
      },
      "source": [
        "### Functions"
      ]
    },
    {
      "cell_type": "code",
      "metadata": {
        "id": "2I6jd8aYak3I",
        "colab": {
          "base_uri": "https://localhost:8080/",
          "height": 35
        },
        "outputId": "799be358-a82e-4977-fc9a-819dbe8f5577"
      },
      "source": [
        "def repeatNtimes(word, n):\n",
        "  return word * n\n",
        "\n",
        "repeatNtimes(\"EMSI\", 5)"
      ],
      "execution_count": null,
      "outputs": [
        {
          "output_type": "execute_result",
          "data": {
            "text/plain": [
              "'EMSIEMSIEMSIEMSIEMSI'"
            ],
            "application/vnd.google.colaboratory.intrinsic+json": {
              "type": "string"
            }
          },
          "metadata": {},
          "execution_count": 1
        }
      ]
    },
    {
      "cell_type": "code",
      "metadata": {
        "id": "A7iZyPdg6kU7",
        "colab": {
          "base_uri": "https://localhost:8080/"
        },
        "outputId": "cc628f0e-d718-4d1e-f820-8372fe648479"
      },
      "source": [
        "repeatNtimes(5, 5)"
      ],
      "execution_count": null,
      "outputs": [
        {
          "output_type": "execute_result",
          "data": {
            "text/plain": [
              "25"
            ]
          },
          "metadata": {},
          "execution_count": 2
        }
      ]
    },
    {
      "cell_type": "code",
      "metadata": {
        "colab": {
          "base_uri": "https://localhost:8080/"
        },
        "id": "P4IOYXwb_jMs",
        "outputId": "fe753f94-fcba-47e8-d554-7d21448defe1"
      },
      "source": [
        "repeatNtimes([1, 2], 5)"
      ],
      "execution_count": null,
      "outputs": [
        {
          "output_type": "execute_result",
          "data": {
            "text/plain": [
              "[1, 2, 1, 2, 1, 2, 1, 2, 1, 2]"
            ]
          },
          "metadata": {},
          "execution_count": 3
        }
      ]
    },
    {
      "cell_type": "code",
      "metadata": {
        "id": "gw_s5Wek4g-Z",
        "colab": {
          "base_uri": "https://localhost:8080/",
          "height": 35
        },
        "outputId": "2793fc38-b8de-4a8f-8f2b-15787f438ad0"
      },
      "source": [
        "repeatNtimes2 = lambda word, n: word * n\n",
        "repeatNtimes2('Emsi', 5)"
      ],
      "execution_count": null,
      "outputs": [
        {
          "output_type": "execute_result",
          "data": {
            "text/plain": [
              "'EmsiEmsiEmsiEmsiEmsi'"
            ],
            "application/vnd.google.colaboratory.intrinsic+json": {
              "type": "string"
            }
          },
          "metadata": {},
          "execution_count": 4
        }
      ]
    },
    {
      "cell_type": "markdown",
      "metadata": {
        "id": "-iMssIVRa6hC"
      },
      "source": [
        "### Boucles"
      ]
    },
    {
      "cell_type": "code",
      "metadata": {
        "id": "w4fMXyhMa7s8",
        "colab": {
          "base_uri": "https://localhost:8080/"
        },
        "outputId": "16ad59bb-b5d5-4654-edca-ecf1b280d411"
      },
      "source": [
        "list_sentence = [\"Ceci\", \"est\", \"une\",\"phrase\"]\n",
        "# iteration sur une liste\n",
        "# premiere methode\n",
        "for idx in range(len(list_sentence)):\n",
        "  word = list_sentence[idx]\n",
        "  print(word + \"!\")\n",
        "\n",
        "print('---\\n')\n",
        "# 2eme methode\n",
        "\n",
        "for idx, word in enumerate(list_sentence):\n",
        "  print(idx, word + '***')\n",
        "\n",
        "print('---\\n')\n",
        "\n",
        "# 3eme methode\n",
        "for word in list_sentence:\n",
        "  print(word)"
      ],
      "execution_count": null,
      "outputs": [
        {
          "output_type": "stream",
          "name": "stdout",
          "text": [
            "Ceci!\n",
            "est!\n",
            "une!\n",
            "phrase!\n",
            "---\n",
            "\n",
            "0 Ceci***\n",
            "1 est***\n",
            "2 une***\n",
            "3 phrase***\n",
            "---\n",
            "\n",
            "Ceci\n",
            "est\n",
            "une\n",
            "phrase\n"
          ]
        }
      ]
    },
    {
      "cell_type": "markdown",
      "metadata": {
        "id": "UnKeIAx3a2vE"
      },
      "source": [
        "### List comprehension"
      ]
    },
    {
      "cell_type": "code",
      "metadata": {
        "id": "HGIVmCEoazVW"
      },
      "source": [
        "list_sentence = [\"Ceci\", \"est\", \"une\", \"petite\", \"phrase\"]\n",
        "list2 = [x + '!' for x in list_sentence if x.startswith(\"p\")]"
      ],
      "execution_count": null,
      "outputs": []
    },
    {
      "cell_type": "code",
      "metadata": {
        "id": "DTvO6-euRtj_",
        "colab": {
          "base_uri": "https://localhost:8080/"
        },
        "outputId": "868488ef-544b-49fc-ba09-3472844b590c"
      },
      "source": [
        "list2"
      ],
      "execution_count": null,
      "outputs": [
        {
          "output_type": "execute_result",
          "data": {
            "text/plain": [
              "['petite!', 'phrase!']"
            ]
          },
          "metadata": {},
          "execution_count": 8
        }
      ]
    },
    {
      "cell_type": "markdown",
      "metadata": {
        "id": "Le_0MyEW2bNy"
      },
      "source": [
        "##### C'est l'equivalent de:"
      ]
    },
    {
      "cell_type": "code",
      "metadata": {
        "id": "9zi1ebUo2eq6",
        "colab": {
          "base_uri": "https://localhost:8080/"
        },
        "outputId": "e614abee-6902-4c3a-bc2f-a6091597c312"
      },
      "source": [
        "list_sentence = [\"Ceci\", \"est\", \"une\", \"petite\", \"phrase\"]\n",
        "list2 = []\n",
        "for x in list_sentence:\n",
        "  if x.startswith(\"p\"):\n",
        "    list2.append(x + '!')\n",
        "list2"
      ],
      "execution_count": null,
      "outputs": [
        {
          "output_type": "execute_result",
          "data": {
            "text/plain": [
              "['petite!', 'phrase!']"
            ]
          },
          "metadata": {},
          "execution_count": 9
        }
      ]
    },
    {
      "cell_type": "code",
      "metadata": {
        "id": "YCVqB9G1Q57v"
      },
      "source": [
        "x = 'string'"
      ],
      "execution_count": null,
      "outputs": []
    },
    {
      "cell_type": "code",
      "metadata": {
        "id": "l-xrgq3yQ9R0",
        "colab": {
          "base_uri": "https://localhost:8080/",
          "height": 35
        },
        "outputId": "9f8c4ee4-5b8f-46a3-a226-d3044edbd994"
      },
      "source": [
        "'string'\n",
        "\"string\"\n",
        "\n",
        "'str\"ing'\n",
        "\"str'ing\""
      ],
      "execution_count": null,
      "outputs": [
        {
          "output_type": "execute_result",
          "data": {
            "text/plain": [
              "\"str'ing\""
            ],
            "application/vnd.google.colaboratory.intrinsic+json": {
              "type": "string"
            }
          },
          "metadata": {},
          "execution_count": 11
        }
      ]
    },
    {
      "cell_type": "markdown",
      "source": [
        "##Dictionnaires "
      ],
      "metadata": {
        "id": "us27WaOiix9Y"
      }
    },
    {
      "cell_type": "code",
      "metadata": {
        "id": "qLX2sv6dk9Ep"
      },
      "source": [
        "\n",
        "d = {'a': 0, 'b': 1, 'c': 2, 'd':3}"
      ],
      "execution_count": null,
      "outputs": []
    },
    {
      "cell_type": "code",
      "source": [
        "d.items()"
      ],
      "metadata": {
        "colab": {
          "base_uri": "https://localhost:8080/"
        },
        "id": "Mfy6DnN-j1SU",
        "outputId": "50f22f03-5fa6-4590-a222-0f668e7c03a0"
      },
      "execution_count": null,
      "outputs": [
        {
          "output_type": "execute_result",
          "data": {
            "text/plain": [
              "dict_items([('a', 0), ('b', 1), ('c', 2), ('d', 3)])"
            ]
          },
          "metadata": {},
          "execution_count": 13
        }
      ]
    },
    {
      "cell_type": "code",
      "source": [
        "d.items?"
      ],
      "metadata": {
        "id": "W1uuG-1OlUMz"
      },
      "execution_count": null,
      "outputs": []
    },
    {
      "cell_type": "code",
      "metadata": {
        "id": "S1RXgG9Wk-Sy",
        "colab": {
          "base_uri": "https://localhost:8080/"
        },
        "outputId": "b74c6762-623c-4de3-d297-d7783fa8f1bb"
      },
      "source": [
        "# acceder aux items\n",
        "[item for item in d.items() if item[1] % 2 == 1]"
      ],
      "execution_count": null,
      "outputs": [
        {
          "output_type": "execute_result",
          "data": {
            "text/plain": [
              "[('b', 1), ('d', 3)]"
            ]
          },
          "metadata": {},
          "execution_count": 15
        }
      ]
    },
    {
      "cell_type": "code",
      "metadata": {
        "id": "tA4BK9OSz5U0",
        "colab": {
          "base_uri": "https://localhost:8080/"
        },
        "outputId": "851ca209-96d3-47ad-ffa1-99b443289262"
      },
      "source": [
        "# acceder aux paires key,value \n",
        "[(key, value) for key, value in d.items() if value % 2 == 1]"
      ],
      "execution_count": null,
      "outputs": [
        {
          "output_type": "execute_result",
          "data": {
            "text/plain": [
              "[('b', 1), ('d', 3)]"
            ]
          },
          "metadata": {},
          "execution_count": 16
        }
      ]
    },
    {
      "cell_type": "code",
      "metadata": {
        "id": "Rae5ld-zl18Q"
      },
      "source": [
        "# on peut iterer sur chaque element d'une liste\n",
        "result = []\n",
        "for word in ['Data', 'Science']:\n",
        "  inner_list = []\n",
        "  for character in word:\n",
        "    if character!='a':\n",
        "      inner_list.append(character+\"!\")\n",
        "  result.append(inner_list)\n",
        "  "
      ],
      "execution_count": null,
      "outputs": []
    },
    {
      "cell_type": "code",
      "source": [
        "result"
      ],
      "metadata": {
        "colab": {
          "base_uri": "https://localhost:8080/"
        },
        "id": "nyakZgafnHzr",
        "outputId": "ae774365-a22c-48bd-8738-05942be10e58"
      },
      "execution_count": null,
      "outputs": [
        {
          "output_type": "execute_result",
          "data": {
            "text/plain": [
              "[['D!', 't!'], ['S!', 'c!', 'i!', 'e!', 'n!', 'c!', 'e!']]"
            ]
          },
          "metadata": {},
          "execution_count": 20
        }
      ]
    },
    {
      "cell_type": "code",
      "metadata": {
        "id": "m9hJ2JOf0ah5",
        "colab": {
          "base_uri": "https://localhost:8080/"
        },
        "outputId": "b567df56-9c29-41b1-a11a-1f6914d15e6b"
      },
      "source": [
        "# meme operation en utilisation une list comprehension\n",
        "[[letter + '!' for letter in word if letter != 'a'] for word in ['Data', 'Science']]"
      ],
      "execution_count": null,
      "outputs": [
        {
          "output_type": "execute_result",
          "data": {
            "text/plain": [
              "[['D!', 't!'], ['S!', 'c!', 'i!', 'e!', 'n!', 'c!', 'e!']]"
            ]
          },
          "metadata": {},
          "execution_count": 21
        }
      ]
    },
    {
      "cell_type": "code",
      "metadata": {
        "id": "XfmeZAXFSh7X",
        "colab": {
          "base_uri": "https://localhost:8080/"
        },
        "outputId": "1e7653ba-ccdf-464a-a65b-a131f89bca9f"
      },
      "source": [
        "[[letter + '!' if letter == 'a' else letter + '?' for letter in word ] for word in ['Data', 'Science']]"
      ],
      "execution_count": null,
      "outputs": [
        {
          "output_type": "execute_result",
          "data": {
            "text/plain": [
              "[['D?', 'a!', 't?', 'a!'], ['S?', 'c?', 'i?', 'e?', 'n?', 'c?', 'e?']]"
            ]
          },
          "metadata": {},
          "execution_count": 22
        }
      ]
    },
    {
      "cell_type": "markdown",
      "metadata": {
        "id": "JU7DQLnsdkQ7"
      },
      "source": [
        "# L'Ecosysteme Python"
      ]
    },
    {
      "cell_type": "code",
      "metadata": {
        "id": "vKsJmeJ3fH1P",
        "cellView": "form",
        "colab": {
          "base_uri": "https://localhost:8080/",
          "height": 299
        },
        "outputId": "ee49a67a-33e6-4b6e-b053-0fcd31356d4e"
      },
      "source": [
        "#@title .\n",
        "%%html\n",
        "<figure>\n",
        "<center>\n",
        "<img src='https://i.imgur.com/x6edHHj.png' width=400 height=250/>\n",
        "<figcaption></figcaption></center>\n",
        "</figure>"
      ],
      "execution_count": null,
      "outputs": [
        {
          "output_type": "display_data",
          "data": {
            "text/plain": [
              "<IPython.core.display.HTML object>"
            ],
            "text/html": [
              "<figure>\n",
              "<center>\n",
              "<img src='https://i.imgur.com/x6edHHj.png' width=400 height=250/>\n",
              "<figcaption></figcaption></center>\n",
              "</figure>\n"
            ]
          },
          "metadata": {}
        }
      ]
    },
    {
      "cell_type": "code",
      "metadata": {
        "id": "oYZc927XcHL7",
        "cellView": "form",
        "colab": {
          "base_uri": "https://localhost:8080/",
          "height": 449
        },
        "outputId": "1973f005-aa13-4bc5-e77e-c329b737e6f3"
      },
      "source": [
        "#@title .\n",
        "%%html\n",
        "<figure>\n",
        "<center>\n",
        "<img src='http://chris35wills.github.io/courses/pydata_stack.png' height=400 width=800/>\n",
        "<figcaption></figcaption></center>\n",
        "</figure>"
      ],
      "execution_count": null,
      "outputs": [
        {
          "output_type": "display_data",
          "data": {
            "text/plain": [
              "<IPython.core.display.HTML object>"
            ],
            "text/html": [
              "<figure>\n",
              "<center>\n",
              "<img src='http://chris35wills.github.io/courses/pydata_stack.png' height=400 width=800/>\n",
              "<figcaption></figcaption></center>\n",
              "</figure>\n"
            ]
          },
          "metadata": {}
        }
      ]
    },
    {
      "cell_type": "markdown",
      "metadata": {
        "id": "jb402K3F23RQ"
      },
      "source": [
        "\n",
        "* **Numpy** : Tableaux à N dimensions, matrices et algèbre linéaire.\n",
        "* **Scipy** : Algorithmes d'algèbre linéaire, optimisation, statistiques et traitement de signal.\n",
        "* **Pandas** : Manipulation et analyse de données\n",
        "* **Matplotlib** : Visualisation de données\n",
        "* **IPython** : Shell interactif pour Python\n",
        "* **Scikit-learn** : Apprentissage automatique (Machine Learning)\n",
        "\n"
      ]
    },
    {
      "cell_type": "markdown",
      "metadata": {
        "id": "hKrk3NsiqtDE"
      },
      "source": [
        "# Anaconda\n",
        "\n",
        "* Un ensemble de bibliothèques de science des données, d'apprentissage automatique et de visualisation. \n",
        "\n",
        "* Contient toutes les bibliothèques dont vous aurez besoin dans ce cours.\n",
        "\n",
        "* Le moyen le plus simple d'éviter les problèmes d'interdépendance. \n",
        "\n",
        "## Installation\n",
        "\n",
        "1. Allez sur : https://www.anaconda.com/distribution/\n",
        "\n",
        "2. Téléchargez le programme d'installation pour votre système d'exploitation et la version de Python de votre choix et suivez les instructions.\n",
        "\n",
        "3. PROFITEZ !\n",
        "\n",
        "# Jupyter Notebook\n",
        "\n",
        "* Un carnet de notes sur navigateur avec support pour le code, le texte, les expressions mathématiques, les graphes en ligne et autres médias riches.\n",
        "\n",
        "* Cette présentation est un Jupyter Notebook. \n",
        "\n",
        "# Colab\n",
        "\n",
        "* Colaboratory est un environnement de Jupyter Notebooks gratuit qui ne nécessite aucune installation et fonctionne entièrement dans le Cloud.\n",
        "\n",
        "* Avec Colaboratory, vous pouvez écrire et exécuter du code, enregistrer et partager vos analyses, et accéder à de puissantes ressources informatiques, le tout gratuitement depuis votre navigateur.\n",
        "\n",
        "* Cette présentation est un Jupyter notebook, sur Colab !"
      ]
    },
    {
      "cell_type": "markdown",
      "metadata": {
        "id": "bCnNj78hzKC-"
      },
      "source": [
        "# Pandas"
      ]
    },
    {
      "cell_type": "markdown",
      "metadata": {
        "id": "CFEpHGkdz3gs"
      },
      "source": [
        "* Pandas est une bibliothèque pour la manipulation et l'analyse des données.\n",
        "\n",
        "* Structures de données : Séries et DataFrame (données tabulaires)\n",
        "\n",
        "* Les données sont chargées en mémoire, d'où leur rapidité (mais ce n'est pas idéal pour les ensembles de données dont l'échelle est supérieure à la taille de la mémoire)."
      ]
    },
    {
      "cell_type": "code",
      "metadata": {
        "id": "h-200A41ffPy",
        "cellView": "form",
        "colab": {
          "base_uri": "https://localhost:8080/",
          "height": 349
        },
        "outputId": "83a20bac-0fb5-47e7-f10a-8dc1f23b403e"
      },
      "source": [
        "#@title .\n",
        "%%html\n",
        "<figure>\n",
        "<center>\n",
        "<img src='https://i.imgur.com/JnxMvrq.png' width=300 height=300/>\n",
        "<figcaption></figcaption></center>\n",
        "</figure>"
      ],
      "execution_count": null,
      "outputs": [
        {
          "output_type": "display_data",
          "data": {
            "text/plain": [
              "<IPython.core.display.HTML object>"
            ],
            "text/html": [
              "<figure>\n",
              "<center>\n",
              "<img src='https://i.imgur.com/JnxMvrq.png' width=300 height=300/>\n",
              "<figcaption></figcaption></center>\n",
              "</figure>\n"
            ]
          },
          "metadata": {}
        }
      ]
    },
    {
      "cell_type": "code",
      "metadata": {
        "id": "OXfluQjOzd9_"
      },
      "source": [
        "import pandas as pd"
      ],
      "execution_count": null,
      "outputs": []
    },
    {
      "cell_type": "markdown",
      "metadata": {
        "id": "j33m3T4r_mna"
      },
      "source": [
        "# Lire un fichier"
      ]
    },
    {
      "cell_type": "code",
      "metadata": {
        "id": "eO0voBpHTl6C"
      },
      "source": [
        "ted_main = pd.read_csv('https://raw.githubusercontent.com/EMSIMa/DS/main/ted_main.csv')"
      ],
      "execution_count": null,
      "outputs": []
    },
    {
      "cell_type": "code",
      "metadata": {
        "id": "-UjcnxJrVEuf"
      },
      "source": [
        "transcripts = pd.read_csv('https://raw.githubusercontent.com/EMSIMa/DS/main/transcripts.csv')"
      ],
      "execution_count": null,
      "outputs": []
    }
  ]
}