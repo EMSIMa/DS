{
  "nbformat": 4,
  "nbformat_minor": 0,
  "metadata": {
    "colab": {
      "provenance": [],
      "collapsed_sections": [
        "7FPBAw87HBeT",
        "i_fKbXvGY705",
        "k0WSeKooZfUP",
        "JU7DQLnsdkQ7",
        "bCnNj78hzKC-",
        "mSpgd0t-_sxs",
        "RdyHPSlS3l2j",
        "enOgQ5pB2M0S",
        "sQWiGawW51Qi",
        "tURbkZPiAuXA"
      ]
    },
    "kernelspec": {
      "name": "python3",
      "display_name": "Python 3"
    }
  },
  "cells": [
    {
      "cell_type": "markdown",
      "metadata": {
        "id": "7FPBAw87HBeT"
      },
      "source": [
        "#PYTHON FOR DATA SCIENCE"
      ]
    },
    {
      "cell_type": "markdown",
      "source": [
        "<a href=\"https://colab.research.google.com/github/EMSIMa/DS/blob/main/Python%20For%20Data%20Science%20Part%201.ipynb\" target=\"_parent\"><img src=\"https://colab.research.google.com/assets/colab-badge.svg\" alt=\"Open in Colab\"/></a>\n"
      ],
      "metadata": {
        "id": "aIjIuwW3vVrk"
      }
    },
    {
      "cell_type": "code",
      "metadata": {
        "id": "U6CgMLGIGhFV",
        "cellView": "form",
        "colab": {
          "base_uri": "https://localhost:8080/",
          "height": 499
        },
        "outputId": "0b904350-6431-4fe7-eae3-11e0f08151bd"
      },
      "source": [
        "#@title Data Science:\n",
        "%%html\n",
        "<figure>\n",
        "<center>\n",
        "<img src='https://i.imgur.com/TcuCeak.png' height=450 width=500/>\n",
        "<figcaption></figcaption></center>\n",
        "</figure>"
      ],
      "execution_count": null,
      "outputs": [
        {
          "output_type": "display_data",
          "data": {
            "text/plain": [
              "<IPython.core.display.HTML object>"
            ],
            "text/html": [
              "<figure>\n",
              "<center>\n",
              "<img src='https://i.imgur.com/TcuCeak.png' height=450 width=500/>\n",
              "<figcaption></figcaption></center>\n",
              "</figure>\n"
            ]
          },
          "metadata": {}
        }
      ]
    },
    {
      "cell_type": "code",
      "metadata": {
        "id": "lqQG42tpWWcK",
        "cellView": "form",
        "colab": {
          "base_uri": "https://localhost:8080/",
          "height": 399
        },
        "outputId": "6c3fb8a5-1a38-48e8-fc64-e95021d3ff35"
      },
      "source": [
        "#@title Ce cours est: \n",
        "%%html\n",
        "<figure>\n",
        "<center>\n",
        "<img src='https://i.imgur.com/xjD5f4G.jpg' height=350 width=400/>\n",
        "<figcaption></figcaption></center>\n",
        "</figure>"
      ],
      "execution_count": null,
      "outputs": [
        {
          "output_type": "display_data",
          "data": {
            "text/plain": [
              "<IPython.core.display.HTML object>"
            ],
            "text/html": [
              "<figure>\n",
              "<center>\n",
              "<img src='https://i.imgur.com/xjD5f4G.jpg' height=350 width=400/>\n",
              "<figcaption></figcaption></center>\n",
              "</figure>\n"
            ]
          },
          "metadata": {}
        }
      ]
    },
    {
      "cell_type": "markdown",
      "metadata": {
        "id": "i_fKbXvGY705"
      },
      "source": [
        "# Pouquoi Python?"
      ]
    },
    {
      "cell_type": "code",
      "metadata": {
        "id": "YRe3g_I6XsSE",
        "cellView": "form",
        "colab": {
          "base_uri": "https://localhost:8080/",
          "height": 449
        },
        "outputId": "1c03d33a-f858-49f6-e327-9fc7c222b67e"
      },
      "source": [
        "#@title Java vs. Python\n",
        "%%html\n",
        "<figure>\n",
        "<center>\n",
        "<img src='https://i.redd.it/ry69u7oa1rsy.png' height=400 width=1000/>\n",
        "<figcaption></figcaption></center>\n",
        "</figure>"
      ],
      "execution_count": null,
      "outputs": [
        {
          "output_type": "display_data",
          "data": {
            "text/plain": [
              "<IPython.core.display.HTML object>"
            ],
            "text/html": [
              "<figure>\n",
              "<center>\n",
              "<img src='https://i.redd.it/ry69u7oa1rsy.png' height=400 width=1000/>\n",
              "<figcaption></figcaption></center>\n",
              "</figure>\n"
            ]
          },
          "metadata": {}
        }
      ]
    },
    {
      "cell_type": "markdown",
      "metadata": {
        "id": "k0WSeKooZfUP"
      },
      "source": [
        "# Le pipline de la data science "
      ]
    },
    {
      "cell_type": "markdown",
      "metadata": {
        "id": "InalkPRQaDux"
      },
      "source": [
        "\n",
        "\n",
        "1.   Obtenir ou collecter des données\n",
        "2.   Manipuler et traiter les données\n",
        "3.   Modélisation et analyse\n",
        "4.   Visualiser, évaluer, présenter et communiquer\n",
        "\n"
      ]
    },
    {
      "cell_type": "markdown",
      "metadata": {
        "id": "ZgOoRYHkaZN1"
      },
      "source": [
        "## Bases de Python"
      ]
    },
    {
      "cell_type": "code",
      "metadata": {
        "id": "xdxrPbyiYs6K",
        "colab": {
          "base_uri": "https://localhost:8080/"
        },
        "outputId": "57b37beb-c584-470b-986b-e6a64e1d9b4d"
      },
      "source": [
        "print(\"Voici Python !\")"
      ],
      "execution_count": null,
      "outputs": [
        {
          "output_type": "stream",
          "name": "stdout",
          "text": [
            "Voici Python !\n"
          ]
        }
      ]
    },
    {
      "cell_type": "markdown",
      "metadata": {
        "id": "Yu6hiIlOamDG"
      },
      "source": [
        "### Functions"
      ]
    },
    {
      "cell_type": "code",
      "metadata": {
        "id": "2I6jd8aYak3I",
        "colab": {
          "base_uri": "https://localhost:8080/",
          "height": 35
        },
        "outputId": "622eda8d-41bc-4381-fa73-f15c6fbaffe5"
      },
      "source": [
        "def repeatNtimes(string, n):\n",
        "  return string * n\n",
        "\n",
        "repeatNtimes(\"EMSI\", 5)"
      ],
      "execution_count": null,
      "outputs": [
        {
          "output_type": "execute_result",
          "data": {
            "text/plain": [
              "'EMSIEMSIEMSIEMSIEMSI'"
            ],
            "application/vnd.google.colaboratory.intrinsic+json": {
              "type": "string"
            }
          },
          "metadata": {},
          "execution_count": 5
        }
      ]
    },
    {
      "cell_type": "code",
      "metadata": {
        "id": "A7iZyPdg6kU7",
        "colab": {
          "base_uri": "https://localhost:8080/"
        },
        "outputId": "bea8b21b-cbb2-4d45-b430-8b54090c6599"
      },
      "source": [
        "repeatNtimes(5, 5)"
      ],
      "execution_count": null,
      "outputs": [
        {
          "output_type": "execute_result",
          "data": {
            "text/plain": [
              "25"
            ]
          },
          "metadata": {},
          "execution_count": 6
        }
      ]
    },
    {
      "cell_type": "code",
      "metadata": {
        "colab": {
          "base_uri": "https://localhost:8080/"
        },
        "id": "P4IOYXwb_jMs",
        "outputId": "964f18b7-1a4c-4dbe-9682-ce2ed8008444"
      },
      "source": [
        "repeatNtimes([1, 2], 5)"
      ],
      "execution_count": null,
      "outputs": [
        {
          "output_type": "execute_result",
          "data": {
            "text/plain": [
              "[1, 2, 1, 2, 1, 2, 1, 2, 1, 2]"
            ]
          },
          "metadata": {},
          "execution_count": 7
        }
      ]
    },
    {
      "cell_type": "code",
      "metadata": {
        "id": "gw_s5Wek4g-Z",
        "colab": {
          "base_uri": "https://localhost:8080/",
          "height": 35
        },
        "outputId": "d4fc2797-7697-411b-8a2f-4a8a46de3b1b"
      },
      "source": [
        "repeatNtimes2 = lambda string, n: string * n\n",
        "repeatNtimes2('Emsi', 5)"
      ],
      "execution_count": null,
      "outputs": [
        {
          "output_type": "execute_result",
          "data": {
            "text/plain": [
              "'EmsiEmsiEmsiEmsiEmsi'"
            ],
            "application/vnd.google.colaboratory.intrinsic+json": {
              "type": "string"
            }
          },
          "metadata": {},
          "execution_count": 8
        }
      ]
    },
    {
      "cell_type": "markdown",
      "metadata": {
        "id": "-iMssIVRa6hC"
      },
      "source": [
        "### Boucles"
      ]
    },
    {
      "cell_type": "code",
      "metadata": {
        "id": "w4fMXyhMa7s8",
        "colab": {
          "base_uri": "https://localhost:8080/"
        },
        "outputId": "17a20dae-1faa-45a4-eeb7-cfcb51f3a0f6"
      },
      "source": [
        "list_sentence = [\"Ceci\", \"est\", \"une\",\"phrase\"]\n",
        "for idx in range(len(list_sentence)):\n",
        "  word = list_sentence[idx]\n",
        "  print(word + \"!\")\n",
        "\n",
        "print('---\\n')\n",
        "\n",
        "for idx, word in enumerate(list_sentence):\n",
        "  print(idx, word + '***')\n",
        "\n",
        "print('---\\n')\n",
        "\n",
        "for word in list_sentence:\n",
        "  print(word)"
      ],
      "execution_count": null,
      "outputs": [
        {
          "output_type": "stream",
          "name": "stdout",
          "text": [
            "Ceci!\n",
            "est!\n",
            "une!\n",
            "phrase!\n",
            "---\n",
            "\n",
            "0 Ceci***\n",
            "1 est***\n",
            "2 une***\n",
            "3 phrase***\n",
            "---\n",
            "\n",
            "Ceci\n",
            "est\n",
            "une\n",
            "phrase\n"
          ]
        }
      ]
    },
    {
      "cell_type": "markdown",
      "metadata": {
        "id": "UnKeIAx3a2vE"
      },
      "source": [
        "### List comprehension"
      ]
    },
    {
      "cell_type": "code",
      "metadata": {
        "id": "HGIVmCEoazVW"
      },
      "source": [
        "list_sentence = [\"Ceci\", \"est\", \"une\", \"petite\", \"phrase\"]\n",
        "list2 = [x + '!' for x in list_sentence if x.startswith(\"p\")]"
      ],
      "execution_count": null,
      "outputs": []
    },
    {
      "cell_type": "code",
      "metadata": {
        "id": "DTvO6-euRtj_",
        "colab": {
          "base_uri": "https://localhost:8080/"
        },
        "outputId": "753e033f-ee44-492a-ab8a-e7b5f1b865e7"
      },
      "source": [
        "list2"
      ],
      "execution_count": null,
      "outputs": [
        {
          "output_type": "execute_result",
          "data": {
            "text/plain": [
              "['petite!', 'phrase!']"
            ]
          },
          "metadata": {},
          "execution_count": 11
        }
      ]
    },
    {
      "cell_type": "markdown",
      "metadata": {
        "id": "Le_0MyEW2bNy"
      },
      "source": [
        "##### C'est l'equivalent de:"
      ]
    },
    {
      "cell_type": "code",
      "metadata": {
        "id": "9zi1ebUo2eq6",
        "colab": {
          "base_uri": "https://localhost:8080/"
        },
        "outputId": "f747a41d-11a7-4f0c-fd32-235b13a43f3e"
      },
      "source": [
        "list_sentence = [\"Ceci\", \"est\", \"une\", \"petite\", \"phrase\"]\n",
        "list2 = []\n",
        "for x in list_sentence:\n",
        "  if x.startswith(\"p\"):\n",
        "    list2.append(x + '!')\n",
        "list2"
      ],
      "execution_count": null,
      "outputs": [
        {
          "output_type": "execute_result",
          "data": {
            "text/plain": [
              "['petite!', 'phrase!']"
            ]
          },
          "metadata": {},
          "execution_count": 12
        }
      ]
    },
    {
      "cell_type": "code",
      "metadata": {
        "id": "YCVqB9G1Q57v"
      },
      "source": [
        "x = 'string'"
      ],
      "execution_count": null,
      "outputs": []
    },
    {
      "cell_type": "code",
      "metadata": {
        "id": "l-xrgq3yQ9R0",
        "colab": {
          "base_uri": "https://localhost:8080/",
          "height": 35
        },
        "outputId": "ea916b19-6a3d-4aba-e585-5f685898c95b"
      },
      "source": [
        "'string'\n",
        "\"string\"\n",
        "\n",
        "'str\"ing'\n",
        "\"str'ing\""
      ],
      "execution_count": null,
      "outputs": [
        {
          "output_type": "execute_result",
          "data": {
            "text/plain": [
              "\"str'ing\""
            ],
            "application/vnd.google.colaboratory.intrinsic+json": {
              "type": "string"
            }
          },
          "metadata": {},
          "execution_count": 14
        }
      ]
    },
    {
      "cell_type": "markdown",
      "source": [
        "##Dictionnaires "
      ],
      "metadata": {
        "id": "us27WaOiix9Y"
      }
    },
    {
      "cell_type": "code",
      "metadata": {
        "id": "qLX2sv6dk9Ep"
      },
      "source": [
        "\n",
        "d = {'a': 0, 'b': 1, 'c': 2, 'd':3}"
      ],
      "execution_count": null,
      "outputs": []
    },
    {
      "cell_type": "code",
      "source": [
        "d.items()"
      ],
      "metadata": {
        "colab": {
          "base_uri": "https://localhost:8080/"
        },
        "id": "Mfy6DnN-j1SU",
        "outputId": "c77304a7-fef5-4c29-cea4-139ac25f8c3c"
      },
      "execution_count": null,
      "outputs": [
        {
          "output_type": "execute_result",
          "data": {
            "text/plain": [
              "dict_items([('a', 0), ('b', 1), ('c', 2), ('d', 3)])"
            ]
          },
          "metadata": {},
          "execution_count": 16
        }
      ]
    },
    {
      "cell_type": "code",
      "source": [
        "d.items?"
      ],
      "metadata": {
        "id": "W1uuG-1OlUMz"
      },
      "execution_count": null,
      "outputs": []
    },
    {
      "cell_type": "code",
      "metadata": {
        "id": "S1RXgG9Wk-Sy",
        "colab": {
          "base_uri": "https://localhost:8080/"
        },
        "outputId": "edeffd84-ae74-41d5-80ae-a8c3076b32f0"
      },
      "source": [
        "[item for item in d.items() if item[1] % 2 == 1]"
      ],
      "execution_count": null,
      "outputs": [
        {
          "output_type": "execute_result",
          "data": {
            "text/plain": [
              "[('b', 1), ('d', 3)]"
            ]
          },
          "metadata": {},
          "execution_count": 18
        }
      ]
    },
    {
      "cell_type": "code",
      "metadata": {
        "id": "tA4BK9OSz5U0",
        "colab": {
          "base_uri": "https://localhost:8080/"
        },
        "outputId": "9bc0d8e4-0022-4fc3-b610-e86581628813"
      },
      "source": [
        "\n",
        "[(key, value) for key, value in d.items() if value % 2 == 1]"
      ],
      "execution_count": null,
      "outputs": [
        {
          "output_type": "execute_result",
          "data": {
            "text/plain": [
              "[('b', 1), ('d', 3)]"
            ]
          },
          "metadata": {},
          "execution_count": 19
        }
      ]
    },
    {
      "cell_type": "code",
      "metadata": {
        "id": "Rae5ld-zl18Q"
      },
      "source": [
        "result = []\n",
        "for word in ['Data', 'Science']:\n",
        "  inner_list = []\n",
        "  for character in word:\n",
        "    if character!='a':\n",
        "      inner_list.append(character+\"!\")\n",
        "  result.append(inner_list)\n",
        "  "
      ],
      "execution_count": null,
      "outputs": []
    },
    {
      "cell_type": "code",
      "source": [
        "result"
      ],
      "metadata": {
        "colab": {
          "base_uri": "https://localhost:8080/"
        },
        "id": "nyakZgafnHzr",
        "outputId": "201db9ec-40b0-442c-ad8c-4a80180ddef1"
      },
      "execution_count": null,
      "outputs": [
        {
          "output_type": "execute_result",
          "data": {
            "text/plain": [
              "[['D!', 't!'], ['S!', 'c!', 'i!', 'e!', 'n!', 'c!', 'e!']]"
            ]
          },
          "metadata": {},
          "execution_count": 21
        }
      ]
    },
    {
      "cell_type": "code",
      "metadata": {
        "id": "m9hJ2JOf0ah5",
        "colab": {
          "base_uri": "https://localhost:8080/"
        },
        "outputId": "0a8ab84b-6fe0-45c2-b51d-df181ecce752"
      },
      "source": [
        "[[letter + '!' for letter in word if letter != 'a'] for word in ['Data', 'Science']]"
      ],
      "execution_count": null,
      "outputs": [
        {
          "output_type": "execute_result",
          "data": {
            "text/plain": [
              "[['D!', 't!'], ['S!', 'c!', 'i!', 'e!', 'n!', 'c!', 'e!']]"
            ]
          },
          "metadata": {},
          "execution_count": 22
        }
      ]
    },
    {
      "cell_type": "code",
      "metadata": {
        "id": "XfmeZAXFSh7X",
        "colab": {
          "base_uri": "https://localhost:8080/"
        },
        "outputId": "04c0ea4e-f255-4343-a385-3335cfb1225d"
      },
      "source": [
        "[[letter + '!' if letter == 'a' else letter + '?' for letter in word ] for word in ['Data', 'Science']]"
      ],
      "execution_count": null,
      "outputs": [
        {
          "output_type": "execute_result",
          "data": {
            "text/plain": [
              "[['D?', 'a!', 't?', 'a!'], ['S?', 'c?', 'i?', 'e?', 'n?', 'c?', 'e?']]"
            ]
          },
          "metadata": {},
          "execution_count": 23
        }
      ]
    },
    {
      "cell_type": "markdown",
      "metadata": {
        "id": "JU7DQLnsdkQ7"
      },
      "source": [
        "# L'Ecosysteme Python"
      ]
    },
    {
      "cell_type": "code",
      "metadata": {
        "id": "vKsJmeJ3fH1P",
        "cellView": "form",
        "colab": {
          "base_uri": "https://localhost:8080/",
          "height": 299
        },
        "outputId": "ee49a67a-33e6-4b6e-b053-0fcd31356d4e"
      },
      "source": [
        "#@title .\n",
        "%%html\n",
        "<figure>\n",
        "<center>\n",
        "<img src='https://i.imgur.com/x6edHHj.png' width=400 height=250/>\n",
        "<figcaption></figcaption></center>\n",
        "</figure>"
      ],
      "execution_count": null,
      "outputs": [
        {
          "output_type": "display_data",
          "data": {
            "text/plain": [
              "<IPython.core.display.HTML object>"
            ],
            "text/html": [
              "<figure>\n",
              "<center>\n",
              "<img src='https://i.imgur.com/x6edHHj.png' width=400 height=250/>\n",
              "<figcaption></figcaption></center>\n",
              "</figure>\n"
            ]
          },
          "metadata": {}
        }
      ]
    },
    {
      "cell_type": "code",
      "metadata": {
        "id": "oYZc927XcHL7",
        "cellView": "form",
        "colab": {
          "base_uri": "https://localhost:8080/",
          "height": 449
        },
        "outputId": "1973f005-aa13-4bc5-e77e-c329b737e6f3"
      },
      "source": [
        "#@title .\n",
        "%%html\n",
        "<figure>\n",
        "<center>\n",
        "<img src='http://chris35wills.github.io/courses/pydata_stack.png' height=400 width=800/>\n",
        "<figcaption></figcaption></center>\n",
        "</figure>"
      ],
      "execution_count": null,
      "outputs": [
        {
          "output_type": "display_data",
          "data": {
            "text/plain": [
              "<IPython.core.display.HTML object>"
            ],
            "text/html": [
              "<figure>\n",
              "<center>\n",
              "<img src='http://chris35wills.github.io/courses/pydata_stack.png' height=400 width=800/>\n",
              "<figcaption></figcaption></center>\n",
              "</figure>\n"
            ]
          },
          "metadata": {}
        }
      ]
    },
    {
      "cell_type": "markdown",
      "metadata": {
        "id": "jb402K3F23RQ"
      },
      "source": [
        "\n",
        "* **Numpy** : Tableaux à N dimensions, matrices et algèbre linéaire.\n",
        "* **Scipy** : Algorithmes d'algèbre linéaire, optimisation, statistiques et traitement de signal.\n",
        "* **Pandas** : Manipulation et analyse de données\n",
        "* **Matplotlib** : Visualisation de données\n",
        "* **IPython** : Shell interactif pour Python\n",
        "* **Scikit-learn** : Apprentissage automatique (Machine Learning)\n",
        "\n"
      ]
    },
    {
      "cell_type": "markdown",
      "metadata": {
        "id": "hKrk3NsiqtDE"
      },
      "source": [
        "# Anaconda\n",
        "\n",
        "* Un ensemble de bibliothèques de science des données, d'apprentissage automatique et de visualisation. \n",
        "\n",
        "* Contient toutes les bibliothèques dont vous aurez besoin dans ce cours.\n",
        "\n",
        "* Le moyen le plus simple d'éviter les problèmes d'interdépendance. \n",
        "\n",
        "## Installation\n",
        "\n",
        "1. Allez sur : https://www.anaconda.com/distribution/\n",
        "\n",
        "2. Téléchargez le programme d'installation pour votre système d'exploitation et la version de Python de votre choix et suivez les instructions.\n",
        "\n",
        "3. ???? \n",
        "\n",
        "4. PROFITEZ !\n",
        "\n",
        "# Jupyter Notebook\n",
        "\n",
        "* Un carnet de notes sur navigateur avec support pour le code, le texte, les expressions mathématiques, les graphes en ligne et autres médias riches.\n",
        "\n",
        "* Cette présentation est un Jupyter Notebook. \n",
        "\n",
        "# Colab\n",
        "\n",
        "* Colaboratory est un environnement de Jupyter Notebooks gratuit qui ne nécessite aucune installation et fonctionne entièrement dans le Cloud.\n",
        "\n",
        "* Avec Colaboratory, vous pouvez écrire et exécuter du code, enregistrer et partager vos analyses, et accéder à de puissantes ressources informatiques, le tout gratuitement depuis votre navigateur.\n",
        "\n",
        "* Cette présentation est un Jupyter notebook, sur Colab !"
      ]
    },
    {
      "cell_type": "markdown",
      "metadata": {
        "id": "bCnNj78hzKC-"
      },
      "source": [
        "# Pandas"
      ]
    },
    {
      "cell_type": "markdown",
      "metadata": {
        "id": "CFEpHGkdz3gs"
      },
      "source": [
        "* Pandas est une bibliothèque pour la manipulation et l'analyse des données.\n",
        "\n",
        "* Structures de données : Séries et DataFrame (données tabulaires)\n",
        "\n",
        "* Les données sont chargées en mémoire, d'où leur rapidité (mais ce n'est pas idéal pour les ensembles de données dont l'échelle est supérieure à la taille de la mémoire)."
      ]
    },
    {
      "cell_type": "code",
      "metadata": {
        "id": "h-200A41ffPy",
        "cellView": "form",
        "colab": {
          "base_uri": "https://localhost:8080/",
          "height": 349
        },
        "outputId": "83a20bac-0fb5-47e7-f10a-8dc1f23b403e"
      },
      "source": [
        "#@title .\n",
        "%%html\n",
        "<figure>\n",
        "<center>\n",
        "<img src='https://i.imgur.com/JnxMvrq.png' width=300 height=300/>\n",
        "<figcaption></figcaption></center>\n",
        "</figure>"
      ],
      "execution_count": null,
      "outputs": [
        {
          "output_type": "display_data",
          "data": {
            "text/plain": [
              "<IPython.core.display.HTML object>"
            ],
            "text/html": [
              "<figure>\n",
              "<center>\n",
              "<img src='https://i.imgur.com/JnxMvrq.png' width=300 height=300/>\n",
              "<figcaption></figcaption></center>\n",
              "</figure>\n"
            ]
          },
          "metadata": {}
        }
      ]
    },
    {
      "cell_type": "code",
      "metadata": {
        "id": "OXfluQjOzd9_"
      },
      "source": [
        "import pandas as pd"
      ],
      "execution_count": null,
      "outputs": []
    },
    {
      "cell_type": "markdown",
      "metadata": {
        "id": "j33m3T4r_mna"
      },
      "source": [
        "# Lire un fichier"
      ]
    },
    {
      "cell_type": "code",
      "metadata": {
        "id": "eO0voBpHTl6C"
      },
      "source": [
        "ted_main = pd.read_csv('https://raw.githubusercontent.com/EMSIMa/DS/main/ted_main.csv')"
      ],
      "execution_count": null,
      "outputs": []
    },
    {
      "cell_type": "code",
      "metadata": {
        "id": "-UjcnxJrVEuf"
      },
      "source": [
        "transcripts = pd.read_csv('https://raw.githubusercontent.com/EMSIMa/DS/main/transcripts.csv')"
      ],
      "execution_count": null,
      "outputs": []
    },
    {
      "cell_type": "markdown",
      "metadata": {
        "id": "mSpgd0t-_sxs"
      },
      "source": [
        "## A quoi ressemblent les données ?"
      ]
    },
    {
      "cell_type": "code",
      "metadata": {
        "id": "4ZXOTSoMnfLd",
        "colab": {
          "base_uri": "https://localhost:8080/",
          "height": 652
        },
        "outputId": "7fb00ad8-9230-47d5-8419-20e783444fc4"
      },
      "source": [
        "ted_main.head()"
      ],
      "execution_count": null,
      "outputs": [
        {
          "output_type": "execute_result",
          "data": {
            "text/plain": [
              "   comments                                        description  duration  \\\n",
              "0      4553  Sir Ken Robinson makes an entertaining and pro...      1164   \n",
              "1       265  With the same humor and humanity he exuded in ...       977   \n",
              "2       124  New York Times columnist David Pogue takes aim...      1286   \n",
              "3       200  In an emotionally charged talk, MacArthur-winn...      1116   \n",
              "4       593  You've never seen data presented like this. Wi...      1190   \n",
              "\n",
              "     event   film_date  languages   main_speaker  \\\n",
              "0  TED2006  1140825600         60   Ken Robinson   \n",
              "1  TED2006  1140825600         43        Al Gore   \n",
              "2  TED2006  1140739200         26    David Pogue   \n",
              "3  TED2006  1140912000         35  Majora Carter   \n",
              "4  TED2006  1140566400         48   Hans Rosling   \n",
              "\n",
              "                                            name  num_speaker  published_date  \\\n",
              "0      Ken Robinson: Do schools kill creativity?            1      1151367060   \n",
              "1           Al Gore: Averting the climate crisis            1      1151367060   \n",
              "2                  David Pogue: Simplicity sells            1      1151367060   \n",
              "3             Majora Carter: Greening the ghetto            1      1151367060   \n",
              "4  Hans Rosling: The best stats you've ever seen            1      1151440680   \n",
              "\n",
              "                                             ratings  \\\n",
              "0  [{'id': 7, 'name': 'Funny', 'count': 19645}, {...   \n",
              "1  [{'id': 7, 'name': 'Funny', 'count': 544}, {'i...   \n",
              "2  [{'id': 7, 'name': 'Funny', 'count': 964}, {'i...   \n",
              "3  [{'id': 3, 'name': 'Courageous', 'count': 760}...   \n",
              "4  [{'id': 9, 'name': 'Ingenious', 'count': 3202}...   \n",
              "\n",
              "                                       related_talks  \\\n",
              "0  [{'id': 865, 'hero': 'https://pe.tedcdn.com/im...   \n",
              "1  [{'id': 243, 'hero': 'https://pe.tedcdn.com/im...   \n",
              "2  [{'id': 1725, 'hero': 'https://pe.tedcdn.com/i...   \n",
              "3  [{'id': 1041, 'hero': 'https://pe.tedcdn.com/i...   \n",
              "4  [{'id': 2056, 'hero': 'https://pe.tedcdn.com/i...   \n",
              "\n",
              "                     speaker_occupation  \\\n",
              "0                       Author/educator   \n",
              "1                      Climate advocate   \n",
              "2                  Technology columnist   \n",
              "3    Activist for environmental justice   \n",
              "4  Global health expert; data visionary   \n",
              "\n",
              "                                                tags  \\\n",
              "0  ['children', 'creativity', 'culture', 'dance',...   \n",
              "1  ['alternative energy', 'cars', 'climate change...   \n",
              "2  ['computers', 'entertainment', 'interface desi...   \n",
              "3  ['MacArthur grant', 'activism', 'business', 'c...   \n",
              "4  ['Africa', 'Asia', 'Google', 'demo', 'economic...   \n",
              "\n",
              "                             title  \\\n",
              "0      Do schools kill creativity?   \n",
              "1      Averting the climate crisis   \n",
              "2                 Simplicity sells   \n",
              "3              Greening the ghetto   \n",
              "4  The best stats you've ever seen   \n",
              "\n",
              "                                                 url     views  \n",
              "0  https://www.ted.com/talks/ken_robinson_says_sc...  47227110  \n",
              "1  https://www.ted.com/talks/al_gore_on_averting_...   3200520  \n",
              "2  https://www.ted.com/talks/david_pogue_says_sim...   1636292  \n",
              "3  https://www.ted.com/talks/majora_carter_s_tale...   1697550  \n",
              "4  https://www.ted.com/talks/hans_rosling_shows_t...  12005869  "
            ],
            "text/html": [
              "\n",
              "  <div id=\"df-e061aa69-2967-44b8-9c76-735dc157ea5e\">\n",
              "    <div class=\"colab-df-container\">\n",
              "      <div>\n",
              "<style scoped>\n",
              "    .dataframe tbody tr th:only-of-type {\n",
              "        vertical-align: middle;\n",
              "    }\n",
              "\n",
              "    .dataframe tbody tr th {\n",
              "        vertical-align: top;\n",
              "    }\n",
              "\n",
              "    .dataframe thead th {\n",
              "        text-align: right;\n",
              "    }\n",
              "</style>\n",
              "<table border=\"1\" class=\"dataframe\">\n",
              "  <thead>\n",
              "    <tr style=\"text-align: right;\">\n",
              "      <th></th>\n",
              "      <th>comments</th>\n",
              "      <th>description</th>\n",
              "      <th>duration</th>\n",
              "      <th>event</th>\n",
              "      <th>film_date</th>\n",
              "      <th>languages</th>\n",
              "      <th>main_speaker</th>\n",
              "      <th>name</th>\n",
              "      <th>num_speaker</th>\n",
              "      <th>published_date</th>\n",
              "      <th>ratings</th>\n",
              "      <th>related_talks</th>\n",
              "      <th>speaker_occupation</th>\n",
              "      <th>tags</th>\n",
              "      <th>title</th>\n",
              "      <th>url</th>\n",
              "      <th>views</th>\n",
              "    </tr>\n",
              "  </thead>\n",
              "  <tbody>\n",
              "    <tr>\n",
              "      <th>0</th>\n",
              "      <td>4553</td>\n",
              "      <td>Sir Ken Robinson makes an entertaining and pro...</td>\n",
              "      <td>1164</td>\n",
              "      <td>TED2006</td>\n",
              "      <td>1140825600</td>\n",
              "      <td>60</td>\n",
              "      <td>Ken Robinson</td>\n",
              "      <td>Ken Robinson: Do schools kill creativity?</td>\n",
              "      <td>1</td>\n",
              "      <td>1151367060</td>\n",
              "      <td>[{'id': 7, 'name': 'Funny', 'count': 19645}, {...</td>\n",
              "      <td>[{'id': 865, 'hero': 'https://pe.tedcdn.com/im...</td>\n",
              "      <td>Author/educator</td>\n",
              "      <td>['children', 'creativity', 'culture', 'dance',...</td>\n",
              "      <td>Do schools kill creativity?</td>\n",
              "      <td>https://www.ted.com/talks/ken_robinson_says_sc...</td>\n",
              "      <td>47227110</td>\n",
              "    </tr>\n",
              "    <tr>\n",
              "      <th>1</th>\n",
              "      <td>265</td>\n",
              "      <td>With the same humor and humanity he exuded in ...</td>\n",
              "      <td>977</td>\n",
              "      <td>TED2006</td>\n",
              "      <td>1140825600</td>\n",
              "      <td>43</td>\n",
              "      <td>Al Gore</td>\n",
              "      <td>Al Gore: Averting the climate crisis</td>\n",
              "      <td>1</td>\n",
              "      <td>1151367060</td>\n",
              "      <td>[{'id': 7, 'name': 'Funny', 'count': 544}, {'i...</td>\n",
              "      <td>[{'id': 243, 'hero': 'https://pe.tedcdn.com/im...</td>\n",
              "      <td>Climate advocate</td>\n",
              "      <td>['alternative energy', 'cars', 'climate change...</td>\n",
              "      <td>Averting the climate crisis</td>\n",
              "      <td>https://www.ted.com/talks/al_gore_on_averting_...</td>\n",
              "      <td>3200520</td>\n",
              "    </tr>\n",
              "    <tr>\n",
              "      <th>2</th>\n",
              "      <td>124</td>\n",
              "      <td>New York Times columnist David Pogue takes aim...</td>\n",
              "      <td>1286</td>\n",
              "      <td>TED2006</td>\n",
              "      <td>1140739200</td>\n",
              "      <td>26</td>\n",
              "      <td>David Pogue</td>\n",
              "      <td>David Pogue: Simplicity sells</td>\n",
              "      <td>1</td>\n",
              "      <td>1151367060</td>\n",
              "      <td>[{'id': 7, 'name': 'Funny', 'count': 964}, {'i...</td>\n",
              "      <td>[{'id': 1725, 'hero': 'https://pe.tedcdn.com/i...</td>\n",
              "      <td>Technology columnist</td>\n",
              "      <td>['computers', 'entertainment', 'interface desi...</td>\n",
              "      <td>Simplicity sells</td>\n",
              "      <td>https://www.ted.com/talks/david_pogue_says_sim...</td>\n",
              "      <td>1636292</td>\n",
              "    </tr>\n",
              "    <tr>\n",
              "      <th>3</th>\n",
              "      <td>200</td>\n",
              "      <td>In an emotionally charged talk, MacArthur-winn...</td>\n",
              "      <td>1116</td>\n",
              "      <td>TED2006</td>\n",
              "      <td>1140912000</td>\n",
              "      <td>35</td>\n",
              "      <td>Majora Carter</td>\n",
              "      <td>Majora Carter: Greening the ghetto</td>\n",
              "      <td>1</td>\n",
              "      <td>1151367060</td>\n",
              "      <td>[{'id': 3, 'name': 'Courageous', 'count': 760}...</td>\n",
              "      <td>[{'id': 1041, 'hero': 'https://pe.tedcdn.com/i...</td>\n",
              "      <td>Activist for environmental justice</td>\n",
              "      <td>['MacArthur grant', 'activism', 'business', 'c...</td>\n",
              "      <td>Greening the ghetto</td>\n",
              "      <td>https://www.ted.com/talks/majora_carter_s_tale...</td>\n",
              "      <td>1697550</td>\n",
              "    </tr>\n",
              "    <tr>\n",
              "      <th>4</th>\n",
              "      <td>593</td>\n",
              "      <td>You've never seen data presented like this. Wi...</td>\n",
              "      <td>1190</td>\n",
              "      <td>TED2006</td>\n",
              "      <td>1140566400</td>\n",
              "      <td>48</td>\n",
              "      <td>Hans Rosling</td>\n",
              "      <td>Hans Rosling: The best stats you've ever seen</td>\n",
              "      <td>1</td>\n",
              "      <td>1151440680</td>\n",
              "      <td>[{'id': 9, 'name': 'Ingenious', 'count': 3202}...</td>\n",
              "      <td>[{'id': 2056, 'hero': 'https://pe.tedcdn.com/i...</td>\n",
              "      <td>Global health expert; data visionary</td>\n",
              "      <td>['Africa', 'Asia', 'Google', 'demo', 'economic...</td>\n",
              "      <td>The best stats you've ever seen</td>\n",
              "      <td>https://www.ted.com/talks/hans_rosling_shows_t...</td>\n",
              "      <td>12005869</td>\n",
              "    </tr>\n",
              "  </tbody>\n",
              "</table>\n",
              "</div>\n",
              "      <button class=\"colab-df-convert\" onclick=\"convertToInteractive('df-e061aa69-2967-44b8-9c76-735dc157ea5e')\"\n",
              "              title=\"Convert this dataframe to an interactive table.\"\n",
              "              style=\"display:none;\">\n",
              "        \n",
              "  <svg xmlns=\"http://www.w3.org/2000/svg\" height=\"24px\"viewBox=\"0 0 24 24\"\n",
              "       width=\"24px\">\n",
              "    <path d=\"M0 0h24v24H0V0z\" fill=\"none\"/>\n",
              "    <path d=\"M18.56 5.44l.94 2.06.94-2.06 2.06-.94-2.06-.94-.94-2.06-.94 2.06-2.06.94zm-11 1L8.5 8.5l.94-2.06 2.06-.94-2.06-.94L8.5 2.5l-.94 2.06-2.06.94zm10 10l.94 2.06.94-2.06 2.06-.94-2.06-.94-.94-2.06-.94 2.06-2.06.94z\"/><path d=\"M17.41 7.96l-1.37-1.37c-.4-.4-.92-.59-1.43-.59-.52 0-1.04.2-1.43.59L10.3 9.45l-7.72 7.72c-.78.78-.78 2.05 0 2.83L4 21.41c.39.39.9.59 1.41.59.51 0 1.02-.2 1.41-.59l7.78-7.78 2.81-2.81c.8-.78.8-2.07 0-2.86zM5.41 20L4 18.59l7.72-7.72 1.47 1.35L5.41 20z\"/>\n",
              "  </svg>\n",
              "      </button>\n",
              "      \n",
              "  <style>\n",
              "    .colab-df-container {\n",
              "      display:flex;\n",
              "      flex-wrap:wrap;\n",
              "      gap: 12px;\n",
              "    }\n",
              "\n",
              "    .colab-df-convert {\n",
              "      background-color: #E8F0FE;\n",
              "      border: none;\n",
              "      border-radius: 50%;\n",
              "      cursor: pointer;\n",
              "      display: none;\n",
              "      fill: #1967D2;\n",
              "      height: 32px;\n",
              "      padding: 0 0 0 0;\n",
              "      width: 32px;\n",
              "    }\n",
              "\n",
              "    .colab-df-convert:hover {\n",
              "      background-color: #E2EBFA;\n",
              "      box-shadow: 0px 1px 2px rgba(60, 64, 67, 0.3), 0px 1px 3px 1px rgba(60, 64, 67, 0.15);\n",
              "      fill: #174EA6;\n",
              "    }\n",
              "\n",
              "    [theme=dark] .colab-df-convert {\n",
              "      background-color: #3B4455;\n",
              "      fill: #D2E3FC;\n",
              "    }\n",
              "\n",
              "    [theme=dark] .colab-df-convert:hover {\n",
              "      background-color: #434B5C;\n",
              "      box-shadow: 0px 1px 3px 1px rgba(0, 0, 0, 0.15);\n",
              "      filter: drop-shadow(0px 1px 2px rgba(0, 0, 0, 0.3));\n",
              "      fill: #FFFFFF;\n",
              "    }\n",
              "  </style>\n",
              "\n",
              "      <script>\n",
              "        const buttonEl =\n",
              "          document.querySelector('#df-e061aa69-2967-44b8-9c76-735dc157ea5e button.colab-df-convert');\n",
              "        buttonEl.style.display =\n",
              "          google.colab.kernel.accessAllowed ? 'block' : 'none';\n",
              "\n",
              "        async function convertToInteractive(key) {\n",
              "          const element = document.querySelector('#df-e061aa69-2967-44b8-9c76-735dc157ea5e');\n",
              "          const dataTable =\n",
              "            await google.colab.kernel.invokeFunction('convertToInteractive',\n",
              "                                                     [key], {});\n",
              "          if (!dataTable) return;\n",
              "\n",
              "          const docLinkHtml = 'Like what you see? Visit the ' +\n",
              "            '<a target=\"_blank\" href=https://colab.research.google.com/notebooks/data_table.ipynb>data table notebook</a>'\n",
              "            + ' to learn more about interactive tables.';\n",
              "          element.innerHTML = '';\n",
              "          dataTable['output_type'] = 'display_data';\n",
              "          await google.colab.output.renderOutput(dataTable, element);\n",
              "          const docLink = document.createElement('div');\n",
              "          docLink.innerHTML = docLinkHtml;\n",
              "          element.appendChild(docLink);\n",
              "        }\n",
              "      </script>\n",
              "    </div>\n",
              "  </div>\n",
              "  "
            ]
          },
          "metadata": {},
          "execution_count": 30
        }
      ]
    },
    {
      "cell_type": "code",
      "metadata": {
        "id": "bSqRf5vnA3Lf",
        "colab": {
          "base_uri": "https://localhost:8080/"
        },
        "outputId": "f3d77e75-4d1b-4546-ff73-c83f7415d405"
      },
      "source": [
        "# Affiche le nombre de lignes et de colonnes dans les données.\n",
        "\n",
        "ted_main.shape"
      ],
      "execution_count": null,
      "outputs": [
        {
          "output_type": "execute_result",
          "data": {
            "text/plain": [
              "(2550, 17)"
            ]
          },
          "metadata": {},
          "execution_count": 31
        }
      ]
    },
    {
      "cell_type": "code",
      "metadata": {
        "id": "wK9VzLW0_sTV",
        "colab": {
          "base_uri": "https://localhost:8080/",
          "height": 350
        },
        "outputId": "e86936a3-ed4a-412e-dc9b-85c999d546bd"
      },
      "source": [
        "# Affiche les deux premières lignes\n",
        "ted_main.head(2)"
      ],
      "execution_count": null,
      "outputs": [
        {
          "output_type": "execute_result",
          "data": {
            "text/plain": [
              "   comments                                        description  duration  \\\n",
              "0      4553  Sir Ken Robinson makes an entertaining and pro...      1164   \n",
              "1       265  With the same humor and humanity he exuded in ...       977   \n",
              "\n",
              "     event   film_date  languages  main_speaker  \\\n",
              "0  TED2006  1140825600         60  Ken Robinson   \n",
              "1  TED2006  1140825600         43       Al Gore   \n",
              "\n",
              "                                        name  num_speaker  published_date  \\\n",
              "0  Ken Robinson: Do schools kill creativity?            1      1151367060   \n",
              "1       Al Gore: Averting the climate crisis            1      1151367060   \n",
              "\n",
              "                                             ratings  \\\n",
              "0  [{'id': 7, 'name': 'Funny', 'count': 19645}, {...   \n",
              "1  [{'id': 7, 'name': 'Funny', 'count': 544}, {'i...   \n",
              "\n",
              "                                       related_talks speaker_occupation  \\\n",
              "0  [{'id': 865, 'hero': 'https://pe.tedcdn.com/im...    Author/educator   \n",
              "1  [{'id': 243, 'hero': 'https://pe.tedcdn.com/im...   Climate advocate   \n",
              "\n",
              "                                                tags  \\\n",
              "0  ['children', 'creativity', 'culture', 'dance',...   \n",
              "1  ['alternative energy', 'cars', 'climate change...   \n",
              "\n",
              "                         title  \\\n",
              "0  Do schools kill creativity?   \n",
              "1  Averting the climate crisis   \n",
              "\n",
              "                                                 url     views  \n",
              "0  https://www.ted.com/talks/ken_robinson_says_sc...  47227110  \n",
              "1  https://www.ted.com/talks/al_gore_on_averting_...   3200520  "
            ],
            "text/html": [
              "\n",
              "  <div id=\"df-fd35e7ee-4147-4984-a22c-218dba49a5db\">\n",
              "    <div class=\"colab-df-container\">\n",
              "      <div>\n",
              "<style scoped>\n",
              "    .dataframe tbody tr th:only-of-type {\n",
              "        vertical-align: middle;\n",
              "    }\n",
              "\n",
              "    .dataframe tbody tr th {\n",
              "        vertical-align: top;\n",
              "    }\n",
              "\n",
              "    .dataframe thead th {\n",
              "        text-align: right;\n",
              "    }\n",
              "</style>\n",
              "<table border=\"1\" class=\"dataframe\">\n",
              "  <thead>\n",
              "    <tr style=\"text-align: right;\">\n",
              "      <th></th>\n",
              "      <th>comments</th>\n",
              "      <th>description</th>\n",
              "      <th>duration</th>\n",
              "      <th>event</th>\n",
              "      <th>film_date</th>\n",
              "      <th>languages</th>\n",
              "      <th>main_speaker</th>\n",
              "      <th>name</th>\n",
              "      <th>num_speaker</th>\n",
              "      <th>published_date</th>\n",
              "      <th>ratings</th>\n",
              "      <th>related_talks</th>\n",
              "      <th>speaker_occupation</th>\n",
              "      <th>tags</th>\n",
              "      <th>title</th>\n",
              "      <th>url</th>\n",
              "      <th>views</th>\n",
              "    </tr>\n",
              "  </thead>\n",
              "  <tbody>\n",
              "    <tr>\n",
              "      <th>0</th>\n",
              "      <td>4553</td>\n",
              "      <td>Sir Ken Robinson makes an entertaining and pro...</td>\n",
              "      <td>1164</td>\n",
              "      <td>TED2006</td>\n",
              "      <td>1140825600</td>\n",
              "      <td>60</td>\n",
              "      <td>Ken Robinson</td>\n",
              "      <td>Ken Robinson: Do schools kill creativity?</td>\n",
              "      <td>1</td>\n",
              "      <td>1151367060</td>\n",
              "      <td>[{'id': 7, 'name': 'Funny', 'count': 19645}, {...</td>\n",
              "      <td>[{'id': 865, 'hero': 'https://pe.tedcdn.com/im...</td>\n",
              "      <td>Author/educator</td>\n",
              "      <td>['children', 'creativity', 'culture', 'dance',...</td>\n",
              "      <td>Do schools kill creativity?</td>\n",
              "      <td>https://www.ted.com/talks/ken_robinson_says_sc...</td>\n",
              "      <td>47227110</td>\n",
              "    </tr>\n",
              "    <tr>\n",
              "      <th>1</th>\n",
              "      <td>265</td>\n",
              "      <td>With the same humor and humanity he exuded in ...</td>\n",
              "      <td>977</td>\n",
              "      <td>TED2006</td>\n",
              "      <td>1140825600</td>\n",
              "      <td>43</td>\n",
              "      <td>Al Gore</td>\n",
              "      <td>Al Gore: Averting the climate crisis</td>\n",
              "      <td>1</td>\n",
              "      <td>1151367060</td>\n",
              "      <td>[{'id': 7, 'name': 'Funny', 'count': 544}, {'i...</td>\n",
              "      <td>[{'id': 243, 'hero': 'https://pe.tedcdn.com/im...</td>\n",
              "      <td>Climate advocate</td>\n",
              "      <td>['alternative energy', 'cars', 'climate change...</td>\n",
              "      <td>Averting the climate crisis</td>\n",
              "      <td>https://www.ted.com/talks/al_gore_on_averting_...</td>\n",
              "      <td>3200520</td>\n",
              "    </tr>\n",
              "  </tbody>\n",
              "</table>\n",
              "</div>\n",
              "      <button class=\"colab-df-convert\" onclick=\"convertToInteractive('df-fd35e7ee-4147-4984-a22c-218dba49a5db')\"\n",
              "              title=\"Convert this dataframe to an interactive table.\"\n",
              "              style=\"display:none;\">\n",
              "        \n",
              "  <svg xmlns=\"http://www.w3.org/2000/svg\" height=\"24px\"viewBox=\"0 0 24 24\"\n",
              "       width=\"24px\">\n",
              "    <path d=\"M0 0h24v24H0V0z\" fill=\"none\"/>\n",
              "    <path d=\"M18.56 5.44l.94 2.06.94-2.06 2.06-.94-2.06-.94-.94-2.06-.94 2.06-2.06.94zm-11 1L8.5 8.5l.94-2.06 2.06-.94-2.06-.94L8.5 2.5l-.94 2.06-2.06.94zm10 10l.94 2.06.94-2.06 2.06-.94-2.06-.94-.94-2.06-.94 2.06-2.06.94z\"/><path d=\"M17.41 7.96l-1.37-1.37c-.4-.4-.92-.59-1.43-.59-.52 0-1.04.2-1.43.59L10.3 9.45l-7.72 7.72c-.78.78-.78 2.05 0 2.83L4 21.41c.39.39.9.59 1.41.59.51 0 1.02-.2 1.41-.59l7.78-7.78 2.81-2.81c.8-.78.8-2.07 0-2.86zM5.41 20L4 18.59l7.72-7.72 1.47 1.35L5.41 20z\"/>\n",
              "  </svg>\n",
              "      </button>\n",
              "      \n",
              "  <style>\n",
              "    .colab-df-container {\n",
              "      display:flex;\n",
              "      flex-wrap:wrap;\n",
              "      gap: 12px;\n",
              "    }\n",
              "\n",
              "    .colab-df-convert {\n",
              "      background-color: #E8F0FE;\n",
              "      border: none;\n",
              "      border-radius: 50%;\n",
              "      cursor: pointer;\n",
              "      display: none;\n",
              "      fill: #1967D2;\n",
              "      height: 32px;\n",
              "      padding: 0 0 0 0;\n",
              "      width: 32px;\n",
              "    }\n",
              "\n",
              "    .colab-df-convert:hover {\n",
              "      background-color: #E2EBFA;\n",
              "      box-shadow: 0px 1px 2px rgba(60, 64, 67, 0.3), 0px 1px 3px 1px rgba(60, 64, 67, 0.15);\n",
              "      fill: #174EA6;\n",
              "    }\n",
              "\n",
              "    [theme=dark] .colab-df-convert {\n",
              "      background-color: #3B4455;\n",
              "      fill: #D2E3FC;\n",
              "    }\n",
              "\n",
              "    [theme=dark] .colab-df-convert:hover {\n",
              "      background-color: #434B5C;\n",
              "      box-shadow: 0px 1px 3px 1px rgba(0, 0, 0, 0.15);\n",
              "      filter: drop-shadow(0px 1px 2px rgba(0, 0, 0, 0.3));\n",
              "      fill: #FFFFFF;\n",
              "    }\n",
              "  </style>\n",
              "\n",
              "      <script>\n",
              "        const buttonEl =\n",
              "          document.querySelector('#df-fd35e7ee-4147-4984-a22c-218dba49a5db button.colab-df-convert');\n",
              "        buttonEl.style.display =\n",
              "          google.colab.kernel.accessAllowed ? 'block' : 'none';\n",
              "\n",
              "        async function convertToInteractive(key) {\n",
              "          const element = document.querySelector('#df-fd35e7ee-4147-4984-a22c-218dba49a5db');\n",
              "          const dataTable =\n",
              "            await google.colab.kernel.invokeFunction('convertToInteractive',\n",
              "                                                     [key], {});\n",
              "          if (!dataTable) return;\n",
              "\n",
              "          const docLinkHtml = 'Like what you see? Visit the ' +\n",
              "            '<a target=\"_blank\" href=https://colab.research.google.com/notebooks/data_table.ipynb>data table notebook</a>'\n",
              "            + ' to learn more about interactive tables.';\n",
              "          element.innerHTML = '';\n",
              "          dataTable['output_type'] = 'display_data';\n",
              "          await google.colab.output.renderOutput(dataTable, element);\n",
              "          const docLink = document.createElement('div');\n",
              "          docLink.innerHTML = docLinkHtml;\n",
              "          element.appendChild(docLink);\n",
              "        }\n",
              "      </script>\n",
              "    </div>\n",
              "  </div>\n",
              "  "
            ]
          },
          "metadata": {},
          "execution_count": 32
        }
      ]
    },
    {
      "cell_type": "code",
      "source": [
        "# afficher une certaine colonne\n",
        "ted_main['name']"
      ],
      "metadata": {
        "colab": {
          "base_uri": "https://localhost:8080/"
        },
        "id": "sdjbJ0Ev9wY0",
        "outputId": "f832c120-d72d-4dd1-93f7-b397e905eb56"
      },
      "execution_count": null,
      "outputs": [
        {
          "output_type": "execute_result",
          "data": {
            "text/plain": [
              "0               Ken Robinson: Do schools kill creativity?\n",
              "1                    Al Gore: Averting the climate crisis\n",
              "2                           David Pogue: Simplicity sells\n",
              "3                      Majora Carter: Greening the ghetto\n",
              "4           Hans Rosling: The best stats you've ever seen\n",
              "                              ...                        \n",
              "2545    Duarte Geraldino: What we're missing in the de...\n",
              "2546    Armando Azua-Bustos: The most Martian place on...\n",
              "2547    Radhika Nagpal: What intelligent machines can ...\n",
              "2548    Theo E.J. Wilson: A black man goes undercover ...\n",
              "2549    Karoliina Korppoo: How a video game might help...\n",
              "Name: name, Length: 2550, dtype: object"
            ]
          },
          "metadata": {},
          "execution_count": 33
        }
      ]
    },
    {
      "cell_type": "code",
      "metadata": {
        "id": "n9oG6yxL95_G",
        "colab": {
          "base_uri": "https://localhost:8080/"
        },
        "outputId": "7eba001c-187a-4538-e3c2-3b68a549b229"
      },
      "source": [
        "ted_main.shape, ted_main[['name','comments']].shape"
      ],
      "execution_count": null,
      "outputs": [
        {
          "output_type": "execute_result",
          "data": {
            "text/plain": [
              "((2550, 17), (2550, 2))"
            ]
          },
          "metadata": {},
          "execution_count": 34
        }
      ]
    },
    {
      "cell_type": "code",
      "metadata": {
        "id": "RqP5zlZvgt5Y",
        "colab": {
          "base_uri": "https://localhost:8080/"
        },
        "outputId": "c37ead72-19f3-48e2-f224-222c72e45e01"
      },
      "source": [
        "# differente notation\n",
        "ted_main.url"
      ],
      "execution_count": null,
      "outputs": [
        {
          "output_type": "execute_result",
          "data": {
            "text/plain": [
              "0       https://www.ted.com/talks/ken_robinson_says_sc...\n",
              "1       https://www.ted.com/talks/al_gore_on_averting_...\n",
              "2       https://www.ted.com/talks/david_pogue_says_sim...\n",
              "3       https://www.ted.com/talks/majora_carter_s_tale...\n",
              "4       https://www.ted.com/talks/hans_rosling_shows_t...\n",
              "                              ...                        \n",
              "2545    https://www.ted.com/talks/duarte_geraldino_wha...\n",
              "2546    https://www.ted.com/talks/armando_azua_bustos_...\n",
              "2547    https://www.ted.com/talks/radhika_nagpal_what_...\n",
              "2548    https://www.ted.com/talks/theo_e_j_wilson_a_bl...\n",
              "2549    https://www.ted.com/talks/karoliina_korppoo_ho...\n",
              "Name: url, Length: 2550, dtype: object"
            ]
          },
          "metadata": {},
          "execution_count": 35
        }
      ]
    },
    {
      "cell_type": "code",
      "metadata": {
        "id": "mT2HN7vrRf_r",
        "colab": {
          "base_uri": "https://localhost:8080/"
        },
        "outputId": "aab780e9-6be6-4055-89cd-c83229aede85"
      },
      "source": [
        "#iloc permet de retourner la ligne indiquée (ici no. 42)\n",
        "\n",
        "ted_main.iloc[42]\n"
      ],
      "execution_count": null,
      "outputs": [
        {
          "output_type": "execute_result",
          "data": {
            "text/plain": [
              "comments                                                            105\n",
              "description           Oxford mathematician Peter Donnelly reveals th...\n",
              "duration                                                           1280\n",
              "event                                                    TEDGlobal 2005\n",
              "film_date                                                    1121299200\n",
              "languages                                                            20\n",
              "main_speaker                                             Peter Donnelly\n",
              "name                  Peter Donnelly: How juries are fooled by stati...\n",
              "num_speaker                                                           1\n",
              "published_date                                               1162944660\n",
              "ratings               [{'id': 7, 'name': 'Funny', 'count': 103}, {'i...\n",
              "related_talks         [{'id': 92, 'hero': 'https://pe.tedcdn.com/ima...\n",
              "speaker_occupation                          Mathematician; statistician\n",
              "tags                  ['culture', 'genetics', 'science', 'statistics...\n",
              "title                               How juries are fooled by statistics\n",
              "url                   https://www.ted.com/talks/peter_donnelly_shows...\n",
              "views                                                           1053758\n",
              "Name: 42, dtype: object"
            ]
          },
          "metadata": {},
          "execution_count": 36
        }
      ]
    },
    {
      "cell_type": "code",
      "source": [
        "ted_main.iloc[42]['duration']"
      ],
      "metadata": {
        "colab": {
          "base_uri": "https://localhost:8080/"
        },
        "id": "eiwHvlX7AhtG",
        "outputId": "cc7239d1-7de7-424c-a9f7-7854e5ac23fe"
      },
      "execution_count": null,
      "outputs": [
        {
          "output_type": "execute_result",
          "data": {
            "text/plain": [
              "1280"
            ]
          },
          "metadata": {},
          "execution_count": 37
        }
      ]
    },
    {
      "cell_type": "code",
      "source": [
        "# iteration sur les lignes du DF\n",
        "# vous ne devez jamais faire ceci!\n",
        "for idx, row in ted_main.iterrows():\n",
        "  if idx > 4:\n",
        "    break\n",
        "  print(row['url'], row['duration'])"
      ],
      "metadata": {
        "colab": {
          "base_uri": "https://localhost:8080/"
        },
        "id": "ZY6nyplTAZb2",
        "outputId": "c9f1dbc0-d549-4642-fa08-3cd659f9b97a"
      },
      "execution_count": null,
      "outputs": [
        {
          "output_type": "stream",
          "name": "stdout",
          "text": [
            "https://www.ted.com/talks/ken_robinson_says_schools_kill_creativity\n",
            " 1164\n",
            "https://www.ted.com/talks/al_gore_on_averting_climate_crisis\n",
            " 977\n",
            "https://www.ted.com/talks/david_pogue_says_simplicity_sells\n",
            " 1286\n",
            "https://www.ted.com/talks/majora_carter_s_tale_of_urban_renewal\n",
            " 1116\n",
            "https://www.ted.com/talks/hans_rosling_shows_the_best_stats_you_ve_ever_seen\n",
            " 1190\n"
          ]
        }
      ]
    },
    {
      "cell_type": "code",
      "metadata": {
        "id": "rcbvMmpkpjHL",
        "colab": {
          "base_uri": "https://localhost:8080/"
        },
        "outputId": "5eb7104e-ce2e-4b1d-ac60-f4415172628c"
      },
      "source": [
        "ted_main.iloc[200]"
      ],
      "execution_count": null,
      "outputs": [
        {
          "output_type": "execute_result",
          "data": {
            "text/plain": [
              "comments                                                             64\n",
              "description           With surprising accuracy, Nicholas Negroponte ...\n",
              "duration                                                           1523\n",
              "event                                                           TED1984\n",
              "film_date                                                     444528000\n",
              "languages                                                            18\n",
              "main_speaker                                        Nicholas Negroponte\n",
              "name                      Nicholas Negroponte: 5 predictions, from 1984\n",
              "num_speaker                                                           1\n",
              "published_date                                               1205198760\n",
              "ratings               [{'id': 23, 'name': 'Jaw-dropping', 'count': 7...\n",
              "related_talks         [{'id': 288, 'hero': 'https://pe.tedcdn.com/im...\n",
              "speaker_occupation                                       Tech visionary\n",
              "tags                  ['demo', 'design', 'entertainment', 'future', ...\n",
              "title                                          5 predictions, from 1984\n",
              "url                   https://www.ted.com/talks/nicholas_negroponte_...\n",
              "views                                                            974087\n",
              "Name: 200, dtype: object"
            ]
          },
          "metadata": {},
          "execution_count": 39
        }
      ]
    },
    {
      "cell_type": "code",
      "source": [
        "# on ne peut pas voir la difference entre iloc et loc car le DF est indexé de 0 à len(DF)-1\n",
        "ted_main.loc[200]"
      ],
      "metadata": {
        "colab": {
          "base_uri": "https://localhost:8080/"
        },
        "id": "U7fpWm3TDdgN",
        "outputId": "e24959f2-aa9b-4da9-f270-15f6bc97daab"
      },
      "execution_count": null,
      "outputs": [
        {
          "output_type": "execute_result",
          "data": {
            "text/plain": [
              "comments                                                             64\n",
              "description           With surprising accuracy, Nicholas Negroponte ...\n",
              "duration                                                           1523\n",
              "event                                                           TED1984\n",
              "film_date                                                     444528000\n",
              "languages                                                            18\n",
              "main_speaker                                        Nicholas Negroponte\n",
              "name                      Nicholas Negroponte: 5 predictions, from 1984\n",
              "num_speaker                                                           1\n",
              "published_date                                               1205198760\n",
              "ratings               [{'id': 23, 'name': 'Jaw-dropping', 'count': 7...\n",
              "related_talks         [{'id': 288, 'hero': 'https://pe.tedcdn.com/im...\n",
              "speaker_occupation                                       Tech visionary\n",
              "tags                  ['demo', 'design', 'entertainment', 'future', ...\n",
              "title                                          5 predictions, from 1984\n",
              "url                   https://www.ted.com/talks/nicholas_negroponte_...\n",
              "views                                                            974087\n",
              "Name: 200, dtype: object"
            ]
          },
          "metadata": {},
          "execution_count": 40
        }
      ]
    },
    {
      "cell_type": "code",
      "metadata": {
        "id": "zsSQwpNRVdsx"
      },
      "source": [
        "ted_main2 = ted_main.set_index('comments')"
      ],
      "execution_count": null,
      "outputs": []
    },
    {
      "cell_type": "code",
      "source": [
        "ted_main2.head()"
      ],
      "metadata": {
        "colab": {
          "base_uri": "https://localhost:8080/",
          "height": 683
        },
        "id": "o3QPawtOD7U9",
        "outputId": "770ebd86-f00b-4328-af00-989fd976ae31"
      },
      "execution_count": null,
      "outputs": [
        {
          "output_type": "execute_result",
          "data": {
            "text/plain": [
              "                                                description  duration  \\\n",
              "comments                                                                \n",
              "4553      Sir Ken Robinson makes an entertaining and pro...      1164   \n",
              "265       With the same humor and humanity he exuded in ...       977   \n",
              "124       New York Times columnist David Pogue takes aim...      1286   \n",
              "200       In an emotionally charged talk, MacArthur-winn...      1116   \n",
              "593       You've never seen data presented like this. Wi...      1190   \n",
              "\n",
              "            event   film_date  languages   main_speaker  \\\n",
              "comments                                                  \n",
              "4553      TED2006  1140825600         60   Ken Robinson   \n",
              "265       TED2006  1140825600         43        Al Gore   \n",
              "124       TED2006  1140739200         26    David Pogue   \n",
              "200       TED2006  1140912000         35  Majora Carter   \n",
              "593       TED2006  1140566400         48   Hans Rosling   \n",
              "\n",
              "                                                   name  num_speaker  \\\n",
              "comments                                                               \n",
              "4553          Ken Robinson: Do schools kill creativity?            1   \n",
              "265                Al Gore: Averting the climate crisis            1   \n",
              "124                       David Pogue: Simplicity sells            1   \n",
              "200                  Majora Carter: Greening the ghetto            1   \n",
              "593       Hans Rosling: The best stats you've ever seen            1   \n",
              "\n",
              "          published_date                                            ratings  \\\n",
              "comments                                                                      \n",
              "4553          1151367060  [{'id': 7, 'name': 'Funny', 'count': 19645}, {...   \n",
              "265           1151367060  [{'id': 7, 'name': 'Funny', 'count': 544}, {'i...   \n",
              "124           1151367060  [{'id': 7, 'name': 'Funny', 'count': 964}, {'i...   \n",
              "200           1151367060  [{'id': 3, 'name': 'Courageous', 'count': 760}...   \n",
              "593           1151440680  [{'id': 9, 'name': 'Ingenious', 'count': 3202}...   \n",
              "\n",
              "                                              related_talks  \\\n",
              "comments                                                      \n",
              "4553      [{'id': 865, 'hero': 'https://pe.tedcdn.com/im...   \n",
              "265       [{'id': 243, 'hero': 'https://pe.tedcdn.com/im...   \n",
              "124       [{'id': 1725, 'hero': 'https://pe.tedcdn.com/i...   \n",
              "200       [{'id': 1041, 'hero': 'https://pe.tedcdn.com/i...   \n",
              "593       [{'id': 2056, 'hero': 'https://pe.tedcdn.com/i...   \n",
              "\n",
              "                            speaker_occupation  \\\n",
              "comments                                         \n",
              "4553                           Author/educator   \n",
              "265                           Climate advocate   \n",
              "124                       Technology columnist   \n",
              "200         Activist for environmental justice   \n",
              "593       Global health expert; data visionary   \n",
              "\n",
              "                                                       tags  \\\n",
              "comments                                                      \n",
              "4553      ['children', 'creativity', 'culture', 'dance',...   \n",
              "265       ['alternative energy', 'cars', 'climate change...   \n",
              "124       ['computers', 'entertainment', 'interface desi...   \n",
              "200       ['MacArthur grant', 'activism', 'business', 'c...   \n",
              "593       ['Africa', 'Asia', 'Google', 'demo', 'economic...   \n",
              "\n",
              "                                    title  \\\n",
              "comments                                    \n",
              "4553          Do schools kill creativity?   \n",
              "265           Averting the climate crisis   \n",
              "124                      Simplicity sells   \n",
              "200                   Greening the ghetto   \n",
              "593       The best stats you've ever seen   \n",
              "\n",
              "                                                        url     views  \n",
              "comments                                                               \n",
              "4553      https://www.ted.com/talks/ken_robinson_says_sc...  47227110  \n",
              "265       https://www.ted.com/talks/al_gore_on_averting_...   3200520  \n",
              "124       https://www.ted.com/talks/david_pogue_says_sim...   1636292  \n",
              "200       https://www.ted.com/talks/majora_carter_s_tale...   1697550  \n",
              "593       https://www.ted.com/talks/hans_rosling_shows_t...  12005869  "
            ],
            "text/html": [
              "\n",
              "  <div id=\"df-f4e90475-2297-4f70-8f18-22fa4e6effa3\">\n",
              "    <div class=\"colab-df-container\">\n",
              "      <div>\n",
              "<style scoped>\n",
              "    .dataframe tbody tr th:only-of-type {\n",
              "        vertical-align: middle;\n",
              "    }\n",
              "\n",
              "    .dataframe tbody tr th {\n",
              "        vertical-align: top;\n",
              "    }\n",
              "\n",
              "    .dataframe thead th {\n",
              "        text-align: right;\n",
              "    }\n",
              "</style>\n",
              "<table border=\"1\" class=\"dataframe\">\n",
              "  <thead>\n",
              "    <tr style=\"text-align: right;\">\n",
              "      <th></th>\n",
              "      <th>description</th>\n",
              "      <th>duration</th>\n",
              "      <th>event</th>\n",
              "      <th>film_date</th>\n",
              "      <th>languages</th>\n",
              "      <th>main_speaker</th>\n",
              "      <th>name</th>\n",
              "      <th>num_speaker</th>\n",
              "      <th>published_date</th>\n",
              "      <th>ratings</th>\n",
              "      <th>related_talks</th>\n",
              "      <th>speaker_occupation</th>\n",
              "      <th>tags</th>\n",
              "      <th>title</th>\n",
              "      <th>url</th>\n",
              "      <th>views</th>\n",
              "    </tr>\n",
              "    <tr>\n",
              "      <th>comments</th>\n",
              "      <th></th>\n",
              "      <th></th>\n",
              "      <th></th>\n",
              "      <th></th>\n",
              "      <th></th>\n",
              "      <th></th>\n",
              "      <th></th>\n",
              "      <th></th>\n",
              "      <th></th>\n",
              "      <th></th>\n",
              "      <th></th>\n",
              "      <th></th>\n",
              "      <th></th>\n",
              "      <th></th>\n",
              "      <th></th>\n",
              "      <th></th>\n",
              "    </tr>\n",
              "  </thead>\n",
              "  <tbody>\n",
              "    <tr>\n",
              "      <th>4553</th>\n",
              "      <td>Sir Ken Robinson makes an entertaining and pro...</td>\n",
              "      <td>1164</td>\n",
              "      <td>TED2006</td>\n",
              "      <td>1140825600</td>\n",
              "      <td>60</td>\n",
              "      <td>Ken Robinson</td>\n",
              "      <td>Ken Robinson: Do schools kill creativity?</td>\n",
              "      <td>1</td>\n",
              "      <td>1151367060</td>\n",
              "      <td>[{'id': 7, 'name': 'Funny', 'count': 19645}, {...</td>\n",
              "      <td>[{'id': 865, 'hero': 'https://pe.tedcdn.com/im...</td>\n",
              "      <td>Author/educator</td>\n",
              "      <td>['children', 'creativity', 'culture', 'dance',...</td>\n",
              "      <td>Do schools kill creativity?</td>\n",
              "      <td>https://www.ted.com/talks/ken_robinson_says_sc...</td>\n",
              "      <td>47227110</td>\n",
              "    </tr>\n",
              "    <tr>\n",
              "      <th>265</th>\n",
              "      <td>With the same humor and humanity he exuded in ...</td>\n",
              "      <td>977</td>\n",
              "      <td>TED2006</td>\n",
              "      <td>1140825600</td>\n",
              "      <td>43</td>\n",
              "      <td>Al Gore</td>\n",
              "      <td>Al Gore: Averting the climate crisis</td>\n",
              "      <td>1</td>\n",
              "      <td>1151367060</td>\n",
              "      <td>[{'id': 7, 'name': 'Funny', 'count': 544}, {'i...</td>\n",
              "      <td>[{'id': 243, 'hero': 'https://pe.tedcdn.com/im...</td>\n",
              "      <td>Climate advocate</td>\n",
              "      <td>['alternative energy', 'cars', 'climate change...</td>\n",
              "      <td>Averting the climate crisis</td>\n",
              "      <td>https://www.ted.com/talks/al_gore_on_averting_...</td>\n",
              "      <td>3200520</td>\n",
              "    </tr>\n",
              "    <tr>\n",
              "      <th>124</th>\n",
              "      <td>New York Times columnist David Pogue takes aim...</td>\n",
              "      <td>1286</td>\n",
              "      <td>TED2006</td>\n",
              "      <td>1140739200</td>\n",
              "      <td>26</td>\n",
              "      <td>David Pogue</td>\n",
              "      <td>David Pogue: Simplicity sells</td>\n",
              "      <td>1</td>\n",
              "      <td>1151367060</td>\n",
              "      <td>[{'id': 7, 'name': 'Funny', 'count': 964}, {'i...</td>\n",
              "      <td>[{'id': 1725, 'hero': 'https://pe.tedcdn.com/i...</td>\n",
              "      <td>Technology columnist</td>\n",
              "      <td>['computers', 'entertainment', 'interface desi...</td>\n",
              "      <td>Simplicity sells</td>\n",
              "      <td>https://www.ted.com/talks/david_pogue_says_sim...</td>\n",
              "      <td>1636292</td>\n",
              "    </tr>\n",
              "    <tr>\n",
              "      <th>200</th>\n",
              "      <td>In an emotionally charged talk, MacArthur-winn...</td>\n",
              "      <td>1116</td>\n",
              "      <td>TED2006</td>\n",
              "      <td>1140912000</td>\n",
              "      <td>35</td>\n",
              "      <td>Majora Carter</td>\n",
              "      <td>Majora Carter: Greening the ghetto</td>\n",
              "      <td>1</td>\n",
              "      <td>1151367060</td>\n",
              "      <td>[{'id': 3, 'name': 'Courageous', 'count': 760}...</td>\n",
              "      <td>[{'id': 1041, 'hero': 'https://pe.tedcdn.com/i...</td>\n",
              "      <td>Activist for environmental justice</td>\n",
              "      <td>['MacArthur grant', 'activism', 'business', 'c...</td>\n",
              "      <td>Greening the ghetto</td>\n",
              "      <td>https://www.ted.com/talks/majora_carter_s_tale...</td>\n",
              "      <td>1697550</td>\n",
              "    </tr>\n",
              "    <tr>\n",
              "      <th>593</th>\n",
              "      <td>You've never seen data presented like this. Wi...</td>\n",
              "      <td>1190</td>\n",
              "      <td>TED2006</td>\n",
              "      <td>1140566400</td>\n",
              "      <td>48</td>\n",
              "      <td>Hans Rosling</td>\n",
              "      <td>Hans Rosling: The best stats you've ever seen</td>\n",
              "      <td>1</td>\n",
              "      <td>1151440680</td>\n",
              "      <td>[{'id': 9, 'name': 'Ingenious', 'count': 3202}...</td>\n",
              "      <td>[{'id': 2056, 'hero': 'https://pe.tedcdn.com/i...</td>\n",
              "      <td>Global health expert; data visionary</td>\n",
              "      <td>['Africa', 'Asia', 'Google', 'demo', 'economic...</td>\n",
              "      <td>The best stats you've ever seen</td>\n",
              "      <td>https://www.ted.com/talks/hans_rosling_shows_t...</td>\n",
              "      <td>12005869</td>\n",
              "    </tr>\n",
              "  </tbody>\n",
              "</table>\n",
              "</div>\n",
              "      <button class=\"colab-df-convert\" onclick=\"convertToInteractive('df-f4e90475-2297-4f70-8f18-22fa4e6effa3')\"\n",
              "              title=\"Convert this dataframe to an interactive table.\"\n",
              "              style=\"display:none;\">\n",
              "        \n",
              "  <svg xmlns=\"http://www.w3.org/2000/svg\" height=\"24px\"viewBox=\"0 0 24 24\"\n",
              "       width=\"24px\">\n",
              "    <path d=\"M0 0h24v24H0V0z\" fill=\"none\"/>\n",
              "    <path d=\"M18.56 5.44l.94 2.06.94-2.06 2.06-.94-2.06-.94-.94-2.06-.94 2.06-2.06.94zm-11 1L8.5 8.5l.94-2.06 2.06-.94-2.06-.94L8.5 2.5l-.94 2.06-2.06.94zm10 10l.94 2.06.94-2.06 2.06-.94-2.06-.94-.94-2.06-.94 2.06-2.06.94z\"/><path d=\"M17.41 7.96l-1.37-1.37c-.4-.4-.92-.59-1.43-.59-.52 0-1.04.2-1.43.59L10.3 9.45l-7.72 7.72c-.78.78-.78 2.05 0 2.83L4 21.41c.39.39.9.59 1.41.59.51 0 1.02-.2 1.41-.59l7.78-7.78 2.81-2.81c.8-.78.8-2.07 0-2.86zM5.41 20L4 18.59l7.72-7.72 1.47 1.35L5.41 20z\"/>\n",
              "  </svg>\n",
              "      </button>\n",
              "      \n",
              "  <style>\n",
              "    .colab-df-container {\n",
              "      display:flex;\n",
              "      flex-wrap:wrap;\n",
              "      gap: 12px;\n",
              "    }\n",
              "\n",
              "    .colab-df-convert {\n",
              "      background-color: #E8F0FE;\n",
              "      border: none;\n",
              "      border-radius: 50%;\n",
              "      cursor: pointer;\n",
              "      display: none;\n",
              "      fill: #1967D2;\n",
              "      height: 32px;\n",
              "      padding: 0 0 0 0;\n",
              "      width: 32px;\n",
              "    }\n",
              "\n",
              "    .colab-df-convert:hover {\n",
              "      background-color: #E2EBFA;\n",
              "      box-shadow: 0px 1px 2px rgba(60, 64, 67, 0.3), 0px 1px 3px 1px rgba(60, 64, 67, 0.15);\n",
              "      fill: #174EA6;\n",
              "    }\n",
              "\n",
              "    [theme=dark] .colab-df-convert {\n",
              "      background-color: #3B4455;\n",
              "      fill: #D2E3FC;\n",
              "    }\n",
              "\n",
              "    [theme=dark] .colab-df-convert:hover {\n",
              "      background-color: #434B5C;\n",
              "      box-shadow: 0px 1px 3px 1px rgba(0, 0, 0, 0.15);\n",
              "      filter: drop-shadow(0px 1px 2px rgba(0, 0, 0, 0.3));\n",
              "      fill: #FFFFFF;\n",
              "    }\n",
              "  </style>\n",
              "\n",
              "      <script>\n",
              "        const buttonEl =\n",
              "          document.querySelector('#df-f4e90475-2297-4f70-8f18-22fa4e6effa3 button.colab-df-convert');\n",
              "        buttonEl.style.display =\n",
              "          google.colab.kernel.accessAllowed ? 'block' : 'none';\n",
              "\n",
              "        async function convertToInteractive(key) {\n",
              "          const element = document.querySelector('#df-f4e90475-2297-4f70-8f18-22fa4e6effa3');\n",
              "          const dataTable =\n",
              "            await google.colab.kernel.invokeFunction('convertToInteractive',\n",
              "                                                     [key], {});\n",
              "          if (!dataTable) return;\n",
              "\n",
              "          const docLinkHtml = 'Like what you see? Visit the ' +\n",
              "            '<a target=\"_blank\" href=https://colab.research.google.com/notebooks/data_table.ipynb>data table notebook</a>'\n",
              "            + ' to learn more about interactive tables.';\n",
              "          element.innerHTML = '';\n",
              "          dataTable['output_type'] = 'display_data';\n",
              "          await google.colab.output.renderOutput(dataTable, element);\n",
              "          const docLink = document.createElement('div');\n",
              "          docLink.innerHTML = docLinkHtml;\n",
              "          element.appendChild(docLink);\n",
              "        }\n",
              "      </script>\n",
              "    </div>\n",
              "  </div>\n",
              "  "
            ]
          },
          "metadata": {},
          "execution_count": 42
        }
      ]
    },
    {
      "cell_type": "code",
      "metadata": {
        "colab": {
          "base_uri": "https://localhost:8080/"
        },
        "id": "OiCQMnGep_QH",
        "outputId": "f2c2a7cb-6252-4d85-bb4a-aed0462ddcad"
      },
      "source": [
        "ted_main2.iloc[200]"
      ],
      "execution_count": null,
      "outputs": [
        {
          "output_type": "execute_result",
          "data": {
            "text/plain": [
              "description           With surprising accuracy, Nicholas Negroponte ...\n",
              "duration                                                           1523\n",
              "event                                                           TED1984\n",
              "film_date                                                     444528000\n",
              "languages                                                            18\n",
              "main_speaker                                        Nicholas Negroponte\n",
              "name                      Nicholas Negroponte: 5 predictions, from 1984\n",
              "num_speaker                                                           1\n",
              "published_date                                               1205198760\n",
              "ratings               [{'id': 23, 'name': 'Jaw-dropping', 'count': 7...\n",
              "related_talks         [{'id': 288, 'hero': 'https://pe.tedcdn.com/im...\n",
              "speaker_occupation                                       Tech visionary\n",
              "tags                  ['demo', 'design', 'entertainment', 'future', ...\n",
              "title                                          5 predictions, from 1984\n",
              "url                   https://www.ted.com/talks/nicholas_negroponte_...\n",
              "views                                                            974087\n",
              "Name: 64, dtype: object"
            ]
          },
          "metadata": {},
          "execution_count": 43
        }
      ]
    },
    {
      "cell_type": "code",
      "source": [
        "ted_main2.loc[200]"
      ],
      "metadata": {
        "colab": {
          "base_uri": "https://localhost:8080/",
          "height": 718
        },
        "id": "ihUNks41DOfN",
        "outputId": "5930ea1f-6307-4fb7-e75f-5d04fd8bf97e"
      },
      "execution_count": null,
      "outputs": [
        {
          "output_type": "execute_result",
          "data": {
            "text/plain": [
              "                                                description  duration  \\\n",
              "comments                                                                \n",
              "200       In an emotionally charged talk, MacArthur-winn...      1116   \n",
              "200       Iranian-American comedian Maz Jobrani takes to...       431   \n",
              "200       Imagine you're a shipwrecked sailor adrift in ...       690   \n",
              "200       The US economy has been expanding wildly for t...       734   \n",
              "200       Within each of us are two selves, suggests Dav...       301   \n",
              "\n",
              "                   event   film_date  languages           main_speaker  \\\n",
              "comments                                                                 \n",
              "200              TED2006  1140912000         35          Majora Carter   \n",
              "200           TEDxSummit  1335052800         30            Maz Jobrani   \n",
              "200       TEDGlobal 2012  1340841600         30  Karen Thompson Walker   \n",
              "200              TED2013  1361836800         28          Robert Gordon   \n",
              "200              TED2014  1395187200         31           David Brooks   \n",
              "\n",
              "                                                       name  num_speaker  \\\n",
              "comments                                                                   \n",
              "200                      Majora Carter: Greening the ghetto            1   \n",
              "200       Maz Jobrani: A Saudi, an Indian and an Iranian...            1   \n",
              "200           Karen Thompson Walker: What fear can teach us            1   \n",
              "200       Robert Gordon: The death of innovation, the en...            1   \n",
              "200       David Brooks: Should you live for your résumé ...            1   \n",
              "\n",
              "          published_date                                            ratings  \\\n",
              "comments                                                                      \n",
              "200           1151367060  [{'id': 3, 'name': 'Courageous', 'count': 760}...   \n",
              "200           1355328687  [{'id': 10, 'name': 'Inspiring', 'count': 207}...   \n",
              "200           1357143205  [{'id': 9, 'name': 'Ingenious', 'count': 113},...   \n",
              "200           1366729178  [{'id': 24, 'name': 'Persuasive', 'count': 79}...   \n",
              "200           1397488146  [{'id': 22, 'name': 'Fascinating', 'count': 38...   \n",
              "\n",
              "                                              related_talks  \\\n",
              "comments                                                      \n",
              "200       [{'id': 1041, 'hero': 'https://pe.tedcdn.com/i...   \n",
              "200       [{'id': 935, 'hero': 'https://pe.tedcdn.com/im...   \n",
              "200       [{'id': 1379, 'hero': 'https://pe.tedcdn.com/i...   \n",
              "200       [{'id': 1574, 'hero': 'https://pe.tedcdn.com/i...   \n",
              "200       [{'id': 605, 'hero': 'https://pe.tedcdn.com/im...   \n",
              "\n",
              "                          speaker_occupation  \\\n",
              "comments                                       \n",
              "200       Activist for environmental justice   \n",
              "200                                 Comedian   \n",
              "200                                 Novelist   \n",
              "200                                Economist   \n",
              "200                         Op-ed columnist    \n",
              "\n",
              "                                                       tags  \\\n",
              "comments                                                      \n",
              "200       ['MacArthur grant', 'activism', 'business', 'c...   \n",
              "200       ['Middle East', 'TEDx', 'comedy', 'culture', '...   \n",
              "200       ['creativity', 'death', 'entertainment', 'fear...   \n",
              "200       ['economics', 'global issues', 'innovation', '...   \n",
              "200       ['introvert', 'philosophy', 'psychology', 'sel...   \n",
              "\n",
              "                                                      title  \\\n",
              "comments                                                      \n",
              "200                                     Greening the ghetto   \n",
              "200       A Saudi, an Indian and an Iranian walk into a ...   \n",
              "200                                  What fear can teach us   \n",
              "200              The death of innovation, the end of growth   \n",
              "200       Should you live for your résumé ... or your eu...   \n",
              "\n",
              "                                                        url    views  \n",
              "comments                                                              \n",
              "200       https://www.ted.com/talks/majora_carter_s_tale...  1697550  \n",
              "200       https://www.ted.com/talks/maz_jobrani_a_saudi_...  8105311  \n",
              "200       https://www.ted.com/talks/karen_thompson_walke...  1951290  \n",
              "200       https://www.ted.com/talks/robert_gordon_the_de...  1091988  \n",
              "200       https://www.ted.com/talks/david_brooks_should_...  2306549  "
            ],
            "text/html": [
              "\n",
              "  <div id=\"df-35b49311-6df6-44cd-9c0b-d9bf36ce9b7b\">\n",
              "    <div class=\"colab-df-container\">\n",
              "      <div>\n",
              "<style scoped>\n",
              "    .dataframe tbody tr th:only-of-type {\n",
              "        vertical-align: middle;\n",
              "    }\n",
              "\n",
              "    .dataframe tbody tr th {\n",
              "        vertical-align: top;\n",
              "    }\n",
              "\n",
              "    .dataframe thead th {\n",
              "        text-align: right;\n",
              "    }\n",
              "</style>\n",
              "<table border=\"1\" class=\"dataframe\">\n",
              "  <thead>\n",
              "    <tr style=\"text-align: right;\">\n",
              "      <th></th>\n",
              "      <th>description</th>\n",
              "      <th>duration</th>\n",
              "      <th>event</th>\n",
              "      <th>film_date</th>\n",
              "      <th>languages</th>\n",
              "      <th>main_speaker</th>\n",
              "      <th>name</th>\n",
              "      <th>num_speaker</th>\n",
              "      <th>published_date</th>\n",
              "      <th>ratings</th>\n",
              "      <th>related_talks</th>\n",
              "      <th>speaker_occupation</th>\n",
              "      <th>tags</th>\n",
              "      <th>title</th>\n",
              "      <th>url</th>\n",
              "      <th>views</th>\n",
              "    </tr>\n",
              "    <tr>\n",
              "      <th>comments</th>\n",
              "      <th></th>\n",
              "      <th></th>\n",
              "      <th></th>\n",
              "      <th></th>\n",
              "      <th></th>\n",
              "      <th></th>\n",
              "      <th></th>\n",
              "      <th></th>\n",
              "      <th></th>\n",
              "      <th></th>\n",
              "      <th></th>\n",
              "      <th></th>\n",
              "      <th></th>\n",
              "      <th></th>\n",
              "      <th></th>\n",
              "      <th></th>\n",
              "    </tr>\n",
              "  </thead>\n",
              "  <tbody>\n",
              "    <tr>\n",
              "      <th>200</th>\n",
              "      <td>In an emotionally charged talk, MacArthur-winn...</td>\n",
              "      <td>1116</td>\n",
              "      <td>TED2006</td>\n",
              "      <td>1140912000</td>\n",
              "      <td>35</td>\n",
              "      <td>Majora Carter</td>\n",
              "      <td>Majora Carter: Greening the ghetto</td>\n",
              "      <td>1</td>\n",
              "      <td>1151367060</td>\n",
              "      <td>[{'id': 3, 'name': 'Courageous', 'count': 760}...</td>\n",
              "      <td>[{'id': 1041, 'hero': 'https://pe.tedcdn.com/i...</td>\n",
              "      <td>Activist for environmental justice</td>\n",
              "      <td>['MacArthur grant', 'activism', 'business', 'c...</td>\n",
              "      <td>Greening the ghetto</td>\n",
              "      <td>https://www.ted.com/talks/majora_carter_s_tale...</td>\n",
              "      <td>1697550</td>\n",
              "    </tr>\n",
              "    <tr>\n",
              "      <th>200</th>\n",
              "      <td>Iranian-American comedian Maz Jobrani takes to...</td>\n",
              "      <td>431</td>\n",
              "      <td>TEDxSummit</td>\n",
              "      <td>1335052800</td>\n",
              "      <td>30</td>\n",
              "      <td>Maz Jobrani</td>\n",
              "      <td>Maz Jobrani: A Saudi, an Indian and an Iranian...</td>\n",
              "      <td>1</td>\n",
              "      <td>1355328687</td>\n",
              "      <td>[{'id': 10, 'name': 'Inspiring', 'count': 207}...</td>\n",
              "      <td>[{'id': 935, 'hero': 'https://pe.tedcdn.com/im...</td>\n",
              "      <td>Comedian</td>\n",
              "      <td>['Middle East', 'TEDx', 'comedy', 'culture', '...</td>\n",
              "      <td>A Saudi, an Indian and an Iranian walk into a ...</td>\n",
              "      <td>https://www.ted.com/talks/maz_jobrani_a_saudi_...</td>\n",
              "      <td>8105311</td>\n",
              "    </tr>\n",
              "    <tr>\n",
              "      <th>200</th>\n",
              "      <td>Imagine you're a shipwrecked sailor adrift in ...</td>\n",
              "      <td>690</td>\n",
              "      <td>TEDGlobal 2012</td>\n",
              "      <td>1340841600</td>\n",
              "      <td>30</td>\n",
              "      <td>Karen Thompson Walker</td>\n",
              "      <td>Karen Thompson Walker: What fear can teach us</td>\n",
              "      <td>1</td>\n",
              "      <td>1357143205</td>\n",
              "      <td>[{'id': 9, 'name': 'Ingenious', 'count': 113},...</td>\n",
              "      <td>[{'id': 1379, 'hero': 'https://pe.tedcdn.com/i...</td>\n",
              "      <td>Novelist</td>\n",
              "      <td>['creativity', 'death', 'entertainment', 'fear...</td>\n",
              "      <td>What fear can teach us</td>\n",
              "      <td>https://www.ted.com/talks/karen_thompson_walke...</td>\n",
              "      <td>1951290</td>\n",
              "    </tr>\n",
              "    <tr>\n",
              "      <th>200</th>\n",
              "      <td>The US economy has been expanding wildly for t...</td>\n",
              "      <td>734</td>\n",
              "      <td>TED2013</td>\n",
              "      <td>1361836800</td>\n",
              "      <td>28</td>\n",
              "      <td>Robert Gordon</td>\n",
              "      <td>Robert Gordon: The death of innovation, the en...</td>\n",
              "      <td>1</td>\n",
              "      <td>1366729178</td>\n",
              "      <td>[{'id': 24, 'name': 'Persuasive', 'count': 79}...</td>\n",
              "      <td>[{'id': 1574, 'hero': 'https://pe.tedcdn.com/i...</td>\n",
              "      <td>Economist</td>\n",
              "      <td>['economics', 'global issues', 'innovation', '...</td>\n",
              "      <td>The death of innovation, the end of growth</td>\n",
              "      <td>https://www.ted.com/talks/robert_gordon_the_de...</td>\n",
              "      <td>1091988</td>\n",
              "    </tr>\n",
              "    <tr>\n",
              "      <th>200</th>\n",
              "      <td>Within each of us are two selves, suggests Dav...</td>\n",
              "      <td>301</td>\n",
              "      <td>TED2014</td>\n",
              "      <td>1395187200</td>\n",
              "      <td>31</td>\n",
              "      <td>David Brooks</td>\n",
              "      <td>David Brooks: Should you live for your résumé ...</td>\n",
              "      <td>1</td>\n",
              "      <td>1397488146</td>\n",
              "      <td>[{'id': 22, 'name': 'Fascinating', 'count': 38...</td>\n",
              "      <td>[{'id': 605, 'hero': 'https://pe.tedcdn.com/im...</td>\n",
              "      <td>Op-ed columnist</td>\n",
              "      <td>['introvert', 'philosophy', 'psychology', 'sel...</td>\n",
              "      <td>Should you live for your résumé ... or your eu...</td>\n",
              "      <td>https://www.ted.com/talks/david_brooks_should_...</td>\n",
              "      <td>2306549</td>\n",
              "    </tr>\n",
              "  </tbody>\n",
              "</table>\n",
              "</div>\n",
              "      <button class=\"colab-df-convert\" onclick=\"convertToInteractive('df-35b49311-6df6-44cd-9c0b-d9bf36ce9b7b')\"\n",
              "              title=\"Convert this dataframe to an interactive table.\"\n",
              "              style=\"display:none;\">\n",
              "        \n",
              "  <svg xmlns=\"http://www.w3.org/2000/svg\" height=\"24px\"viewBox=\"0 0 24 24\"\n",
              "       width=\"24px\">\n",
              "    <path d=\"M0 0h24v24H0V0z\" fill=\"none\"/>\n",
              "    <path d=\"M18.56 5.44l.94 2.06.94-2.06 2.06-.94-2.06-.94-.94-2.06-.94 2.06-2.06.94zm-11 1L8.5 8.5l.94-2.06 2.06-.94-2.06-.94L8.5 2.5l-.94 2.06-2.06.94zm10 10l.94 2.06.94-2.06 2.06-.94-2.06-.94-.94-2.06-.94 2.06-2.06.94z\"/><path d=\"M17.41 7.96l-1.37-1.37c-.4-.4-.92-.59-1.43-.59-.52 0-1.04.2-1.43.59L10.3 9.45l-7.72 7.72c-.78.78-.78 2.05 0 2.83L4 21.41c.39.39.9.59 1.41.59.51 0 1.02-.2 1.41-.59l7.78-7.78 2.81-2.81c.8-.78.8-2.07 0-2.86zM5.41 20L4 18.59l7.72-7.72 1.47 1.35L5.41 20z\"/>\n",
              "  </svg>\n",
              "      </button>\n",
              "      \n",
              "  <style>\n",
              "    .colab-df-container {\n",
              "      display:flex;\n",
              "      flex-wrap:wrap;\n",
              "      gap: 12px;\n",
              "    }\n",
              "\n",
              "    .colab-df-convert {\n",
              "      background-color: #E8F0FE;\n",
              "      border: none;\n",
              "      border-radius: 50%;\n",
              "      cursor: pointer;\n",
              "      display: none;\n",
              "      fill: #1967D2;\n",
              "      height: 32px;\n",
              "      padding: 0 0 0 0;\n",
              "      width: 32px;\n",
              "    }\n",
              "\n",
              "    .colab-df-convert:hover {\n",
              "      background-color: #E2EBFA;\n",
              "      box-shadow: 0px 1px 2px rgba(60, 64, 67, 0.3), 0px 1px 3px 1px rgba(60, 64, 67, 0.15);\n",
              "      fill: #174EA6;\n",
              "    }\n",
              "\n",
              "    [theme=dark] .colab-df-convert {\n",
              "      background-color: #3B4455;\n",
              "      fill: #D2E3FC;\n",
              "    }\n",
              "\n",
              "    [theme=dark] .colab-df-convert:hover {\n",
              "      background-color: #434B5C;\n",
              "      box-shadow: 0px 1px 3px 1px rgba(0, 0, 0, 0.15);\n",
              "      filter: drop-shadow(0px 1px 2px rgba(0, 0, 0, 0.3));\n",
              "      fill: #FFFFFF;\n",
              "    }\n",
              "  </style>\n",
              "\n",
              "      <script>\n",
              "        const buttonEl =\n",
              "          document.querySelector('#df-35b49311-6df6-44cd-9c0b-d9bf36ce9b7b button.colab-df-convert');\n",
              "        buttonEl.style.display =\n",
              "          google.colab.kernel.accessAllowed ? 'block' : 'none';\n",
              "\n",
              "        async function convertToInteractive(key) {\n",
              "          const element = document.querySelector('#df-35b49311-6df6-44cd-9c0b-d9bf36ce9b7b');\n",
              "          const dataTable =\n",
              "            await google.colab.kernel.invokeFunction('convertToInteractive',\n",
              "                                                     [key], {});\n",
              "          if (!dataTable) return;\n",
              "\n",
              "          const docLinkHtml = 'Like what you see? Visit the ' +\n",
              "            '<a target=\"_blank\" href=https://colab.research.google.com/notebooks/data_table.ipynb>data table notebook</a>'\n",
              "            + ' to learn more about interactive tables.';\n",
              "          element.innerHTML = '';\n",
              "          dataTable['output_type'] = 'display_data';\n",
              "          await google.colab.output.renderOutput(dataTable, element);\n",
              "          const docLink = document.createElement('div');\n",
              "          docLink.innerHTML = docLinkHtml;\n",
              "          element.appendChild(docLink);\n",
              "        }\n",
              "      </script>\n",
              "    </div>\n",
              "  </div>\n",
              "  "
            ]
          },
          "metadata": {},
          "execution_count": 44
        }
      ]
    },
    {
      "cell_type": "code",
      "metadata": {
        "id": "8YzxOP6J0txr"
      },
      "source": [
        "ted_main2 = ted_main.set_index('url')"
      ],
      "execution_count": null,
      "outputs": []
    },
    {
      "cell_type": "code",
      "source": [
        "ted_main2.head(3)"
      ],
      "metadata": {
        "colab": {
          "base_uri": "https://localhost:8080/",
          "height": 499
        },
        "id": "I9C50ym4FXA8",
        "outputId": "cb977865-525d-4485-ada5-0f2eb2053caa"
      },
      "execution_count": null,
      "outputs": [
        {
          "output_type": "execute_result",
          "data": {
            "text/plain": [
              "                                                    comments  \\\n",
              "url                                                            \n",
              "https://www.ted.com/talks/ken_robinson_says_sch...      4553   \n",
              "https://www.ted.com/talks/al_gore_on_averting_c...       265   \n",
              "https://www.ted.com/talks/david_pogue_says_simp...       124   \n",
              "\n",
              "                                                                                          description  \\\n",
              "url                                                                                                     \n",
              "https://www.ted.com/talks/ken_robinson_says_sch...  Sir Ken Robinson makes an entertaining and pro...   \n",
              "https://www.ted.com/talks/al_gore_on_averting_c...  With the same humor and humanity he exuded in ...   \n",
              "https://www.ted.com/talks/david_pogue_says_simp...  New York Times columnist David Pogue takes aim...   \n",
              "\n",
              "                                                    duration    event  \\\n",
              "url                                                                     \n",
              "https://www.ted.com/talks/ken_robinson_says_sch...      1164  TED2006   \n",
              "https://www.ted.com/talks/al_gore_on_averting_c...       977  TED2006   \n",
              "https://www.ted.com/talks/david_pogue_says_simp...      1286  TED2006   \n",
              "\n",
              "                                                     film_date  languages  \\\n",
              "url                                                                         \n",
              "https://www.ted.com/talks/ken_robinson_says_sch...  1140825600         60   \n",
              "https://www.ted.com/talks/al_gore_on_averting_c...  1140825600         43   \n",
              "https://www.ted.com/talks/david_pogue_says_simp...  1140739200         26   \n",
              "\n",
              "                                                    main_speaker  \\\n",
              "url                                                                \n",
              "https://www.ted.com/talks/ken_robinson_says_sch...  Ken Robinson   \n",
              "https://www.ted.com/talks/al_gore_on_averting_c...       Al Gore   \n",
              "https://www.ted.com/talks/david_pogue_says_simp...   David Pogue   \n",
              "\n",
              "                                                                                         name  \\\n",
              "url                                                                                             \n",
              "https://www.ted.com/talks/ken_robinson_says_sch...  Ken Robinson: Do schools kill creativity?   \n",
              "https://www.ted.com/talks/al_gore_on_averting_c...       Al Gore: Averting the climate crisis   \n",
              "https://www.ted.com/talks/david_pogue_says_simp...              David Pogue: Simplicity sells   \n",
              "\n",
              "                                                    num_speaker  \\\n",
              "url                                                               \n",
              "https://www.ted.com/talks/ken_robinson_says_sch...            1   \n",
              "https://www.ted.com/talks/al_gore_on_averting_c...            1   \n",
              "https://www.ted.com/talks/david_pogue_says_simp...            1   \n",
              "\n",
              "                                                    published_date  \\\n",
              "url                                                                  \n",
              "https://www.ted.com/talks/ken_robinson_says_sch...      1151367060   \n",
              "https://www.ted.com/talks/al_gore_on_averting_c...      1151367060   \n",
              "https://www.ted.com/talks/david_pogue_says_simp...      1151367060   \n",
              "\n",
              "                                                                                              ratings  \\\n",
              "url                                                                                                     \n",
              "https://www.ted.com/talks/ken_robinson_says_sch...  [{'id': 7, 'name': 'Funny', 'count': 19645}, {...   \n",
              "https://www.ted.com/talks/al_gore_on_averting_c...  [{'id': 7, 'name': 'Funny', 'count': 544}, {'i...   \n",
              "https://www.ted.com/talks/david_pogue_says_simp...  [{'id': 7, 'name': 'Funny', 'count': 964}, {'i...   \n",
              "\n",
              "                                                                                        related_talks  \\\n",
              "url                                                                                                     \n",
              "https://www.ted.com/talks/ken_robinson_says_sch...  [{'id': 865, 'hero': 'https://pe.tedcdn.com/im...   \n",
              "https://www.ted.com/talks/al_gore_on_averting_c...  [{'id': 243, 'hero': 'https://pe.tedcdn.com/im...   \n",
              "https://www.ted.com/talks/david_pogue_says_simp...  [{'id': 1725, 'hero': 'https://pe.tedcdn.com/i...   \n",
              "\n",
              "                                                      speaker_occupation  \\\n",
              "url                                                                        \n",
              "https://www.ted.com/talks/ken_robinson_says_sch...       Author/educator   \n",
              "https://www.ted.com/talks/al_gore_on_averting_c...      Climate advocate   \n",
              "https://www.ted.com/talks/david_pogue_says_simp...  Technology columnist   \n",
              "\n",
              "                                                                                                 tags  \\\n",
              "url                                                                                                     \n",
              "https://www.ted.com/talks/ken_robinson_says_sch...  ['children', 'creativity', 'culture', 'dance',...   \n",
              "https://www.ted.com/talks/al_gore_on_averting_c...  ['alternative energy', 'cars', 'climate change...   \n",
              "https://www.ted.com/talks/david_pogue_says_simp...  ['computers', 'entertainment', 'interface desi...   \n",
              "\n",
              "                                                                          title  \\\n",
              "url                                                                               \n",
              "https://www.ted.com/talks/ken_robinson_says_sch...  Do schools kill creativity?   \n",
              "https://www.ted.com/talks/al_gore_on_averting_c...  Averting the climate crisis   \n",
              "https://www.ted.com/talks/david_pogue_says_simp...             Simplicity sells   \n",
              "\n",
              "                                                       views  \n",
              "url                                                           \n",
              "https://www.ted.com/talks/ken_robinson_says_sch...  47227110  \n",
              "https://www.ted.com/talks/al_gore_on_averting_c...   3200520  \n",
              "https://www.ted.com/talks/david_pogue_says_simp...   1636292  "
            ],
            "text/html": [
              "\n",
              "  <div id=\"df-102a7159-2b31-442a-869c-f0ad7f531719\">\n",
              "    <div class=\"colab-df-container\">\n",
              "      <div>\n",
              "<style scoped>\n",
              "    .dataframe tbody tr th:only-of-type {\n",
              "        vertical-align: middle;\n",
              "    }\n",
              "\n",
              "    .dataframe tbody tr th {\n",
              "        vertical-align: top;\n",
              "    }\n",
              "\n",
              "    .dataframe thead th {\n",
              "        text-align: right;\n",
              "    }\n",
              "</style>\n",
              "<table border=\"1\" class=\"dataframe\">\n",
              "  <thead>\n",
              "    <tr style=\"text-align: right;\">\n",
              "      <th></th>\n",
              "      <th>comments</th>\n",
              "      <th>description</th>\n",
              "      <th>duration</th>\n",
              "      <th>event</th>\n",
              "      <th>film_date</th>\n",
              "      <th>languages</th>\n",
              "      <th>main_speaker</th>\n",
              "      <th>name</th>\n",
              "      <th>num_speaker</th>\n",
              "      <th>published_date</th>\n",
              "      <th>ratings</th>\n",
              "      <th>related_talks</th>\n",
              "      <th>speaker_occupation</th>\n",
              "      <th>tags</th>\n",
              "      <th>title</th>\n",
              "      <th>views</th>\n",
              "    </tr>\n",
              "    <tr>\n",
              "      <th>url</th>\n",
              "      <th></th>\n",
              "      <th></th>\n",
              "      <th></th>\n",
              "      <th></th>\n",
              "      <th></th>\n",
              "      <th></th>\n",
              "      <th></th>\n",
              "      <th></th>\n",
              "      <th></th>\n",
              "      <th></th>\n",
              "      <th></th>\n",
              "      <th></th>\n",
              "      <th></th>\n",
              "      <th></th>\n",
              "      <th></th>\n",
              "      <th></th>\n",
              "    </tr>\n",
              "  </thead>\n",
              "  <tbody>\n",
              "    <tr>\n",
              "      <th>https://www.ted.com/talks/ken_robinson_says_schools_kill_creativity\\n</th>\n",
              "      <td>4553</td>\n",
              "      <td>Sir Ken Robinson makes an entertaining and pro...</td>\n",
              "      <td>1164</td>\n",
              "      <td>TED2006</td>\n",
              "      <td>1140825600</td>\n",
              "      <td>60</td>\n",
              "      <td>Ken Robinson</td>\n",
              "      <td>Ken Robinson: Do schools kill creativity?</td>\n",
              "      <td>1</td>\n",
              "      <td>1151367060</td>\n",
              "      <td>[{'id': 7, 'name': 'Funny', 'count': 19645}, {...</td>\n",
              "      <td>[{'id': 865, 'hero': 'https://pe.tedcdn.com/im...</td>\n",
              "      <td>Author/educator</td>\n",
              "      <td>['children', 'creativity', 'culture', 'dance',...</td>\n",
              "      <td>Do schools kill creativity?</td>\n",
              "      <td>47227110</td>\n",
              "    </tr>\n",
              "    <tr>\n",
              "      <th>https://www.ted.com/talks/al_gore_on_averting_climate_crisis\\n</th>\n",
              "      <td>265</td>\n",
              "      <td>With the same humor and humanity he exuded in ...</td>\n",
              "      <td>977</td>\n",
              "      <td>TED2006</td>\n",
              "      <td>1140825600</td>\n",
              "      <td>43</td>\n",
              "      <td>Al Gore</td>\n",
              "      <td>Al Gore: Averting the climate crisis</td>\n",
              "      <td>1</td>\n",
              "      <td>1151367060</td>\n",
              "      <td>[{'id': 7, 'name': 'Funny', 'count': 544}, {'i...</td>\n",
              "      <td>[{'id': 243, 'hero': 'https://pe.tedcdn.com/im...</td>\n",
              "      <td>Climate advocate</td>\n",
              "      <td>['alternative energy', 'cars', 'climate change...</td>\n",
              "      <td>Averting the climate crisis</td>\n",
              "      <td>3200520</td>\n",
              "    </tr>\n",
              "    <tr>\n",
              "      <th>https://www.ted.com/talks/david_pogue_says_simplicity_sells\\n</th>\n",
              "      <td>124</td>\n",
              "      <td>New York Times columnist David Pogue takes aim...</td>\n",
              "      <td>1286</td>\n",
              "      <td>TED2006</td>\n",
              "      <td>1140739200</td>\n",
              "      <td>26</td>\n",
              "      <td>David Pogue</td>\n",
              "      <td>David Pogue: Simplicity sells</td>\n",
              "      <td>1</td>\n",
              "      <td>1151367060</td>\n",
              "      <td>[{'id': 7, 'name': 'Funny', 'count': 964}, {'i...</td>\n",
              "      <td>[{'id': 1725, 'hero': 'https://pe.tedcdn.com/i...</td>\n",
              "      <td>Technology columnist</td>\n",
              "      <td>['computers', 'entertainment', 'interface desi...</td>\n",
              "      <td>Simplicity sells</td>\n",
              "      <td>1636292</td>\n",
              "    </tr>\n",
              "  </tbody>\n",
              "</table>\n",
              "</div>\n",
              "      <button class=\"colab-df-convert\" onclick=\"convertToInteractive('df-102a7159-2b31-442a-869c-f0ad7f531719')\"\n",
              "              title=\"Convert this dataframe to an interactive table.\"\n",
              "              style=\"display:none;\">\n",
              "        \n",
              "  <svg xmlns=\"http://www.w3.org/2000/svg\" height=\"24px\"viewBox=\"0 0 24 24\"\n",
              "       width=\"24px\">\n",
              "    <path d=\"M0 0h24v24H0V0z\" fill=\"none\"/>\n",
              "    <path d=\"M18.56 5.44l.94 2.06.94-2.06 2.06-.94-2.06-.94-.94-2.06-.94 2.06-2.06.94zm-11 1L8.5 8.5l.94-2.06 2.06-.94-2.06-.94L8.5 2.5l-.94 2.06-2.06.94zm10 10l.94 2.06.94-2.06 2.06-.94-2.06-.94-.94-2.06-.94 2.06-2.06.94z\"/><path d=\"M17.41 7.96l-1.37-1.37c-.4-.4-.92-.59-1.43-.59-.52 0-1.04.2-1.43.59L10.3 9.45l-7.72 7.72c-.78.78-.78 2.05 0 2.83L4 21.41c.39.39.9.59 1.41.59.51 0 1.02-.2 1.41-.59l7.78-7.78 2.81-2.81c.8-.78.8-2.07 0-2.86zM5.41 20L4 18.59l7.72-7.72 1.47 1.35L5.41 20z\"/>\n",
              "  </svg>\n",
              "      </button>\n",
              "      \n",
              "  <style>\n",
              "    .colab-df-container {\n",
              "      display:flex;\n",
              "      flex-wrap:wrap;\n",
              "      gap: 12px;\n",
              "    }\n",
              "\n",
              "    .colab-df-convert {\n",
              "      background-color: #E8F0FE;\n",
              "      border: none;\n",
              "      border-radius: 50%;\n",
              "      cursor: pointer;\n",
              "      display: none;\n",
              "      fill: #1967D2;\n",
              "      height: 32px;\n",
              "      padding: 0 0 0 0;\n",
              "      width: 32px;\n",
              "    }\n",
              "\n",
              "    .colab-df-convert:hover {\n",
              "      background-color: #E2EBFA;\n",
              "      box-shadow: 0px 1px 2px rgba(60, 64, 67, 0.3), 0px 1px 3px 1px rgba(60, 64, 67, 0.15);\n",
              "      fill: #174EA6;\n",
              "    }\n",
              "\n",
              "    [theme=dark] .colab-df-convert {\n",
              "      background-color: #3B4455;\n",
              "      fill: #D2E3FC;\n",
              "    }\n",
              "\n",
              "    [theme=dark] .colab-df-convert:hover {\n",
              "      background-color: #434B5C;\n",
              "      box-shadow: 0px 1px 3px 1px rgba(0, 0, 0, 0.15);\n",
              "      filter: drop-shadow(0px 1px 2px rgba(0, 0, 0, 0.3));\n",
              "      fill: #FFFFFF;\n",
              "    }\n",
              "  </style>\n",
              "\n",
              "      <script>\n",
              "        const buttonEl =\n",
              "          document.querySelector('#df-102a7159-2b31-442a-869c-f0ad7f531719 button.colab-df-convert');\n",
              "        buttonEl.style.display =\n",
              "          google.colab.kernel.accessAllowed ? 'block' : 'none';\n",
              "\n",
              "        async function convertToInteractive(key) {\n",
              "          const element = document.querySelector('#df-102a7159-2b31-442a-869c-f0ad7f531719');\n",
              "          const dataTable =\n",
              "            await google.colab.kernel.invokeFunction('convertToInteractive',\n",
              "                                                     [key], {});\n",
              "          if (!dataTable) return;\n",
              "\n",
              "          const docLinkHtml = 'Like what you see? Visit the ' +\n",
              "            '<a target=\"_blank\" href=https://colab.research.google.com/notebooks/data_table.ipynb>data table notebook</a>'\n",
              "            + ' to learn more about interactive tables.';\n",
              "          element.innerHTML = '';\n",
              "          dataTable['output_type'] = 'display_data';\n",
              "          await google.colab.output.renderOutput(dataTable, element);\n",
              "          const docLink = document.createElement('div');\n",
              "          docLink.innerHTML = docLinkHtml;\n",
              "          element.appendChild(docLink);\n",
              "        }\n",
              "      </script>\n",
              "    </div>\n",
              "  </div>\n",
              "  "
            ]
          },
          "metadata": {},
          "execution_count": 46
        }
      ]
    },
    {
      "cell_type": "code",
      "metadata": {
        "id": "uT3e1RsYrD4q"
      },
      "source": [
        "# non recommendé\n",
        "# ted_main.set_index('url', inplace=True)"
      ],
      "execution_count": null,
      "outputs": []
    },
    {
      "cell_type": "code",
      "metadata": {
        "id": "BAbWmI_t053V",
        "colab": {
          "base_uri": "https://localhost:8080/"
        },
        "outputId": "f61a242b-0a80-4902-bcef-52141f77d860"
      },
      "source": [
        "ted_main.set_index('url').iloc[0]"
      ],
      "execution_count": null,
      "outputs": [
        {
          "output_type": "execute_result",
          "data": {
            "text/plain": [
              "comments                                                           4553\n",
              "description           Sir Ken Robinson makes an entertaining and pro...\n",
              "duration                                                           1164\n",
              "event                                                           TED2006\n",
              "film_date                                                    1140825600\n",
              "languages                                                            60\n",
              "main_speaker                                               Ken Robinson\n",
              "name                          Ken Robinson: Do schools kill creativity?\n",
              "num_speaker                                                           1\n",
              "published_date                                               1151367060\n",
              "ratings               [{'id': 7, 'name': 'Funny', 'count': 19645}, {...\n",
              "related_talks         [{'id': 865, 'hero': 'https://pe.tedcdn.com/im...\n",
              "speaker_occupation                                      Author/educator\n",
              "tags                  ['children', 'creativity', 'culture', 'dance',...\n",
              "title                                       Do schools kill creativity?\n",
              "views                                                          47227110\n",
              "Name: https://www.ted.com/talks/ken_robinson_says_schools_kill_creativity\\n, dtype: object"
            ]
          },
          "metadata": {},
          "execution_count": 48
        }
      ]
    },
    {
      "cell_type": "code",
      "metadata": {
        "id": "UiPSWaAVWS-n",
        "colab": {
          "base_uri": "https://localhost:8080/",
          "height": 503
        },
        "outputId": "b486d84a-fae4-4f89-b85f-fc208498fed8"
      },
      "source": [
        "ted_main.set_index('url').loc[0]"
      ],
      "execution_count": null,
      "outputs": [
        {
          "output_type": "error",
          "ename": "KeyError",
          "evalue": "ignored",
          "traceback": [
            "\u001b[0;31m---------------------------------------------------------------------------\u001b[0m",
            "\u001b[0;31mKeyError\u001b[0m                                  Traceback (most recent call last)",
            "\u001b[0;32m/usr/local/lib/python3.7/dist-packages/pandas/core/indexes/base.py\u001b[0m in \u001b[0;36mget_loc\u001b[0;34m(self, key, method, tolerance)\u001b[0m\n\u001b[1;32m   3360\u001b[0m             \u001b[0;32mtry\u001b[0m\u001b[0;34m:\u001b[0m\u001b[0;34m\u001b[0m\u001b[0;34m\u001b[0m\u001b[0m\n\u001b[0;32m-> 3361\u001b[0;31m                 \u001b[0;32mreturn\u001b[0m \u001b[0mself\u001b[0m\u001b[0;34m.\u001b[0m\u001b[0m_engine\u001b[0m\u001b[0;34m.\u001b[0m\u001b[0mget_loc\u001b[0m\u001b[0;34m(\u001b[0m\u001b[0mcasted_key\u001b[0m\u001b[0;34m)\u001b[0m\u001b[0;34m\u001b[0m\u001b[0;34m\u001b[0m\u001b[0m\n\u001b[0m\u001b[1;32m   3362\u001b[0m             \u001b[0;32mexcept\u001b[0m \u001b[0mKeyError\u001b[0m \u001b[0;32mas\u001b[0m \u001b[0merr\u001b[0m\u001b[0;34m:\u001b[0m\u001b[0;34m\u001b[0m\u001b[0;34m\u001b[0m\u001b[0m\n",
            "\u001b[0;32m/usr/local/lib/python3.7/dist-packages/pandas/_libs/index.pyx\u001b[0m in \u001b[0;36mpandas._libs.index.IndexEngine.get_loc\u001b[0;34m()\u001b[0m\n",
            "\u001b[0;32m/usr/local/lib/python3.7/dist-packages/pandas/_libs/index.pyx\u001b[0m in \u001b[0;36mpandas._libs.index.IndexEngine.get_loc\u001b[0;34m()\u001b[0m\n",
            "\u001b[0;32mpandas/_libs/hashtable_class_helper.pxi\u001b[0m in \u001b[0;36mpandas._libs.hashtable.PyObjectHashTable.get_item\u001b[0;34m()\u001b[0m\n",
            "\u001b[0;32mpandas/_libs/hashtable_class_helper.pxi\u001b[0m in \u001b[0;36mpandas._libs.hashtable.PyObjectHashTable.get_item\u001b[0;34m()\u001b[0m\n",
            "\u001b[0;31mKeyError\u001b[0m: 0",
            "\nThe above exception was the direct cause of the following exception:\n",
            "\u001b[0;31mKeyError\u001b[0m                                  Traceback (most recent call last)",
            "\u001b[0;32m<ipython-input-49-c6dde4c55e4c>\u001b[0m in \u001b[0;36m<module>\u001b[0;34m\u001b[0m\n\u001b[0;32m----> 1\u001b[0;31m \u001b[0mted_main\u001b[0m\u001b[0;34m.\u001b[0m\u001b[0mset_index\u001b[0m\u001b[0;34m(\u001b[0m\u001b[0;34m'url'\u001b[0m\u001b[0;34m)\u001b[0m\u001b[0;34m.\u001b[0m\u001b[0mloc\u001b[0m\u001b[0;34m[\u001b[0m\u001b[0;36m0\u001b[0m\u001b[0;34m]\u001b[0m\u001b[0;34m\u001b[0m\u001b[0;34m\u001b[0m\u001b[0m\n\u001b[0m",
            "\u001b[0;32m/usr/local/lib/python3.7/dist-packages/pandas/core/indexing.py\u001b[0m in \u001b[0;36m__getitem__\u001b[0;34m(self, key)\u001b[0m\n\u001b[1;32m    929\u001b[0m \u001b[0;34m\u001b[0m\u001b[0m\n\u001b[1;32m    930\u001b[0m             \u001b[0mmaybe_callable\u001b[0m \u001b[0;34m=\u001b[0m \u001b[0mcom\u001b[0m\u001b[0;34m.\u001b[0m\u001b[0mapply_if_callable\u001b[0m\u001b[0;34m(\u001b[0m\u001b[0mkey\u001b[0m\u001b[0;34m,\u001b[0m \u001b[0mself\u001b[0m\u001b[0;34m.\u001b[0m\u001b[0mobj\u001b[0m\u001b[0;34m)\u001b[0m\u001b[0;34m\u001b[0m\u001b[0;34m\u001b[0m\u001b[0m\n\u001b[0;32m--> 931\u001b[0;31m             \u001b[0;32mreturn\u001b[0m \u001b[0mself\u001b[0m\u001b[0;34m.\u001b[0m\u001b[0m_getitem_axis\u001b[0m\u001b[0;34m(\u001b[0m\u001b[0mmaybe_callable\u001b[0m\u001b[0;34m,\u001b[0m \u001b[0maxis\u001b[0m\u001b[0;34m=\u001b[0m\u001b[0maxis\u001b[0m\u001b[0;34m)\u001b[0m\u001b[0;34m\u001b[0m\u001b[0;34m\u001b[0m\u001b[0m\n\u001b[0m\u001b[1;32m    932\u001b[0m \u001b[0;34m\u001b[0m\u001b[0m\n\u001b[1;32m    933\u001b[0m     \u001b[0;32mdef\u001b[0m \u001b[0m_is_scalar_access\u001b[0m\u001b[0;34m(\u001b[0m\u001b[0mself\u001b[0m\u001b[0;34m,\u001b[0m \u001b[0mkey\u001b[0m\u001b[0;34m:\u001b[0m \u001b[0mtuple\u001b[0m\u001b[0;34m)\u001b[0m\u001b[0;34m:\u001b[0m\u001b[0;34m\u001b[0m\u001b[0;34m\u001b[0m\u001b[0m\n",
            "\u001b[0;32m/usr/local/lib/python3.7/dist-packages/pandas/core/indexing.py\u001b[0m in \u001b[0;36m_getitem_axis\u001b[0;34m(self, key, axis)\u001b[0m\n\u001b[1;32m   1162\u001b[0m         \u001b[0;31m# fall thru to straight lookup\u001b[0m\u001b[0;34m\u001b[0m\u001b[0;34m\u001b[0m\u001b[0;34m\u001b[0m\u001b[0m\n\u001b[1;32m   1163\u001b[0m         \u001b[0mself\u001b[0m\u001b[0;34m.\u001b[0m\u001b[0m_validate_key\u001b[0m\u001b[0;34m(\u001b[0m\u001b[0mkey\u001b[0m\u001b[0;34m,\u001b[0m \u001b[0maxis\u001b[0m\u001b[0;34m)\u001b[0m\u001b[0;34m\u001b[0m\u001b[0;34m\u001b[0m\u001b[0m\n\u001b[0;32m-> 1164\u001b[0;31m         \u001b[0;32mreturn\u001b[0m \u001b[0mself\u001b[0m\u001b[0;34m.\u001b[0m\u001b[0m_get_label\u001b[0m\u001b[0;34m(\u001b[0m\u001b[0mkey\u001b[0m\u001b[0;34m,\u001b[0m \u001b[0maxis\u001b[0m\u001b[0;34m=\u001b[0m\u001b[0maxis\u001b[0m\u001b[0;34m)\u001b[0m\u001b[0;34m\u001b[0m\u001b[0;34m\u001b[0m\u001b[0m\n\u001b[0m\u001b[1;32m   1165\u001b[0m \u001b[0;34m\u001b[0m\u001b[0m\n\u001b[1;32m   1166\u001b[0m     \u001b[0;32mdef\u001b[0m \u001b[0m_get_slice_axis\u001b[0m\u001b[0;34m(\u001b[0m\u001b[0mself\u001b[0m\u001b[0;34m,\u001b[0m \u001b[0mslice_obj\u001b[0m\u001b[0;34m:\u001b[0m \u001b[0mslice\u001b[0m\u001b[0;34m,\u001b[0m \u001b[0maxis\u001b[0m\u001b[0;34m:\u001b[0m \u001b[0mint\u001b[0m\u001b[0;34m)\u001b[0m\u001b[0;34m:\u001b[0m\u001b[0;34m\u001b[0m\u001b[0;34m\u001b[0m\u001b[0m\n",
            "\u001b[0;32m/usr/local/lib/python3.7/dist-packages/pandas/core/indexing.py\u001b[0m in \u001b[0;36m_get_label\u001b[0;34m(self, label, axis)\u001b[0m\n\u001b[1;32m   1111\u001b[0m     \u001b[0;32mdef\u001b[0m \u001b[0m_get_label\u001b[0m\u001b[0;34m(\u001b[0m\u001b[0mself\u001b[0m\u001b[0;34m,\u001b[0m \u001b[0mlabel\u001b[0m\u001b[0;34m,\u001b[0m \u001b[0maxis\u001b[0m\u001b[0;34m:\u001b[0m \u001b[0mint\u001b[0m\u001b[0;34m)\u001b[0m\u001b[0;34m:\u001b[0m\u001b[0;34m\u001b[0m\u001b[0;34m\u001b[0m\u001b[0m\n\u001b[1;32m   1112\u001b[0m         \u001b[0;31m# GH#5667 this will fail if the label is not present in the axis.\u001b[0m\u001b[0;34m\u001b[0m\u001b[0;34m\u001b[0m\u001b[0;34m\u001b[0m\u001b[0m\n\u001b[0;32m-> 1113\u001b[0;31m         \u001b[0;32mreturn\u001b[0m \u001b[0mself\u001b[0m\u001b[0;34m.\u001b[0m\u001b[0mobj\u001b[0m\u001b[0;34m.\u001b[0m\u001b[0mxs\u001b[0m\u001b[0;34m(\u001b[0m\u001b[0mlabel\u001b[0m\u001b[0;34m,\u001b[0m \u001b[0maxis\u001b[0m\u001b[0;34m=\u001b[0m\u001b[0maxis\u001b[0m\u001b[0;34m)\u001b[0m\u001b[0;34m\u001b[0m\u001b[0;34m\u001b[0m\u001b[0m\n\u001b[0m\u001b[1;32m   1114\u001b[0m \u001b[0;34m\u001b[0m\u001b[0m\n\u001b[1;32m   1115\u001b[0m     \u001b[0;32mdef\u001b[0m \u001b[0m_handle_lowerdim_multi_index_axis0\u001b[0m\u001b[0;34m(\u001b[0m\u001b[0mself\u001b[0m\u001b[0;34m,\u001b[0m \u001b[0mtup\u001b[0m\u001b[0;34m:\u001b[0m \u001b[0mtuple\u001b[0m\u001b[0;34m)\u001b[0m\u001b[0;34m:\u001b[0m\u001b[0;34m\u001b[0m\u001b[0;34m\u001b[0m\u001b[0m\n",
            "\u001b[0;32m/usr/local/lib/python3.7/dist-packages/pandas/core/generic.py\u001b[0m in \u001b[0;36mxs\u001b[0;34m(self, key, axis, level, drop_level)\u001b[0m\n\u001b[1;32m   3774\u001b[0m                 \u001b[0;32mraise\u001b[0m \u001b[0mTypeError\u001b[0m\u001b[0;34m(\u001b[0m\u001b[0;34mf\"Expected label or tuple of labels, got {key}\"\u001b[0m\u001b[0;34m)\u001b[0m \u001b[0;32mfrom\u001b[0m \u001b[0me\u001b[0m\u001b[0;34m\u001b[0m\u001b[0;34m\u001b[0m\u001b[0m\n\u001b[1;32m   3775\u001b[0m         \u001b[0;32melse\u001b[0m\u001b[0;34m:\u001b[0m\u001b[0;34m\u001b[0m\u001b[0;34m\u001b[0m\u001b[0m\n\u001b[0;32m-> 3776\u001b[0;31m             \u001b[0mloc\u001b[0m \u001b[0;34m=\u001b[0m \u001b[0mindex\u001b[0m\u001b[0;34m.\u001b[0m\u001b[0mget_loc\u001b[0m\u001b[0;34m(\u001b[0m\u001b[0mkey\u001b[0m\u001b[0;34m)\u001b[0m\u001b[0;34m\u001b[0m\u001b[0;34m\u001b[0m\u001b[0m\n\u001b[0m\u001b[1;32m   3777\u001b[0m \u001b[0;34m\u001b[0m\u001b[0m\n\u001b[1;32m   3778\u001b[0m             \u001b[0;32mif\u001b[0m \u001b[0misinstance\u001b[0m\u001b[0;34m(\u001b[0m\u001b[0mloc\u001b[0m\u001b[0;34m,\u001b[0m \u001b[0mnp\u001b[0m\u001b[0;34m.\u001b[0m\u001b[0mndarray\u001b[0m\u001b[0;34m)\u001b[0m\u001b[0;34m:\u001b[0m\u001b[0;34m\u001b[0m\u001b[0;34m\u001b[0m\u001b[0m\n",
            "\u001b[0;32m/usr/local/lib/python3.7/dist-packages/pandas/core/indexes/base.py\u001b[0m in \u001b[0;36mget_loc\u001b[0;34m(self, key, method, tolerance)\u001b[0m\n\u001b[1;32m   3361\u001b[0m                 \u001b[0;32mreturn\u001b[0m \u001b[0mself\u001b[0m\u001b[0;34m.\u001b[0m\u001b[0m_engine\u001b[0m\u001b[0;34m.\u001b[0m\u001b[0mget_loc\u001b[0m\u001b[0;34m(\u001b[0m\u001b[0mcasted_key\u001b[0m\u001b[0;34m)\u001b[0m\u001b[0;34m\u001b[0m\u001b[0;34m\u001b[0m\u001b[0m\n\u001b[1;32m   3362\u001b[0m             \u001b[0;32mexcept\u001b[0m \u001b[0mKeyError\u001b[0m \u001b[0;32mas\u001b[0m \u001b[0merr\u001b[0m\u001b[0;34m:\u001b[0m\u001b[0;34m\u001b[0m\u001b[0;34m\u001b[0m\u001b[0m\n\u001b[0;32m-> 3363\u001b[0;31m                 \u001b[0;32mraise\u001b[0m \u001b[0mKeyError\u001b[0m\u001b[0;34m(\u001b[0m\u001b[0mkey\u001b[0m\u001b[0;34m)\u001b[0m \u001b[0;32mfrom\u001b[0m \u001b[0merr\u001b[0m\u001b[0;34m\u001b[0m\u001b[0;34m\u001b[0m\u001b[0m\n\u001b[0m\u001b[1;32m   3364\u001b[0m \u001b[0;34m\u001b[0m\u001b[0m\n\u001b[1;32m   3365\u001b[0m         \u001b[0;32mif\u001b[0m \u001b[0mis_scalar\u001b[0m\u001b[0;34m(\u001b[0m\u001b[0mkey\u001b[0m\u001b[0;34m)\u001b[0m \u001b[0;32mand\u001b[0m \u001b[0misna\u001b[0m\u001b[0;34m(\u001b[0m\u001b[0mkey\u001b[0m\u001b[0;34m)\u001b[0m \u001b[0;32mand\u001b[0m \u001b[0;32mnot\u001b[0m \u001b[0mself\u001b[0m\u001b[0;34m.\u001b[0m\u001b[0mhasnans\u001b[0m\u001b[0;34m:\u001b[0m\u001b[0;34m\u001b[0m\u001b[0;34m\u001b[0m\u001b[0m\n",
            "\u001b[0;31mKeyError\u001b[0m: 0"
          ]
        }
      ]
    },
    {
      "cell_type": "code",
      "metadata": {
        "id": "VhykZaeq09gK"
      },
      "source": [
        "ted_main.set_index('url').loc['https://www.ted.com/talks/ken_robinson_says_schools_kill_creativity\\n']"
      ],
      "execution_count": null,
      "outputs": []
    },
    {
      "cell_type": "code",
      "metadata": {
        "id": "dNyP9Qnh6TF9"
      },
      "source": [
        "# voir les types de chaque colonne\n",
        "\n",
        "ted_main.dtypes"
      ],
      "execution_count": null,
      "outputs": []
    },
    {
      "cell_type": "code",
      "metadata": {
        "id": "5ShIu0KSzu1D"
      },
      "source": [
        "# Affiche des statistiques récapitulatives pour les colonnes *numériques*.\n",
        "\n",
        "ted_main.describe()"
      ],
      "execution_count": null,
      "outputs": []
    },
    {
      "cell_type": "code",
      "metadata": {
        "id": "vmMvBywDr6Mo"
      },
      "source": [
        "# compte le nombre de lignes pour chaque valeur de 'num_speaker'.\n",
        "ted_main['num_speaker'].value_counts()"
      ],
      "execution_count": null,
      "outputs": []
    },
    {
      "cell_type": "code",
      "metadata": {
        "id": "rSthVX2D2Awd"
      },
      "source": [
        "ted_main['event'].value_counts()"
      ],
      "execution_count": null,
      "outputs": []
    },
    {
      "cell_type": "code",
      "metadata": {
        "id": "aIHTbXdO0ZKn"
      },
      "source": [
        "# Récupérer deux colonnes spécifiques.\n",
        "# alias projection dans le langage de requête de la BD, SELECT <..> FROM .\n",
        "l = ['main_speaker', 'speaker_occupation']\n",
        "ted_main[l]"
      ],
      "execution_count": null,
      "outputs": []
    },
    {
      "cell_type": "code",
      "metadata": {
        "id": "QpqBrrgrXCXo"
      },
      "source": [
        "ted_main[['main_speaker', 'speaker_occupation']]"
      ],
      "execution_count": null,
      "outputs": []
    },
    {
      "cell_type": "code",
      "metadata": {
        "id": "FfUGB5O9_l46"
      },
      "source": [
        "l = ['main_speaker', 'speaker_occupation']\n",
        "ted_main[l].drop_duplicates('main_speaker')"
      ],
      "execution_count": null,
      "outputs": []
    },
    {
      "cell_type": "code",
      "source": [
        "ted_main.drop_duplicates?"
      ],
      "metadata": {
        "id": "vQKpacSzLeby"
      },
      "execution_count": null,
      "outputs": []
    },
    {
      "cell_type": "code",
      "metadata": {
        "id": "MrU3TPt5sb7B"
      },
      "source": [
        "#ted_main.drop_duplicates(inplace=True)\n",
        "#ted_main.shape"
      ],
      "execution_count": null,
      "outputs": []
    },
    {
      "cell_type": "code",
      "metadata": {
        "id": "QmmL6AF5s1L1"
      },
      "source": [
        "# Obtenir un sous-ensemble de lignes qui remplissent une certaine contrainte.\n",
        "# alias sélection dans le langage de requête de la BD, SELECT * WHERE...\n",
        "mapp = ted_main['views'] > 31415926"
      ],
      "execution_count": null,
      "outputs": []
    },
    {
      "cell_type": "code",
      "source": [
        "mapp"
      ],
      "metadata": {
        "id": "UycYk4OnNdrS"
      },
      "execution_count": null,
      "outputs": []
    },
    {
      "cell_type": "code",
      "metadata": {
        "id": "JcFsVU-a1PZB"
      },
      "source": [
        "\n",
        "ted_main[mapp]"
      ],
      "execution_count": null,
      "outputs": []
    },
    {
      "cell_type": "code",
      "source": [
        "ted_main[ted_main['views'] > 31425926].shape, ted_main[mapp].shape"
      ],
      "metadata": {
        "id": "j8M4HsRRN84L"
      },
      "execution_count": null,
      "outputs": []
    },
    {
      "cell_type": "code",
      "metadata": {
        "id": "Gqkheae3s3zy"
      },
      "source": [
        "ted_main[(ted_main['views'] >  31415926)  | (ted_main['duration']>1000)].shape"
      ],
      "execution_count": null,
      "outputs": []
    },
    {
      "cell_type": "code",
      "metadata": {
        "id": "wdAadUf5XVms"
      },
      "source": [
        "mapp"
      ],
      "execution_count": null,
      "outputs": []
    },
    {
      "cell_type": "markdown",
      "metadata": {
        "id": "RdyHPSlS3l2j"
      },
      "source": [
        "## Que faire si ma fonction de filtrage est plus compliquée ?\n",
        "Par exemple, je veux obtenir toutes les conférences TEDx dans l'ensemble de données."
      ]
    },
    {
      "cell_type": "code",
      "metadata": {
        "id": "8-M9yLH13lGo"
      },
      "source": [
        "# Les fonctions lambda aident à garder votre code propre et compact.\n",
        "mapp2 = ted_main['event'].apply(lambda phrase : 'TEDx' in phrase)"
      ],
      "execution_count": null,
      "outputs": []
    },
    {
      "cell_type": "code",
      "source": [
        "mapp2"
      ],
      "metadata": {
        "id": "uY6znCovUk_o"
      },
      "execution_count": null,
      "outputs": []
    },
    {
      "cell_type": "code",
      "source": [
        "ted_main[mapp2]"
      ],
      "metadata": {
        "id": "IV8sfld6UdNB"
      },
      "execution_count": null,
      "outputs": []
    },
    {
      "cell_type": "code",
      "metadata": {
        "id": "NjNWy8Hn4Dik"
      },
      "source": [
        "# on peut tout mettre dans une seule ligne\n",
        "ted_main[ted_main['event'].apply(lambda phrase: 'TEDx' in phrase)]"
      ],
      "execution_count": null,
      "outputs": []
    },
    {
      "cell_type": "markdown",
      "metadata": {
        "id": "h7BWFZbj4LaY"
      },
      "source": [
        "#### Ceci est équivalent à:"
      ]
    },
    {
      "cell_type": "code",
      "metadata": {
        "id": "hRhzk7zj4K4Y"
      },
      "source": [
        "# si on ne veut pas utiliser la fonction lambda\n",
        "def is_TEDx(phrase):\n",
        "  return 'TEDx' in phrase\n",
        "ted_main[ted_main['event'].apply(is_TEDx)]\n"
      ],
      "execution_count": null,
      "outputs": []
    },
    {
      "cell_type": "markdown",
      "metadata": {
        "id": "enOgQ5pB2M0S"
      },
      "source": [
        "# Triage (Sorting):"
      ]
    },
    {
      "cell_type": "code",
      "source": [
        "ted_main.sort_values(by=['duration','event'], ascending=[True, False])"
      ],
      "metadata": {
        "id": "IaOTPsdfX645"
      },
      "execution_count": null,
      "outputs": []
    },
    {
      "cell_type": "code",
      "source": [
        "ted_main['duration'].value_counts()"
      ],
      "metadata": {
        "id": "zKRzn2sWYInY"
      },
      "execution_count": null,
      "outputs": []
    },
    {
      "cell_type": "code",
      "metadata": {
        "id": "LAh7iD4N2LEm"
      },
      "source": [
        "a = ted_main.sort_values(by=['duration', 'event'], ascending=[True, False])"
      ],
      "execution_count": null,
      "outputs": []
    },
    {
      "cell_type": "code",
      "source": [
        "a.loc[a['duration']==1099]"
      ],
      "metadata": {
        "id": "DpjjjIjiXKpZ"
      },
      "execution_count": null,
      "outputs": []
    },
    {
      "cell_type": "markdown",
      "metadata": {
        "id": "sQWiGawW51Qi"
      },
      "source": [
        "# Prétraitement (Preprocessing)"
      ]
    },
    {
      "cell_type": "code",
      "source": [
        "ted_main.isnull()"
      ],
      "metadata": {
        "id": "WBTvGTsSYjKw"
      },
      "execution_count": null,
      "outputs": []
    },
    {
      "cell_type": "code",
      "metadata": {
        "id": "MjYmeIzrYjLR"
      },
      "source": [
        " ted_main.isnull().sum()"
      ],
      "execution_count": null,
      "outputs": []
    },
    {
      "cell_type": "code",
      "metadata": {
        "id": "JbWUmVyaYrJh"
      },
      "source": [
        "ted_main.shape"
      ],
      "execution_count": null,
      "outputs": []
    },
    {
      "cell_type": "markdown",
      "metadata": {
        "id": "_3L_329TIz2j"
      },
      "source": [
        "## Remplacer les valeurs manquantes"
      ]
    },
    {
      "cell_type": "code",
      "source": [
        "# similaire à isnull, mais en plus de cela replace directement la valeure nulle avec la valeure spécifiée\n",
        "temp = ted_main.fillna('Not specified')"
      ],
      "metadata": {
        "id": "_iZJmsGEaLyo"
      },
      "execution_count": null,
      "outputs": []
    },
    {
      "cell_type": "code",
      "source": [
        "temp.isnull().sum()"
      ],
      "metadata": {
        "id": "d84UgLofaf0P"
      },
      "execution_count": null,
      "outputs": []
    },
    {
      "cell_type": "code",
      "source": [
        "temp[temp['speaker_occupation'] == 'Not specified']"
      ],
      "metadata": {
        "id": "TGLq4egWauVJ"
      },
      "execution_count": null,
      "outputs": []
    },
    {
      "cell_type": "code",
      "metadata": {
        "id": "tb_Fro80wqyg"
      },
      "source": [
        "ted_main.fillna({'speaker_occupation':\"Not specified\", \"duration\":0})"
      ],
      "execution_count": null,
      "outputs": []
    },
    {
      "cell_type": "markdown",
      "metadata": {
        "id": "IGj1JsK9I6Nc"
      },
      "source": [
        "## Supprimer les lignes avec des valeurs manquantes"
      ]
    },
    {
      "cell_type": "code",
      "source": [
        "ted_main.dropna(how='any')"
      ],
      "metadata": {
        "colab": {
          "base_uri": "https://localhost:8080/",
          "height": 1000
        },
        "id": "NtXyE8uRbpxi",
        "outputId": "eb3c5f55-c0ea-4c9c-9912-8d021fa200f7"
      },
      "execution_count": null,
      "outputs": [
        {
          "output_type": "execute_result",
          "data": {
            "text/plain": [
              "      comments                                        description  duration  \\\n",
              "0         4553  Sir Ken Robinson makes an entertaining and pro...      1164   \n",
              "1          265  With the same humor and humanity he exuded in ...       977   \n",
              "2          124  New York Times columnist David Pogue takes aim...      1286   \n",
              "3          200  In an emotionally charged talk, MacArthur-winn...      1116   \n",
              "4          593  You've never seen data presented like this. Wi...      1190   \n",
              "...        ...                                                ...       ...   \n",
              "2545        17  Between 2008 and 2016, the United States depor...       476   \n",
              "2546         6  How can you study Mars without a spaceship? He...       290   \n",
              "2547        10  Science fiction visions of the future show us ...       651   \n",
              "2548        32  In an unmissable talk about race and politics ...      1100   \n",
              "2549         8  With more than half of the world population li...       519   \n",
              "\n",
              "             event   film_date  languages         main_speaker  \\\n",
              "0          TED2006  1140825600         60         Ken Robinson   \n",
              "1          TED2006  1140825600         43              Al Gore   \n",
              "2          TED2006  1140739200         26          David Pogue   \n",
              "3          TED2006  1140912000         35        Majora Carter   \n",
              "4          TED2006  1140566400         48         Hans Rosling   \n",
              "...            ...         ...        ...                  ...   \n",
              "2545       TED2017  1496707200          4     Duarte Geraldino   \n",
              "2546       TED2017  1492992000          3  Armando Azua-Bustos   \n",
              "2547       TED2017  1492992000          1       Radhika Nagpal   \n",
              "2548  TEDxMileHigh  1499472000          1     Theo E.J. Wilson   \n",
              "2549       TED2017  1492992000          1    Karoliina Korppoo   \n",
              "\n",
              "                                                   name  num_speaker  \\\n",
              "0             Ken Robinson: Do schools kill creativity?            1   \n",
              "1                  Al Gore: Averting the climate crisis            1   \n",
              "2                         David Pogue: Simplicity sells            1   \n",
              "3                    Majora Carter: Greening the ghetto            1   \n",
              "4         Hans Rosling: The best stats you've ever seen            1   \n",
              "...                                                 ...          ...   \n",
              "2545  Duarte Geraldino: What we're missing in the de...            1   \n",
              "2546  Armando Azua-Bustos: The most Martian place on...            1   \n",
              "2547  Radhika Nagpal: What intelligent machines can ...            1   \n",
              "2548  Theo E.J. Wilson: A black man goes undercover ...            1   \n",
              "2549  Karoliina Korppoo: How a video game might help...            1   \n",
              "\n",
              "      published_date                                            ratings  \\\n",
              "0         1151367060  [{'id': 7, 'name': 'Funny', 'count': 19645}, {...   \n",
              "1         1151367060  [{'id': 7, 'name': 'Funny', 'count': 544}, {'i...   \n",
              "2         1151367060  [{'id': 7, 'name': 'Funny', 'count': 964}, {'i...   \n",
              "3         1151367060  [{'id': 3, 'name': 'Courageous', 'count': 760}...   \n",
              "4         1151440680  [{'id': 9, 'name': 'Ingenious', 'count': 3202}...   \n",
              "...              ...                                                ...   \n",
              "2545      1505851216  [{'id': 3, 'name': 'Courageous', 'count': 24},...   \n",
              "2546      1505919737  [{'id': 22, 'name': 'Fascinating', 'count': 32...   \n",
              "2547      1506006095  [{'id': 1, 'name': 'Beautiful', 'count': 14}, ...   \n",
              "2548      1506024042  [{'id': 11, 'name': 'Longwinded', 'count': 3},...   \n",
              "2549      1506092422  [{'id': 21, 'name': 'Unconvincing', 'count': 2...   \n",
              "\n",
              "                                          related_talks  \\\n",
              "0     [{'id': 865, 'hero': 'https://pe.tedcdn.com/im...   \n",
              "1     [{'id': 243, 'hero': 'https://pe.tedcdn.com/im...   \n",
              "2     [{'id': 1725, 'hero': 'https://pe.tedcdn.com/i...   \n",
              "3     [{'id': 1041, 'hero': 'https://pe.tedcdn.com/i...   \n",
              "4     [{'id': 2056, 'hero': 'https://pe.tedcdn.com/i...   \n",
              "...                                                 ...   \n",
              "2545  [{'id': 2596, 'hero': 'https://pe.tedcdn.com/i...   \n",
              "2546  [{'id': 2491, 'hero': 'https://pe.tedcdn.com/i...   \n",
              "2547  [{'id': 2346, 'hero': 'https://pe.tedcdn.com/i...   \n",
              "2548  [{'id': 2512, 'hero': 'https://pe.tedcdn.com/i...   \n",
              "2549  [{'id': 2682, 'hero': 'https://pe.tedcdn.com/i...   \n",
              "\n",
              "                        speaker_occupation  \\\n",
              "0                          Author/educator   \n",
              "1                         Climate advocate   \n",
              "2                     Technology columnist   \n",
              "3       Activist for environmental justice   \n",
              "4     Global health expert; data visionary   \n",
              "...                                    ...   \n",
              "2545                            Journalist   \n",
              "2546                        Astrobiologist   \n",
              "2547                     Robotics engineer   \n",
              "2548                   Public intellectual   \n",
              "2549                         Game designer   \n",
              "\n",
              "                                                   tags  \\\n",
              "0     ['children', 'creativity', 'culture', 'dance',...   \n",
              "1     ['alternative energy', 'cars', 'climate change...   \n",
              "2     ['computers', 'entertainment', 'interface desi...   \n",
              "3     ['MacArthur grant', 'activism', 'business', 'c...   \n",
              "4     ['Africa', 'Asia', 'Google', 'demo', 'economic...   \n",
              "...                                                 ...   \n",
              "2545  ['TED Residency', 'United States', 'community'...   \n",
              "2546  ['Mars', 'South America', 'TED Fellows', 'astr...   \n",
              "2547  ['AI', 'ants', 'fish', 'future', 'innovation',...   \n",
              "2548  ['Internet', 'TEDx', 'United States', 'communi...   \n",
              "2549  ['cities', 'design', 'future', 'infrastructure...   \n",
              "\n",
              "                                                  title  \\\n",
              "0                           Do schools kill creativity?   \n",
              "1                           Averting the climate crisis   \n",
              "2                                      Simplicity sells   \n",
              "3                                   Greening the ghetto   \n",
              "4                       The best stats you've ever seen   \n",
              "...                                                 ...   \n",
              "2545  What we're missing in the debate about immigra...   \n",
              "2546                    The most Martian place on Earth   \n",
              "2547  What intelligent machines can learn from a sch...   \n",
              "2548       A black man goes undercover in the alt-right   \n",
              "2549  How a video game might help us build better ci...   \n",
              "\n",
              "                                                    url     views  \n",
              "0     https://www.ted.com/talks/ken_robinson_says_sc...  47227110  \n",
              "1     https://www.ted.com/talks/al_gore_on_averting_...   3200520  \n",
              "2     https://www.ted.com/talks/david_pogue_says_sim...   1636292  \n",
              "3     https://www.ted.com/talks/majora_carter_s_tale...   1697550  \n",
              "4     https://www.ted.com/talks/hans_rosling_shows_t...  12005869  \n",
              "...                                                 ...       ...  \n",
              "2545  https://www.ted.com/talks/duarte_geraldino_wha...    450430  \n",
              "2546  https://www.ted.com/talks/armando_azua_bustos_...    417470  \n",
              "2547  https://www.ted.com/talks/radhika_nagpal_what_...    375647  \n",
              "2548  https://www.ted.com/talks/theo_e_j_wilson_a_bl...    419309  \n",
              "2549  https://www.ted.com/talks/karoliina_korppoo_ho...    391721  \n",
              "\n",
              "[2544 rows x 17 columns]"
            ],
            "text/html": [
              "\n",
              "  <div id=\"df-94d4a54c-b2b1-46f2-b4b6-39d4bc186706\">\n",
              "    <div class=\"colab-df-container\">\n",
              "      <div>\n",
              "<style scoped>\n",
              "    .dataframe tbody tr th:only-of-type {\n",
              "        vertical-align: middle;\n",
              "    }\n",
              "\n",
              "    .dataframe tbody tr th {\n",
              "        vertical-align: top;\n",
              "    }\n",
              "\n",
              "    .dataframe thead th {\n",
              "        text-align: right;\n",
              "    }\n",
              "</style>\n",
              "<table border=\"1\" class=\"dataframe\">\n",
              "  <thead>\n",
              "    <tr style=\"text-align: right;\">\n",
              "      <th></th>\n",
              "      <th>comments</th>\n",
              "      <th>description</th>\n",
              "      <th>duration</th>\n",
              "      <th>event</th>\n",
              "      <th>film_date</th>\n",
              "      <th>languages</th>\n",
              "      <th>main_speaker</th>\n",
              "      <th>name</th>\n",
              "      <th>num_speaker</th>\n",
              "      <th>published_date</th>\n",
              "      <th>ratings</th>\n",
              "      <th>related_talks</th>\n",
              "      <th>speaker_occupation</th>\n",
              "      <th>tags</th>\n",
              "      <th>title</th>\n",
              "      <th>url</th>\n",
              "      <th>views</th>\n",
              "    </tr>\n",
              "  </thead>\n",
              "  <tbody>\n",
              "    <tr>\n",
              "      <th>0</th>\n",
              "      <td>4553</td>\n",
              "      <td>Sir Ken Robinson makes an entertaining and pro...</td>\n",
              "      <td>1164</td>\n",
              "      <td>TED2006</td>\n",
              "      <td>1140825600</td>\n",
              "      <td>60</td>\n",
              "      <td>Ken Robinson</td>\n",
              "      <td>Ken Robinson: Do schools kill creativity?</td>\n",
              "      <td>1</td>\n",
              "      <td>1151367060</td>\n",
              "      <td>[{'id': 7, 'name': 'Funny', 'count': 19645}, {...</td>\n",
              "      <td>[{'id': 865, 'hero': 'https://pe.tedcdn.com/im...</td>\n",
              "      <td>Author/educator</td>\n",
              "      <td>['children', 'creativity', 'culture', 'dance',...</td>\n",
              "      <td>Do schools kill creativity?</td>\n",
              "      <td>https://www.ted.com/talks/ken_robinson_says_sc...</td>\n",
              "      <td>47227110</td>\n",
              "    </tr>\n",
              "    <tr>\n",
              "      <th>1</th>\n",
              "      <td>265</td>\n",
              "      <td>With the same humor and humanity he exuded in ...</td>\n",
              "      <td>977</td>\n",
              "      <td>TED2006</td>\n",
              "      <td>1140825600</td>\n",
              "      <td>43</td>\n",
              "      <td>Al Gore</td>\n",
              "      <td>Al Gore: Averting the climate crisis</td>\n",
              "      <td>1</td>\n",
              "      <td>1151367060</td>\n",
              "      <td>[{'id': 7, 'name': 'Funny', 'count': 544}, {'i...</td>\n",
              "      <td>[{'id': 243, 'hero': 'https://pe.tedcdn.com/im...</td>\n",
              "      <td>Climate advocate</td>\n",
              "      <td>['alternative energy', 'cars', 'climate change...</td>\n",
              "      <td>Averting the climate crisis</td>\n",
              "      <td>https://www.ted.com/talks/al_gore_on_averting_...</td>\n",
              "      <td>3200520</td>\n",
              "    </tr>\n",
              "    <tr>\n",
              "      <th>2</th>\n",
              "      <td>124</td>\n",
              "      <td>New York Times columnist David Pogue takes aim...</td>\n",
              "      <td>1286</td>\n",
              "      <td>TED2006</td>\n",
              "      <td>1140739200</td>\n",
              "      <td>26</td>\n",
              "      <td>David Pogue</td>\n",
              "      <td>David Pogue: Simplicity sells</td>\n",
              "      <td>1</td>\n",
              "      <td>1151367060</td>\n",
              "      <td>[{'id': 7, 'name': 'Funny', 'count': 964}, {'i...</td>\n",
              "      <td>[{'id': 1725, 'hero': 'https://pe.tedcdn.com/i...</td>\n",
              "      <td>Technology columnist</td>\n",
              "      <td>['computers', 'entertainment', 'interface desi...</td>\n",
              "      <td>Simplicity sells</td>\n",
              "      <td>https://www.ted.com/talks/david_pogue_says_sim...</td>\n",
              "      <td>1636292</td>\n",
              "    </tr>\n",
              "    <tr>\n",
              "      <th>3</th>\n",
              "      <td>200</td>\n",
              "      <td>In an emotionally charged talk, MacArthur-winn...</td>\n",
              "      <td>1116</td>\n",
              "      <td>TED2006</td>\n",
              "      <td>1140912000</td>\n",
              "      <td>35</td>\n",
              "      <td>Majora Carter</td>\n",
              "      <td>Majora Carter: Greening the ghetto</td>\n",
              "      <td>1</td>\n",
              "      <td>1151367060</td>\n",
              "      <td>[{'id': 3, 'name': 'Courageous', 'count': 760}...</td>\n",
              "      <td>[{'id': 1041, 'hero': 'https://pe.tedcdn.com/i...</td>\n",
              "      <td>Activist for environmental justice</td>\n",
              "      <td>['MacArthur grant', 'activism', 'business', 'c...</td>\n",
              "      <td>Greening the ghetto</td>\n",
              "      <td>https://www.ted.com/talks/majora_carter_s_tale...</td>\n",
              "      <td>1697550</td>\n",
              "    </tr>\n",
              "    <tr>\n",
              "      <th>4</th>\n",
              "      <td>593</td>\n",
              "      <td>You've never seen data presented like this. Wi...</td>\n",
              "      <td>1190</td>\n",
              "      <td>TED2006</td>\n",
              "      <td>1140566400</td>\n",
              "      <td>48</td>\n",
              "      <td>Hans Rosling</td>\n",
              "      <td>Hans Rosling: The best stats you've ever seen</td>\n",
              "      <td>1</td>\n",
              "      <td>1151440680</td>\n",
              "      <td>[{'id': 9, 'name': 'Ingenious', 'count': 3202}...</td>\n",
              "      <td>[{'id': 2056, 'hero': 'https://pe.tedcdn.com/i...</td>\n",
              "      <td>Global health expert; data visionary</td>\n",
              "      <td>['Africa', 'Asia', 'Google', 'demo', 'economic...</td>\n",
              "      <td>The best stats you've ever seen</td>\n",
              "      <td>https://www.ted.com/talks/hans_rosling_shows_t...</td>\n",
              "      <td>12005869</td>\n",
              "    </tr>\n",
              "    <tr>\n",
              "      <th>...</th>\n",
              "      <td>...</td>\n",
              "      <td>...</td>\n",
              "      <td>...</td>\n",
              "      <td>...</td>\n",
              "      <td>...</td>\n",
              "      <td>...</td>\n",
              "      <td>...</td>\n",
              "      <td>...</td>\n",
              "      <td>...</td>\n",
              "      <td>...</td>\n",
              "      <td>...</td>\n",
              "      <td>...</td>\n",
              "      <td>...</td>\n",
              "      <td>...</td>\n",
              "      <td>...</td>\n",
              "      <td>...</td>\n",
              "      <td>...</td>\n",
              "    </tr>\n",
              "    <tr>\n",
              "      <th>2545</th>\n",
              "      <td>17</td>\n",
              "      <td>Between 2008 and 2016, the United States depor...</td>\n",
              "      <td>476</td>\n",
              "      <td>TED2017</td>\n",
              "      <td>1496707200</td>\n",
              "      <td>4</td>\n",
              "      <td>Duarte Geraldino</td>\n",
              "      <td>Duarte Geraldino: What we're missing in the de...</td>\n",
              "      <td>1</td>\n",
              "      <td>1505851216</td>\n",
              "      <td>[{'id': 3, 'name': 'Courageous', 'count': 24},...</td>\n",
              "      <td>[{'id': 2596, 'hero': 'https://pe.tedcdn.com/i...</td>\n",
              "      <td>Journalist</td>\n",
              "      <td>['TED Residency', 'United States', 'community'...</td>\n",
              "      <td>What we're missing in the debate about immigra...</td>\n",
              "      <td>https://www.ted.com/talks/duarte_geraldino_wha...</td>\n",
              "      <td>450430</td>\n",
              "    </tr>\n",
              "    <tr>\n",
              "      <th>2546</th>\n",
              "      <td>6</td>\n",
              "      <td>How can you study Mars without a spaceship? He...</td>\n",
              "      <td>290</td>\n",
              "      <td>TED2017</td>\n",
              "      <td>1492992000</td>\n",
              "      <td>3</td>\n",
              "      <td>Armando Azua-Bustos</td>\n",
              "      <td>Armando Azua-Bustos: The most Martian place on...</td>\n",
              "      <td>1</td>\n",
              "      <td>1505919737</td>\n",
              "      <td>[{'id': 22, 'name': 'Fascinating', 'count': 32...</td>\n",
              "      <td>[{'id': 2491, 'hero': 'https://pe.tedcdn.com/i...</td>\n",
              "      <td>Astrobiologist</td>\n",
              "      <td>['Mars', 'South America', 'TED Fellows', 'astr...</td>\n",
              "      <td>The most Martian place on Earth</td>\n",
              "      <td>https://www.ted.com/talks/armando_azua_bustos_...</td>\n",
              "      <td>417470</td>\n",
              "    </tr>\n",
              "    <tr>\n",
              "      <th>2547</th>\n",
              "      <td>10</td>\n",
              "      <td>Science fiction visions of the future show us ...</td>\n",
              "      <td>651</td>\n",
              "      <td>TED2017</td>\n",
              "      <td>1492992000</td>\n",
              "      <td>1</td>\n",
              "      <td>Radhika Nagpal</td>\n",
              "      <td>Radhika Nagpal: What intelligent machines can ...</td>\n",
              "      <td>1</td>\n",
              "      <td>1506006095</td>\n",
              "      <td>[{'id': 1, 'name': 'Beautiful', 'count': 14}, ...</td>\n",
              "      <td>[{'id': 2346, 'hero': 'https://pe.tedcdn.com/i...</td>\n",
              "      <td>Robotics engineer</td>\n",
              "      <td>['AI', 'ants', 'fish', 'future', 'innovation',...</td>\n",
              "      <td>What intelligent machines can learn from a sch...</td>\n",
              "      <td>https://www.ted.com/talks/radhika_nagpal_what_...</td>\n",
              "      <td>375647</td>\n",
              "    </tr>\n",
              "    <tr>\n",
              "      <th>2548</th>\n",
              "      <td>32</td>\n",
              "      <td>In an unmissable talk about race and politics ...</td>\n",
              "      <td>1100</td>\n",
              "      <td>TEDxMileHigh</td>\n",
              "      <td>1499472000</td>\n",
              "      <td>1</td>\n",
              "      <td>Theo E.J. Wilson</td>\n",
              "      <td>Theo E.J. Wilson: A black man goes undercover ...</td>\n",
              "      <td>1</td>\n",
              "      <td>1506024042</td>\n",
              "      <td>[{'id': 11, 'name': 'Longwinded', 'count': 3},...</td>\n",
              "      <td>[{'id': 2512, 'hero': 'https://pe.tedcdn.com/i...</td>\n",
              "      <td>Public intellectual</td>\n",
              "      <td>['Internet', 'TEDx', 'United States', 'communi...</td>\n",
              "      <td>A black man goes undercover in the alt-right</td>\n",
              "      <td>https://www.ted.com/talks/theo_e_j_wilson_a_bl...</td>\n",
              "      <td>419309</td>\n",
              "    </tr>\n",
              "    <tr>\n",
              "      <th>2549</th>\n",
              "      <td>8</td>\n",
              "      <td>With more than half of the world population li...</td>\n",
              "      <td>519</td>\n",
              "      <td>TED2017</td>\n",
              "      <td>1492992000</td>\n",
              "      <td>1</td>\n",
              "      <td>Karoliina Korppoo</td>\n",
              "      <td>Karoliina Korppoo: How a video game might help...</td>\n",
              "      <td>1</td>\n",
              "      <td>1506092422</td>\n",
              "      <td>[{'id': 21, 'name': 'Unconvincing', 'count': 2...</td>\n",
              "      <td>[{'id': 2682, 'hero': 'https://pe.tedcdn.com/i...</td>\n",
              "      <td>Game designer</td>\n",
              "      <td>['cities', 'design', 'future', 'infrastructure...</td>\n",
              "      <td>How a video game might help us build better ci...</td>\n",
              "      <td>https://www.ted.com/talks/karoliina_korppoo_ho...</td>\n",
              "      <td>391721</td>\n",
              "    </tr>\n",
              "  </tbody>\n",
              "</table>\n",
              "<p>2544 rows × 17 columns</p>\n",
              "</div>\n",
              "      <button class=\"colab-df-convert\" onclick=\"convertToInteractive('df-94d4a54c-b2b1-46f2-b4b6-39d4bc186706')\"\n",
              "              title=\"Convert this dataframe to an interactive table.\"\n",
              "              style=\"display:none;\">\n",
              "        \n",
              "  <svg xmlns=\"http://www.w3.org/2000/svg\" height=\"24px\"viewBox=\"0 0 24 24\"\n",
              "       width=\"24px\">\n",
              "    <path d=\"M0 0h24v24H0V0z\" fill=\"none\"/>\n",
              "    <path d=\"M18.56 5.44l.94 2.06.94-2.06 2.06-.94-2.06-.94-.94-2.06-.94 2.06-2.06.94zm-11 1L8.5 8.5l.94-2.06 2.06-.94-2.06-.94L8.5 2.5l-.94 2.06-2.06.94zm10 10l.94 2.06.94-2.06 2.06-.94-2.06-.94-.94-2.06-.94 2.06-2.06.94z\"/><path d=\"M17.41 7.96l-1.37-1.37c-.4-.4-.92-.59-1.43-.59-.52 0-1.04.2-1.43.59L10.3 9.45l-7.72 7.72c-.78.78-.78 2.05 0 2.83L4 21.41c.39.39.9.59 1.41.59.51 0 1.02-.2 1.41-.59l7.78-7.78 2.81-2.81c.8-.78.8-2.07 0-2.86zM5.41 20L4 18.59l7.72-7.72 1.47 1.35L5.41 20z\"/>\n",
              "  </svg>\n",
              "      </button>\n",
              "      \n",
              "  <style>\n",
              "    .colab-df-container {\n",
              "      display:flex;\n",
              "      flex-wrap:wrap;\n",
              "      gap: 12px;\n",
              "    }\n",
              "\n",
              "    .colab-df-convert {\n",
              "      background-color: #E8F0FE;\n",
              "      border: none;\n",
              "      border-radius: 50%;\n",
              "      cursor: pointer;\n",
              "      display: none;\n",
              "      fill: #1967D2;\n",
              "      height: 32px;\n",
              "      padding: 0 0 0 0;\n",
              "      width: 32px;\n",
              "    }\n",
              "\n",
              "    .colab-df-convert:hover {\n",
              "      background-color: #E2EBFA;\n",
              "      box-shadow: 0px 1px 2px rgba(60, 64, 67, 0.3), 0px 1px 3px 1px rgba(60, 64, 67, 0.15);\n",
              "      fill: #174EA6;\n",
              "    }\n",
              "\n",
              "    [theme=dark] .colab-df-convert {\n",
              "      background-color: #3B4455;\n",
              "      fill: #D2E3FC;\n",
              "    }\n",
              "\n",
              "    [theme=dark] .colab-df-convert:hover {\n",
              "      background-color: #434B5C;\n",
              "      box-shadow: 0px 1px 3px 1px rgba(0, 0, 0, 0.15);\n",
              "      filter: drop-shadow(0px 1px 2px rgba(0, 0, 0, 0.3));\n",
              "      fill: #FFFFFF;\n",
              "    }\n",
              "  </style>\n",
              "\n",
              "      <script>\n",
              "        const buttonEl =\n",
              "          document.querySelector('#df-94d4a54c-b2b1-46f2-b4b6-39d4bc186706 button.colab-df-convert');\n",
              "        buttonEl.style.display =\n",
              "          google.colab.kernel.accessAllowed ? 'block' : 'none';\n",
              "\n",
              "        async function convertToInteractive(key) {\n",
              "          const element = document.querySelector('#df-94d4a54c-b2b1-46f2-b4b6-39d4bc186706');\n",
              "          const dataTable =\n",
              "            await google.colab.kernel.invokeFunction('convertToInteractive',\n",
              "                                                     [key], {});\n",
              "          if (!dataTable) return;\n",
              "\n",
              "          const docLinkHtml = 'Like what you see? Visit the ' +\n",
              "            '<a target=\"_blank\" href=https://colab.research.google.com/notebooks/data_table.ipynb>data table notebook</a>'\n",
              "            + ' to learn more about interactive tables.';\n",
              "          element.innerHTML = '';\n",
              "          dataTable['output_type'] = 'display_data';\n",
              "          await google.colab.output.renderOutput(dataTable, element);\n",
              "          const docLink = document.createElement('div');\n",
              "          docLink.innerHTML = docLinkHtml;\n",
              "          element.appendChild(docLink);\n",
              "        }\n",
              "      </script>\n",
              "    </div>\n",
              "  </div>\n",
              "  "
            ]
          },
          "metadata": {},
          "execution_count": 50
        }
      ]
    },
    {
      "cell_type": "code",
      "metadata": {
        "id": "9IsPXTUoYmgZ",
        "colab": {
          "base_uri": "https://localhost:8080/"
        },
        "outputId": "5729b8aa-f300-4b81-c297-0b2e0505abe5"
      },
      "source": [
        "ted_main.shape, ted_main.dropna(how='any').shape"
      ],
      "execution_count": null,
      "outputs": [
        {
          "output_type": "execute_result",
          "data": {
            "text/plain": [
              "((2550, 17), (2544, 17))"
            ]
          },
          "metadata": {},
          "execution_count": 51
        }
      ]
    },
    {
      "cell_type": "markdown",
      "metadata": {
        "id": "UBp5A-PiAX6M"
      },
      "source": [
        "## Convertissons ratings, related talks et tags en des formats de données appropriés !"
      ]
    },
    {
      "cell_type": "code",
      "metadata": {
        "id": "uhoPZGfg_qEp",
        "colab": {
          "base_uri": "https://localhost:8080/",
          "height": 87
        },
        "outputId": "bcc9a172-d3d0-4e37-c759-80a5b36f5236"
      },
      "source": [
        "ted_main['ratings'].iloc[0]"
      ],
      "execution_count": null,
      "outputs": [
        {
          "output_type": "execute_result",
          "data": {
            "text/plain": [
              "\"[{'id': 7, 'name': 'Funny', 'count': 19645}, {'id': 1, 'name': 'Beautiful', 'count': 4573}, {'id': 9, 'name': 'Ingenious', 'count': 6073}, {'id': 3, 'name': 'Courageous', 'count': 3253}, {'id': 11, 'name': 'Longwinded', 'count': 387}, {'id': 2, 'name': 'Confusing', 'count': 242}, {'id': 8, 'name': 'Informative', 'count': 7346}, {'id': 22, 'name': 'Fascinating', 'count': 10581}, {'id': 21, 'name': 'Unconvincing', 'count': 300}, {'id': 24, 'name': 'Persuasive', 'count': 10704}, {'id': 23, 'name': 'Jaw-dropping', 'count': 4439}, {'id': 25, 'name': 'OK', 'count': 1174}, {'id': 26, 'name': 'Obnoxious', 'count': 209}, {'id': 10, 'name': 'Inspiring', 'count': 24924}]\""
            ],
            "application/vnd.google.colaboratory.intrinsic+json": {
              "type": "string"
            }
          },
          "metadata": {},
          "execution_count": 52
        }
      ]
    },
    {
      "cell_type": "code",
      "source": [
        "ted_main.dtypes"
      ],
      "metadata": {
        "colab": {
          "base_uri": "https://localhost:8080/"
        },
        "id": "NA9vH6TdevzJ",
        "outputId": "b288346f-5987-4af7-b93e-7ebaaa2d78c3"
      },
      "execution_count": null,
      "outputs": [
        {
          "output_type": "execute_result",
          "data": {
            "text/plain": [
              "comments               int64\n",
              "description           object\n",
              "duration               int64\n",
              "event                 object\n",
              "film_date              int64\n",
              "languages              int64\n",
              "main_speaker          object\n",
              "name                  object\n",
              "num_speaker            int64\n",
              "published_date         int64\n",
              "ratings               object\n",
              "related_talks         object\n",
              "speaker_occupation    object\n",
              "tags                  object\n",
              "title                 object\n",
              "url                   object\n",
              "views                  int64\n",
              "dtype: object"
            ]
          },
          "metadata": {},
          "execution_count": 53
        }
      ]
    },
    {
      "cell_type": "code",
      "source": [
        "type(ted_main['ratings'].iloc[0])"
      ],
      "metadata": {
        "colab": {
          "base_uri": "https://localhost:8080/"
        },
        "id": "yc4eksCuexNC",
        "outputId": "f3dc17d1-9ce6-4044-c8f4-be313f05aaca"
      },
      "execution_count": null,
      "outputs": [
        {
          "output_type": "execute_result",
          "data": {
            "text/plain": [
              "str"
            ]
          },
          "metadata": {},
          "execution_count": 54
        }
      ]
    },
    {
      "cell_type": "markdown",
      "source": [
        "il parait que cette valeure était un dictionnaire mais c'est devenue une chaine de caractères probablement du au système de fichier "
      ],
      "metadata": {
        "id": "VwpRwINBdu9H"
      }
    },
    {
      "cell_type": "code",
      "metadata": {
        "colab": {
          "base_uri": "https://localhost:8080/"
        },
        "id": "YBuQ8_o7xRIj",
        "outputId": "ce228188-8c57-4f9c-821e-ed366c1b3b2a"
      },
      "source": [
        "eval(ted_main['ratings'].iloc[0])"
      ],
      "execution_count": null,
      "outputs": [
        {
          "output_type": "execute_result",
          "data": {
            "text/plain": [
              "[{'id': 7, 'name': 'Funny', 'count': 19645},\n",
              " {'id': 1, 'name': 'Beautiful', 'count': 4573},\n",
              " {'id': 9, 'name': 'Ingenious', 'count': 6073},\n",
              " {'id': 3, 'name': 'Courageous', 'count': 3253},\n",
              " {'id': 11, 'name': 'Longwinded', 'count': 387},\n",
              " {'id': 2, 'name': 'Confusing', 'count': 242},\n",
              " {'id': 8, 'name': 'Informative', 'count': 7346},\n",
              " {'id': 22, 'name': 'Fascinating', 'count': 10581},\n",
              " {'id': 21, 'name': 'Unconvincing', 'count': 300},\n",
              " {'id': 24, 'name': 'Persuasive', 'count': 10704},\n",
              " {'id': 23, 'name': 'Jaw-dropping', 'count': 4439},\n",
              " {'id': 25, 'name': 'OK', 'count': 1174},\n",
              " {'id': 26, 'name': 'Obnoxious', 'count': 209},\n",
              " {'id': 10, 'name': 'Inspiring', 'count': 24924}]"
            ]
          },
          "metadata": {},
          "execution_count": 55
        }
      ]
    },
    {
      "cell_type": "code",
      "source": [
        "eval?"
      ],
      "metadata": {
        "id": "imJn4LmZlgPF"
      },
      "execution_count": null,
      "outputs": []
    },
    {
      "cell_type": "code",
      "metadata": {
        "id": "4c-N1hMtxkcd"
      },
      "source": [
        "from ast import literal_eval\n",
        "literal_eval?"
      ],
      "execution_count": null,
      "outputs": []
    },
    {
      "cell_type": "code",
      "metadata": {
        "id": "yFEnA4RBAW8w"
      },
      "source": [
        "ted_main['ratings'] = ted_main['ratings'].apply(literal_eval)\n",
        "ted_main['related_talks'] = ted_main['related_talks'].apply(literal_eval)\n",
        "ted_main['tags'] = ted_main['tags'].apply(literal_eval)"
      ],
      "execution_count": null,
      "outputs": []
    },
    {
      "cell_type": "code",
      "metadata": {
        "id": "no4IKwWF8bmh",
        "colab": {
          "base_uri": "https://localhost:8080/"
        },
        "outputId": "23384227-17cd-487f-ea9b-74c7a4545ae7"
      },
      "source": [
        "ted_main['ratings'][0][0]"
      ],
      "execution_count": null,
      "outputs": [
        {
          "output_type": "execute_result",
          "data": {
            "text/plain": [
              "{'id': 7, 'name': 'Funny', 'count': 19645}"
            ]
          },
          "metadata": {},
          "execution_count": 59
        }
      ]
    },
    {
      "cell_type": "markdown",
      "metadata": {
        "id": "SYMj_pHsYclm"
      },
      "source": [
        "## Convertissons les dates à un format approprié\n"
      ]
    },
    {
      "cell_type": "code",
      "source": [
        "ted_main['film_date']"
      ],
      "metadata": {
        "colab": {
          "base_uri": "https://localhost:8080/"
        },
        "id": "u_lT9jxsgPqe",
        "outputId": "3f8e2325-9be2-4e72-e7a0-256fe034b7b3"
      },
      "execution_count": null,
      "outputs": [
        {
          "output_type": "execute_result",
          "data": {
            "text/plain": [
              "0       1140825600\n",
              "1       1140825600\n",
              "2       1140739200\n",
              "3       1140912000\n",
              "4       1140566400\n",
              "           ...    \n",
              "2545    1496707200\n",
              "2546    1492992000\n",
              "2547    1492992000\n",
              "2548    1499472000\n",
              "2549    1492992000\n",
              "Name: film_date, Length: 2550, dtype: int64"
            ]
          },
          "metadata": {},
          "execution_count": 60
        }
      ]
    },
    {
      "cell_type": "code",
      "metadata": {
        "id": "p8g1C_2eTdTM"
      },
      "source": [
        "pd.to_datetime?"
      ],
      "execution_count": null,
      "outputs": []
    },
    {
      "cell_type": "code",
      "metadata": {
        "id": "tO529rN2x0kV",
        "colab": {
          "base_uri": "https://localhost:8080/"
        },
        "outputId": "b44d7807-b0b1-40e1-f946-69693983788f"
      },
      "source": [
        "# convertissons la valeure en format date valide\n",
        "firstdate = pd.to_datetime(ted_main['film_date']).iloc[0]\n",
        "firstdate"
      ],
      "execution_count": null,
      "outputs": [
        {
          "output_type": "execute_result",
          "data": {
            "text/plain": [
              "Timestamp('1970-01-01 00:00:01.140825600')"
            ]
          },
          "metadata": {},
          "execution_count": 62
        }
      ]
    },
    {
      "cell_type": "code",
      "metadata": {
        "colab": {
          "base_uri": "https://localhost:8080/"
        },
        "id": "vIpHAStwx_eI",
        "outputId": "82b51f13-80bc-4b1c-8ef0-5f2c509163bf"
      },
      "source": [
        "firstdate.month   "
      ],
      "execution_count": null,
      "outputs": [
        {
          "output_type": "execute_result",
          "data": {
            "text/plain": [
              "1"
            ]
          },
          "metadata": {},
          "execution_count": 63
        }
      ]
    },
    {
      "cell_type": "code",
      "metadata": {
        "id": "kHP04wCUSnK2"
      },
      "source": [
        "ted_main['film_date'] = pd.to_datetime(ted_main['film_date'], unit='s')\n",
        "ted_main['published_date'] = pd.to_datetime(ted_main['published_date'], unit='s')"
      ],
      "execution_count": null,
      "outputs": []
    },
    {
      "cell_type": "markdown",
      "metadata": {
        "id": "sMyfq1rTAmU8"
      },
      "source": [
        "## A quoi cela ressemble-t-il maintenant ?"
      ]
    },
    {
      "cell_type": "code",
      "metadata": {
        "id": "eC8D744dAlSS",
        "colab": {
          "base_uri": "https://localhost:8080/",
          "height": 350
        },
        "outputId": "66a3bebf-47f5-43a2-dcab-6bf2ebb9a8a8"
      },
      "source": [
        "ted_main.head(2)"
      ],
      "execution_count": null,
      "outputs": [
        {
          "output_type": "execute_result",
          "data": {
            "text/plain": [
              "   comments                                        description  duration  \\\n",
              "0      4553  Sir Ken Robinson makes an entertaining and pro...      1164   \n",
              "1       265  With the same humor and humanity he exuded in ...       977   \n",
              "\n",
              "     event  film_date  languages  main_speaker  \\\n",
              "0  TED2006 2006-02-25         60  Ken Robinson   \n",
              "1  TED2006 2006-02-25         43       Al Gore   \n",
              "\n",
              "                                        name  num_speaker      published_date  \\\n",
              "0  Ken Robinson: Do schools kill creativity?            1 2006-06-27 00:11:00   \n",
              "1       Al Gore: Averting the climate crisis            1 2006-06-27 00:11:00   \n",
              "\n",
              "                                             ratings  \\\n",
              "0  [{'id': 7, 'name': 'Funny', 'count': 19645}, {...   \n",
              "1  [{'id': 7, 'name': 'Funny', 'count': 544}, {'i...   \n",
              "\n",
              "                                       related_talks speaker_occupation  \\\n",
              "0  [{'id': 865, 'hero': 'https://pe.tedcdn.com/im...    Author/educator   \n",
              "1  [{'id': 243, 'hero': 'https://pe.tedcdn.com/im...   Climate advocate   \n",
              "\n",
              "                                                tags  \\\n",
              "0  [children, creativity, culture, dance, educati...   \n",
              "1  [alternative energy, cars, climate change, cul...   \n",
              "\n",
              "                         title  \\\n",
              "0  Do schools kill creativity?   \n",
              "1  Averting the climate crisis   \n",
              "\n",
              "                                                 url     views  \n",
              "0  https://www.ted.com/talks/ken_robinson_says_sc...  47227110  \n",
              "1  https://www.ted.com/talks/al_gore_on_averting_...   3200520  "
            ],
            "text/html": [
              "\n",
              "  <div id=\"df-f0179984-46df-4b50-9bd6-16cbbdcab8ab\">\n",
              "    <div class=\"colab-df-container\">\n",
              "      <div>\n",
              "<style scoped>\n",
              "    .dataframe tbody tr th:only-of-type {\n",
              "        vertical-align: middle;\n",
              "    }\n",
              "\n",
              "    .dataframe tbody tr th {\n",
              "        vertical-align: top;\n",
              "    }\n",
              "\n",
              "    .dataframe thead th {\n",
              "        text-align: right;\n",
              "    }\n",
              "</style>\n",
              "<table border=\"1\" class=\"dataframe\">\n",
              "  <thead>\n",
              "    <tr style=\"text-align: right;\">\n",
              "      <th></th>\n",
              "      <th>comments</th>\n",
              "      <th>description</th>\n",
              "      <th>duration</th>\n",
              "      <th>event</th>\n",
              "      <th>film_date</th>\n",
              "      <th>languages</th>\n",
              "      <th>main_speaker</th>\n",
              "      <th>name</th>\n",
              "      <th>num_speaker</th>\n",
              "      <th>published_date</th>\n",
              "      <th>ratings</th>\n",
              "      <th>related_talks</th>\n",
              "      <th>speaker_occupation</th>\n",
              "      <th>tags</th>\n",
              "      <th>title</th>\n",
              "      <th>url</th>\n",
              "      <th>views</th>\n",
              "    </tr>\n",
              "  </thead>\n",
              "  <tbody>\n",
              "    <tr>\n",
              "      <th>0</th>\n",
              "      <td>4553</td>\n",
              "      <td>Sir Ken Robinson makes an entertaining and pro...</td>\n",
              "      <td>1164</td>\n",
              "      <td>TED2006</td>\n",
              "      <td>2006-02-25</td>\n",
              "      <td>60</td>\n",
              "      <td>Ken Robinson</td>\n",
              "      <td>Ken Robinson: Do schools kill creativity?</td>\n",
              "      <td>1</td>\n",
              "      <td>2006-06-27 00:11:00</td>\n",
              "      <td>[{'id': 7, 'name': 'Funny', 'count': 19645}, {...</td>\n",
              "      <td>[{'id': 865, 'hero': 'https://pe.tedcdn.com/im...</td>\n",
              "      <td>Author/educator</td>\n",
              "      <td>[children, creativity, culture, dance, educati...</td>\n",
              "      <td>Do schools kill creativity?</td>\n",
              "      <td>https://www.ted.com/talks/ken_robinson_says_sc...</td>\n",
              "      <td>47227110</td>\n",
              "    </tr>\n",
              "    <tr>\n",
              "      <th>1</th>\n",
              "      <td>265</td>\n",
              "      <td>With the same humor and humanity he exuded in ...</td>\n",
              "      <td>977</td>\n",
              "      <td>TED2006</td>\n",
              "      <td>2006-02-25</td>\n",
              "      <td>43</td>\n",
              "      <td>Al Gore</td>\n",
              "      <td>Al Gore: Averting the climate crisis</td>\n",
              "      <td>1</td>\n",
              "      <td>2006-06-27 00:11:00</td>\n",
              "      <td>[{'id': 7, 'name': 'Funny', 'count': 544}, {'i...</td>\n",
              "      <td>[{'id': 243, 'hero': 'https://pe.tedcdn.com/im...</td>\n",
              "      <td>Climate advocate</td>\n",
              "      <td>[alternative energy, cars, climate change, cul...</td>\n",
              "      <td>Averting the climate crisis</td>\n",
              "      <td>https://www.ted.com/talks/al_gore_on_averting_...</td>\n",
              "      <td>3200520</td>\n",
              "    </tr>\n",
              "  </tbody>\n",
              "</table>\n",
              "</div>\n",
              "      <button class=\"colab-df-convert\" onclick=\"convertToInteractive('df-f0179984-46df-4b50-9bd6-16cbbdcab8ab')\"\n",
              "              title=\"Convert this dataframe to an interactive table.\"\n",
              "              style=\"display:none;\">\n",
              "        \n",
              "  <svg xmlns=\"http://www.w3.org/2000/svg\" height=\"24px\"viewBox=\"0 0 24 24\"\n",
              "       width=\"24px\">\n",
              "    <path d=\"M0 0h24v24H0V0z\" fill=\"none\"/>\n",
              "    <path d=\"M18.56 5.44l.94 2.06.94-2.06 2.06-.94-2.06-.94-.94-2.06-.94 2.06-2.06.94zm-11 1L8.5 8.5l.94-2.06 2.06-.94-2.06-.94L8.5 2.5l-.94 2.06-2.06.94zm10 10l.94 2.06.94-2.06 2.06-.94-2.06-.94-.94-2.06-.94 2.06-2.06.94z\"/><path d=\"M17.41 7.96l-1.37-1.37c-.4-.4-.92-.59-1.43-.59-.52 0-1.04.2-1.43.59L10.3 9.45l-7.72 7.72c-.78.78-.78 2.05 0 2.83L4 21.41c.39.39.9.59 1.41.59.51 0 1.02-.2 1.41-.59l7.78-7.78 2.81-2.81c.8-.78.8-2.07 0-2.86zM5.41 20L4 18.59l7.72-7.72 1.47 1.35L5.41 20z\"/>\n",
              "  </svg>\n",
              "      </button>\n",
              "      \n",
              "  <style>\n",
              "    .colab-df-container {\n",
              "      display:flex;\n",
              "      flex-wrap:wrap;\n",
              "      gap: 12px;\n",
              "    }\n",
              "\n",
              "    .colab-df-convert {\n",
              "      background-color: #E8F0FE;\n",
              "      border: none;\n",
              "      border-radius: 50%;\n",
              "      cursor: pointer;\n",
              "      display: none;\n",
              "      fill: #1967D2;\n",
              "      height: 32px;\n",
              "      padding: 0 0 0 0;\n",
              "      width: 32px;\n",
              "    }\n",
              "\n",
              "    .colab-df-convert:hover {\n",
              "      background-color: #E2EBFA;\n",
              "      box-shadow: 0px 1px 2px rgba(60, 64, 67, 0.3), 0px 1px 3px 1px rgba(60, 64, 67, 0.15);\n",
              "      fill: #174EA6;\n",
              "    }\n",
              "\n",
              "    [theme=dark] .colab-df-convert {\n",
              "      background-color: #3B4455;\n",
              "      fill: #D2E3FC;\n",
              "    }\n",
              "\n",
              "    [theme=dark] .colab-df-convert:hover {\n",
              "      background-color: #434B5C;\n",
              "      box-shadow: 0px 1px 3px 1px rgba(0, 0, 0, 0.15);\n",
              "      filter: drop-shadow(0px 1px 2px rgba(0, 0, 0, 0.3));\n",
              "      fill: #FFFFFF;\n",
              "    }\n",
              "  </style>\n",
              "\n",
              "      <script>\n",
              "        const buttonEl =\n",
              "          document.querySelector('#df-f0179984-46df-4b50-9bd6-16cbbdcab8ab button.colab-df-convert');\n",
              "        buttonEl.style.display =\n",
              "          google.colab.kernel.accessAllowed ? 'block' : 'none';\n",
              "\n",
              "        async function convertToInteractive(key) {\n",
              "          const element = document.querySelector('#df-f0179984-46df-4b50-9bd6-16cbbdcab8ab');\n",
              "          const dataTable =\n",
              "            await google.colab.kernel.invokeFunction('convertToInteractive',\n",
              "                                                     [key], {});\n",
              "          if (!dataTable) return;\n",
              "\n",
              "          const docLinkHtml = 'Like what you see? Visit the ' +\n",
              "            '<a target=\"_blank\" href=https://colab.research.google.com/notebooks/data_table.ipynb>data table notebook</a>'\n",
              "            + ' to learn more about interactive tables.';\n",
              "          element.innerHTML = '';\n",
              "          dataTable['output_type'] = 'display_data';\n",
              "          await google.colab.output.renderOutput(dataTable, element);\n",
              "          const docLink = document.createElement('div');\n",
              "          docLink.innerHTML = docLinkHtml;\n",
              "          element.appendChild(docLink);\n",
              "        }\n",
              "      </script>\n",
              "    </div>\n",
              "  </div>\n",
              "  "
            ]
          },
          "metadata": {},
          "execution_count": 65
        }
      ]
    },
    {
      "cell_type": "code",
      "metadata": {
        "id": "WmoHCm0e7YdP"
      },
      "source": [
        "# Mettre à jour `languages` à 1, pour les lignes qui avaient `languages` mis à 0\n",
        "\n",
        "ted_main.loc[(ted_main['languages']==0), 'languages'] = 1\n",
        "# ted_main.loc[(ted_main['languages']==0) & (ted_main['comments']=='whatever'),'comments'] = 1"
      ],
      "execution_count": null,
      "outputs": []
    },
    {
      "cell_type": "code",
      "metadata": {
        "id": "Bl-np0Rb0yB2"
      },
      "source": [
        "# remettre le DF à son état d'origine si on a changer l'index\n",
        "# ted_main.reset_index(inplace=True)"
      ],
      "execution_count": null,
      "outputs": []
    },
    {
      "cell_type": "code",
      "source": [
        "ted_main.head(2)"
      ],
      "metadata": {
        "colab": {
          "base_uri": "https://localhost:8080/",
          "height": 350
        },
        "id": "igHs7-lYneUC",
        "outputId": "b91b9173-08fd-4f81-d7ce-7ef134977c6b"
      },
      "execution_count": null,
      "outputs": [
        {
          "output_type": "execute_result",
          "data": {
            "text/plain": [
              "   comments                                        description  duration  \\\n",
              "0      4553  Sir Ken Robinson makes an entertaining and pro...      1164   \n",
              "1       265  With the same humor and humanity he exuded in ...       977   \n",
              "\n",
              "     event  film_date  languages  main_speaker  \\\n",
              "0  TED2006 2006-02-25         60  Ken Robinson   \n",
              "1  TED2006 2006-02-25         43       Al Gore   \n",
              "\n",
              "                                        name  num_speaker      published_date  \\\n",
              "0  Ken Robinson: Do schools kill creativity?            1 2006-06-27 00:11:00   \n",
              "1       Al Gore: Averting the climate crisis            1 2006-06-27 00:11:00   \n",
              "\n",
              "                                             ratings  \\\n",
              "0  [{'id': 7, 'name': 'Funny', 'count': 19645}, {...   \n",
              "1  [{'id': 7, 'name': 'Funny', 'count': 544}, {'i...   \n",
              "\n",
              "                                       related_talks speaker_occupation  \\\n",
              "0  [{'id': 865, 'hero': 'https://pe.tedcdn.com/im...    Author/educator   \n",
              "1  [{'id': 243, 'hero': 'https://pe.tedcdn.com/im...   Climate advocate   \n",
              "\n",
              "                                                tags  \\\n",
              "0  [children, creativity, culture, dance, educati...   \n",
              "1  [alternative energy, cars, climate change, cul...   \n",
              "\n",
              "                         title  \\\n",
              "0  Do schools kill creativity?   \n",
              "1  Averting the climate crisis   \n",
              "\n",
              "                                                 url     views  \n",
              "0  https://www.ted.com/talks/ken_robinson_says_sc...  47227110  \n",
              "1  https://www.ted.com/talks/al_gore_on_averting_...   3200520  "
            ],
            "text/html": [
              "\n",
              "  <div id=\"df-6d8f12e2-3a13-4e79-8f60-57381abbc9f3\">\n",
              "    <div class=\"colab-df-container\">\n",
              "      <div>\n",
              "<style scoped>\n",
              "    .dataframe tbody tr th:only-of-type {\n",
              "        vertical-align: middle;\n",
              "    }\n",
              "\n",
              "    .dataframe tbody tr th {\n",
              "        vertical-align: top;\n",
              "    }\n",
              "\n",
              "    .dataframe thead th {\n",
              "        text-align: right;\n",
              "    }\n",
              "</style>\n",
              "<table border=\"1\" class=\"dataframe\">\n",
              "  <thead>\n",
              "    <tr style=\"text-align: right;\">\n",
              "      <th></th>\n",
              "      <th>comments</th>\n",
              "      <th>description</th>\n",
              "      <th>duration</th>\n",
              "      <th>event</th>\n",
              "      <th>film_date</th>\n",
              "      <th>languages</th>\n",
              "      <th>main_speaker</th>\n",
              "      <th>name</th>\n",
              "      <th>num_speaker</th>\n",
              "      <th>published_date</th>\n",
              "      <th>ratings</th>\n",
              "      <th>related_talks</th>\n",
              "      <th>speaker_occupation</th>\n",
              "      <th>tags</th>\n",
              "      <th>title</th>\n",
              "      <th>url</th>\n",
              "      <th>views</th>\n",
              "    </tr>\n",
              "  </thead>\n",
              "  <tbody>\n",
              "    <tr>\n",
              "      <th>0</th>\n",
              "      <td>4553</td>\n",
              "      <td>Sir Ken Robinson makes an entertaining and pro...</td>\n",
              "      <td>1164</td>\n",
              "      <td>TED2006</td>\n",
              "      <td>2006-02-25</td>\n",
              "      <td>60</td>\n",
              "      <td>Ken Robinson</td>\n",
              "      <td>Ken Robinson: Do schools kill creativity?</td>\n",
              "      <td>1</td>\n",
              "      <td>2006-06-27 00:11:00</td>\n",
              "      <td>[{'id': 7, 'name': 'Funny', 'count': 19645}, {...</td>\n",
              "      <td>[{'id': 865, 'hero': 'https://pe.tedcdn.com/im...</td>\n",
              "      <td>Author/educator</td>\n",
              "      <td>[children, creativity, culture, dance, educati...</td>\n",
              "      <td>Do schools kill creativity?</td>\n",
              "      <td>https://www.ted.com/talks/ken_robinson_says_sc...</td>\n",
              "      <td>47227110</td>\n",
              "    </tr>\n",
              "    <tr>\n",
              "      <th>1</th>\n",
              "      <td>265</td>\n",
              "      <td>With the same humor and humanity he exuded in ...</td>\n",
              "      <td>977</td>\n",
              "      <td>TED2006</td>\n",
              "      <td>2006-02-25</td>\n",
              "      <td>43</td>\n",
              "      <td>Al Gore</td>\n",
              "      <td>Al Gore: Averting the climate crisis</td>\n",
              "      <td>1</td>\n",
              "      <td>2006-06-27 00:11:00</td>\n",
              "      <td>[{'id': 7, 'name': 'Funny', 'count': 544}, {'i...</td>\n",
              "      <td>[{'id': 243, 'hero': 'https://pe.tedcdn.com/im...</td>\n",
              "      <td>Climate advocate</td>\n",
              "      <td>[alternative energy, cars, climate change, cul...</td>\n",
              "      <td>Averting the climate crisis</td>\n",
              "      <td>https://www.ted.com/talks/al_gore_on_averting_...</td>\n",
              "      <td>3200520</td>\n",
              "    </tr>\n",
              "  </tbody>\n",
              "</table>\n",
              "</div>\n",
              "      <button class=\"colab-df-convert\" onclick=\"convertToInteractive('df-6d8f12e2-3a13-4e79-8f60-57381abbc9f3')\"\n",
              "              title=\"Convert this dataframe to an interactive table.\"\n",
              "              style=\"display:none;\">\n",
              "        \n",
              "  <svg xmlns=\"http://www.w3.org/2000/svg\" height=\"24px\"viewBox=\"0 0 24 24\"\n",
              "       width=\"24px\">\n",
              "    <path d=\"M0 0h24v24H0V0z\" fill=\"none\"/>\n",
              "    <path d=\"M18.56 5.44l.94 2.06.94-2.06 2.06-.94-2.06-.94-.94-2.06-.94 2.06-2.06.94zm-11 1L8.5 8.5l.94-2.06 2.06-.94-2.06-.94L8.5 2.5l-.94 2.06-2.06.94zm10 10l.94 2.06.94-2.06 2.06-.94-2.06-.94-.94-2.06-.94 2.06-2.06.94z\"/><path d=\"M17.41 7.96l-1.37-1.37c-.4-.4-.92-.59-1.43-.59-.52 0-1.04.2-1.43.59L10.3 9.45l-7.72 7.72c-.78.78-.78 2.05 0 2.83L4 21.41c.39.39.9.59 1.41.59.51 0 1.02-.2 1.41-.59l7.78-7.78 2.81-2.81c.8-.78.8-2.07 0-2.86zM5.41 20L4 18.59l7.72-7.72 1.47 1.35L5.41 20z\"/>\n",
              "  </svg>\n",
              "      </button>\n",
              "      \n",
              "  <style>\n",
              "    .colab-df-container {\n",
              "      display:flex;\n",
              "      flex-wrap:wrap;\n",
              "      gap: 12px;\n",
              "    }\n",
              "\n",
              "    .colab-df-convert {\n",
              "      background-color: #E8F0FE;\n",
              "      border: none;\n",
              "      border-radius: 50%;\n",
              "      cursor: pointer;\n",
              "      display: none;\n",
              "      fill: #1967D2;\n",
              "      height: 32px;\n",
              "      padding: 0 0 0 0;\n",
              "      width: 32px;\n",
              "    }\n",
              "\n",
              "    .colab-df-convert:hover {\n",
              "      background-color: #E2EBFA;\n",
              "      box-shadow: 0px 1px 2px rgba(60, 64, 67, 0.3), 0px 1px 3px 1px rgba(60, 64, 67, 0.15);\n",
              "      fill: #174EA6;\n",
              "    }\n",
              "\n",
              "    [theme=dark] .colab-df-convert {\n",
              "      background-color: #3B4455;\n",
              "      fill: #D2E3FC;\n",
              "    }\n",
              "\n",
              "    [theme=dark] .colab-df-convert:hover {\n",
              "      background-color: #434B5C;\n",
              "      box-shadow: 0px 1px 3px 1px rgba(0, 0, 0, 0.15);\n",
              "      filter: drop-shadow(0px 1px 2px rgba(0, 0, 0, 0.3));\n",
              "      fill: #FFFFFF;\n",
              "    }\n",
              "  </style>\n",
              "\n",
              "      <script>\n",
              "        const buttonEl =\n",
              "          document.querySelector('#df-6d8f12e2-3a13-4e79-8f60-57381abbc9f3 button.colab-df-convert');\n",
              "        buttonEl.style.display =\n",
              "          google.colab.kernel.accessAllowed ? 'block' : 'none';\n",
              "\n",
              "        async function convertToInteractive(key) {\n",
              "          const element = document.querySelector('#df-6d8f12e2-3a13-4e79-8f60-57381abbc9f3');\n",
              "          const dataTable =\n",
              "            await google.colab.kernel.invokeFunction('convertToInteractive',\n",
              "                                                     [key], {});\n",
              "          if (!dataTable) return;\n",
              "\n",
              "          const docLinkHtml = 'Like what you see? Visit the ' +\n",
              "            '<a target=\"_blank\" href=https://colab.research.google.com/notebooks/data_table.ipynb>data table notebook</a>'\n",
              "            + ' to learn more about interactive tables.';\n",
              "          element.innerHTML = '';\n",
              "          dataTable['output_type'] = 'display_data';\n",
              "          await google.colab.output.renderOutput(dataTable, element);\n",
              "          const docLink = document.createElement('div');\n",
              "          docLink.innerHTML = docLinkHtml;\n",
              "          element.appendChild(docLink);\n",
              "        }\n",
              "      </script>\n",
              "    </div>\n",
              "  </div>\n",
              "  "
            ]
          },
          "metadata": {},
          "execution_count": 68
        }
      ]
    },
    {
      "cell_type": "code",
      "metadata": {
        "id": "pFKW4-Dk-SL5",
        "colab": {
          "base_uri": "https://localhost:8080/"
        },
        "outputId": "3dc378e7-5983-462d-efa1-95414f1ee524"
      },
      "source": [
        "# Afficher `url` \n",
        "# Notez le signe 'newline' (\\m) à la fin\n",
        "\n",
        "ted_main['url'].values"
      ],
      "execution_count": null,
      "outputs": [
        {
          "output_type": "execute_result",
          "data": {
            "text/plain": [
              "array(['https://www.ted.com/talks/ken_robinson_says_schools_kill_creativity\\n',\n",
              "       'https://www.ted.com/talks/al_gore_on_averting_climate_crisis\\n',\n",
              "       'https://www.ted.com/talks/david_pogue_says_simplicity_sells\\n',\n",
              "       ...,\n",
              "       'https://www.ted.com/talks/radhika_nagpal_what_intelligent_machines_can_learn_from_a_school_of_fish\\n',\n",
              "       'https://www.ted.com/talks/theo_e_j_wilson_a_black_man_goes_undercover_in_the_alt_right\\n',\n",
              "       'https://www.ted.com/talks/karoliina_korppoo_how_a_video_game_might_help_us_build_better_cities\\n'],\n",
              "      dtype=object)"
            ]
          },
          "metadata": {},
          "execution_count": 69
        }
      ]
    },
    {
      "cell_type": "code",
      "metadata": {
        "colab": {
          "base_uri": "https://localhost:8080/"
        },
        "id": "H8LJ8KTp3dX3",
        "outputId": "eb21a08f-33ff-4571-8343-842164208341"
      },
      "source": [
        "a = ted_main['url'].apply(lambda x: x.replace('\\n', ''))\n",
        "a.values"
      ],
      "execution_count": null,
      "outputs": [
        {
          "output_type": "execute_result",
          "data": {
            "text/plain": [
              "array(['https://www.ted.com/talks/ken_robinson_says_schools_kill_creativity',\n",
              "       'https://www.ted.com/talks/al_gore_on_averting_climate_crisis',\n",
              "       'https://www.ted.com/talks/david_pogue_says_simplicity_sells', ...,\n",
              "       'https://www.ted.com/talks/radhika_nagpal_what_intelligent_machines_can_learn_from_a_school_of_fish',\n",
              "       'https://www.ted.com/talks/theo_e_j_wilson_a_black_man_goes_undercover_in_the_alt_right',\n",
              "       'https://www.ted.com/talks/karoliina_korppoo_how_a_video_game_might_help_us_build_better_cities'],\n",
              "      dtype=object)"
            ]
          },
          "metadata": {},
          "execution_count": 70
        }
      ]
    },
    {
      "cell_type": "code",
      "metadata": {
        "id": "lj86LL1V-UN5"
      },
      "source": [
        "# Mettre à jour les valeurs de la colonne `url` après avoir supprimé \n",
        "# les caractères de nouvelle ligne pour chaque ligne\n",
        "ted_main['url'] = ted_main['url'].apply(lambda x: x.replace('\\n', ''))"
      ],
      "execution_count": null,
      "outputs": []
    },
    {
      "cell_type": "code",
      "metadata": {
        "id": "YYwB-X73-5C8",
        "colab": {
          "base_uri": "https://localhost:8080/",
          "height": 35
        },
        "outputId": "80af6ffc-4690-4fc6-8008-ef08b408d4c8"
      },
      "source": [
        "# plus de retour à ligne embêtants \n",
        "\n",
        "ted_main['url'].iloc[0]"
      ],
      "execution_count": null,
      "outputs": [
        {
          "output_type": "execute_result",
          "data": {
            "text/plain": [
              "'https://www.ted.com/talks/ken_robinson_says_schools_kill_creativity'"
            ],
            "application/vnd.google.colaboratory.intrinsic+json": {
              "type": "string"
            }
          },
          "metadata": {},
          "execution_count": 72
        }
      ]
    },
    {
      "cell_type": "code",
      "source": [
        "ted_main['name']"
      ],
      "metadata": {
        "colab": {
          "base_uri": "https://localhost:8080/"
        },
        "id": "_kCGu9yxpD0u",
        "outputId": "43d10bae-e58a-4c83-e617-5f7f798cc585"
      },
      "execution_count": null,
      "outputs": [
        {
          "output_type": "execute_result",
          "data": {
            "text/plain": [
              "0               Ken Robinson: Do schools kill creativity?\n",
              "1                    Al Gore: Averting the climate crisis\n",
              "2                           David Pogue: Simplicity sells\n",
              "3                      Majora Carter: Greening the ghetto\n",
              "4           Hans Rosling: The best stats you've ever seen\n",
              "                              ...                        \n",
              "2545    Duarte Geraldino: What we're missing in the de...\n",
              "2546    Armando Azua-Bustos: The most Martian place on...\n",
              "2547    Radhika Nagpal: What intelligent machines can ...\n",
              "2548    Theo E.J. Wilson: A black man goes undercover ...\n",
              "2549    Karoliina Korppoo: How a video game might help...\n",
              "Name: name, Length: 2550, dtype: object"
            ]
          },
          "metadata": {},
          "execution_count": 73
        }
      ]
    },
    {
      "cell_type": "markdown",
      "source": [
        "On veut que la colonne 'name' contienne seulement le titre du TED Talk et pas le nom du speaker egalement"
      ],
      "metadata": {
        "id": "oZJSZi9dpYAw"
      }
    },
    {
      "cell_type": "code",
      "metadata": {
        "id": "6uWDGK4L6x2l"
      },
      "source": [
        "# malheureusement on ne peut pas utiliser la fonction lambda car nous avons besoin d'appliquer une fonction sur deux colonnes differentes 'name' et 'main_speaker'\n",
        "# Pour chaque ligne, `appliquer` la fonction anonyme\n",
        "# Suppression de <main_speaker> : de la colonne `name'.\n",
        "def removeSpeakerName(row):\n",
        "  return row['name'].replace(\"%s:\" %row['main_speaker'], '').strip()\n",
        "\n",
        "ted_main['name'] = ted_main.apply(removeSpeakerName, axis=1)"
      ],
      "execution_count": null,
      "outputs": []
    },
    {
      "cell_type": "code",
      "metadata": {
        "colab": {
          "base_uri": "https://localhost:8080/"
        },
        "id": "EAO3PIFb3kU9",
        "outputId": "ae65ce19-0199-4195-dee3-e60e78ac3bc1"
      },
      "source": [
        "ted_main['name']"
      ],
      "execution_count": null,
      "outputs": [
        {
          "output_type": "execute_result",
          "data": {
            "text/plain": [
              "0                             Do schools kill creativity?\n",
              "1                             Averting the climate crisis\n",
              "2                                        Simplicity sells\n",
              "3                                     Greening the ghetto\n",
              "4                         The best stats you've ever seen\n",
              "                              ...                        \n",
              "2545    What we're missing in the debate about immigra...\n",
              "2546                      The most Martian place on Earth\n",
              "2547    What intelligent machines can learn from a sch...\n",
              "2548         A black man goes undercover in the alt-right\n",
              "2549    How a video game might help us build better ci...\n",
              "Name: name, Length: 2550, dtype: object"
            ]
          },
          "metadata": {},
          "execution_count": 75
        }
      ]
    },
    {
      "cell_type": "code",
      "metadata": {
        "id": "-YCQ9gf66zN9",
        "colab": {
          "base_uri": "https://localhost:8080/",
          "height": 350
        },
        "outputId": "f2f2a4a8-2403-446a-fbd8-4e86dab33a1a"
      },
      "source": [
        "ted_main.head(2)"
      ],
      "execution_count": null,
      "outputs": [
        {
          "output_type": "execute_result",
          "data": {
            "text/plain": [
              "   comments                                        description  duration  \\\n",
              "0      4553  Sir Ken Robinson makes an entertaining and pro...      1164   \n",
              "1       265  With the same humor and humanity he exuded in ...       977   \n",
              "\n",
              "     event  film_date  languages  main_speaker                         name  \\\n",
              "0  TED2006 2006-02-25         60  Ken Robinson  Do schools kill creativity?   \n",
              "1  TED2006 2006-02-25         43       Al Gore  Averting the climate crisis   \n",
              "\n",
              "   num_speaker      published_date  \\\n",
              "0            1 2006-06-27 00:11:00   \n",
              "1            1 2006-06-27 00:11:00   \n",
              "\n",
              "                                             ratings  \\\n",
              "0  [{'id': 7, 'name': 'Funny', 'count': 19645}, {...   \n",
              "1  [{'id': 7, 'name': 'Funny', 'count': 544}, {'i...   \n",
              "\n",
              "                                       related_talks speaker_occupation  \\\n",
              "0  [{'id': 865, 'hero': 'https://pe.tedcdn.com/im...    Author/educator   \n",
              "1  [{'id': 243, 'hero': 'https://pe.tedcdn.com/im...   Climate advocate   \n",
              "\n",
              "                                                tags  \\\n",
              "0  [children, creativity, culture, dance, educati...   \n",
              "1  [alternative energy, cars, climate change, cul...   \n",
              "\n",
              "                         title  \\\n",
              "0  Do schools kill creativity?   \n",
              "1  Averting the climate crisis   \n",
              "\n",
              "                                                 url     views  \n",
              "0  https://www.ted.com/talks/ken_robinson_says_sc...  47227110  \n",
              "1  https://www.ted.com/talks/al_gore_on_averting_...   3200520  "
            ],
            "text/html": [
              "\n",
              "  <div id=\"df-12ad40a3-dda6-4670-8362-c1e110698520\">\n",
              "    <div class=\"colab-df-container\">\n",
              "      <div>\n",
              "<style scoped>\n",
              "    .dataframe tbody tr th:only-of-type {\n",
              "        vertical-align: middle;\n",
              "    }\n",
              "\n",
              "    .dataframe tbody tr th {\n",
              "        vertical-align: top;\n",
              "    }\n",
              "\n",
              "    .dataframe thead th {\n",
              "        text-align: right;\n",
              "    }\n",
              "</style>\n",
              "<table border=\"1\" class=\"dataframe\">\n",
              "  <thead>\n",
              "    <tr style=\"text-align: right;\">\n",
              "      <th></th>\n",
              "      <th>comments</th>\n",
              "      <th>description</th>\n",
              "      <th>duration</th>\n",
              "      <th>event</th>\n",
              "      <th>film_date</th>\n",
              "      <th>languages</th>\n",
              "      <th>main_speaker</th>\n",
              "      <th>name</th>\n",
              "      <th>num_speaker</th>\n",
              "      <th>published_date</th>\n",
              "      <th>ratings</th>\n",
              "      <th>related_talks</th>\n",
              "      <th>speaker_occupation</th>\n",
              "      <th>tags</th>\n",
              "      <th>title</th>\n",
              "      <th>url</th>\n",
              "      <th>views</th>\n",
              "    </tr>\n",
              "  </thead>\n",
              "  <tbody>\n",
              "    <tr>\n",
              "      <th>0</th>\n",
              "      <td>4553</td>\n",
              "      <td>Sir Ken Robinson makes an entertaining and pro...</td>\n",
              "      <td>1164</td>\n",
              "      <td>TED2006</td>\n",
              "      <td>2006-02-25</td>\n",
              "      <td>60</td>\n",
              "      <td>Ken Robinson</td>\n",
              "      <td>Do schools kill creativity?</td>\n",
              "      <td>1</td>\n",
              "      <td>2006-06-27 00:11:00</td>\n",
              "      <td>[{'id': 7, 'name': 'Funny', 'count': 19645}, {...</td>\n",
              "      <td>[{'id': 865, 'hero': 'https://pe.tedcdn.com/im...</td>\n",
              "      <td>Author/educator</td>\n",
              "      <td>[children, creativity, culture, dance, educati...</td>\n",
              "      <td>Do schools kill creativity?</td>\n",
              "      <td>https://www.ted.com/talks/ken_robinson_says_sc...</td>\n",
              "      <td>47227110</td>\n",
              "    </tr>\n",
              "    <tr>\n",
              "      <th>1</th>\n",
              "      <td>265</td>\n",
              "      <td>With the same humor and humanity he exuded in ...</td>\n",
              "      <td>977</td>\n",
              "      <td>TED2006</td>\n",
              "      <td>2006-02-25</td>\n",
              "      <td>43</td>\n",
              "      <td>Al Gore</td>\n",
              "      <td>Averting the climate crisis</td>\n",
              "      <td>1</td>\n",
              "      <td>2006-06-27 00:11:00</td>\n",
              "      <td>[{'id': 7, 'name': 'Funny', 'count': 544}, {'i...</td>\n",
              "      <td>[{'id': 243, 'hero': 'https://pe.tedcdn.com/im...</td>\n",
              "      <td>Climate advocate</td>\n",
              "      <td>[alternative energy, cars, climate change, cul...</td>\n",
              "      <td>Averting the climate crisis</td>\n",
              "      <td>https://www.ted.com/talks/al_gore_on_averting_...</td>\n",
              "      <td>3200520</td>\n",
              "    </tr>\n",
              "  </tbody>\n",
              "</table>\n",
              "</div>\n",
              "      <button class=\"colab-df-convert\" onclick=\"convertToInteractive('df-12ad40a3-dda6-4670-8362-c1e110698520')\"\n",
              "              title=\"Convert this dataframe to an interactive table.\"\n",
              "              style=\"display:none;\">\n",
              "        \n",
              "  <svg xmlns=\"http://www.w3.org/2000/svg\" height=\"24px\"viewBox=\"0 0 24 24\"\n",
              "       width=\"24px\">\n",
              "    <path d=\"M0 0h24v24H0V0z\" fill=\"none\"/>\n",
              "    <path d=\"M18.56 5.44l.94 2.06.94-2.06 2.06-.94-2.06-.94-.94-2.06-.94 2.06-2.06.94zm-11 1L8.5 8.5l.94-2.06 2.06-.94-2.06-.94L8.5 2.5l-.94 2.06-2.06.94zm10 10l.94 2.06.94-2.06 2.06-.94-2.06-.94-.94-2.06-.94 2.06-2.06.94z\"/><path d=\"M17.41 7.96l-1.37-1.37c-.4-.4-.92-.59-1.43-.59-.52 0-1.04.2-1.43.59L10.3 9.45l-7.72 7.72c-.78.78-.78 2.05 0 2.83L4 21.41c.39.39.9.59 1.41.59.51 0 1.02-.2 1.41-.59l7.78-7.78 2.81-2.81c.8-.78.8-2.07 0-2.86zM5.41 20L4 18.59l7.72-7.72 1.47 1.35L5.41 20z\"/>\n",
              "  </svg>\n",
              "      </button>\n",
              "      \n",
              "  <style>\n",
              "    .colab-df-container {\n",
              "      display:flex;\n",
              "      flex-wrap:wrap;\n",
              "      gap: 12px;\n",
              "    }\n",
              "\n",
              "    .colab-df-convert {\n",
              "      background-color: #E8F0FE;\n",
              "      border: none;\n",
              "      border-radius: 50%;\n",
              "      cursor: pointer;\n",
              "      display: none;\n",
              "      fill: #1967D2;\n",
              "      height: 32px;\n",
              "      padding: 0 0 0 0;\n",
              "      width: 32px;\n",
              "    }\n",
              "\n",
              "    .colab-df-convert:hover {\n",
              "      background-color: #E2EBFA;\n",
              "      box-shadow: 0px 1px 2px rgba(60, 64, 67, 0.3), 0px 1px 3px 1px rgba(60, 64, 67, 0.15);\n",
              "      fill: #174EA6;\n",
              "    }\n",
              "\n",
              "    [theme=dark] .colab-df-convert {\n",
              "      background-color: #3B4455;\n",
              "      fill: #D2E3FC;\n",
              "    }\n",
              "\n",
              "    [theme=dark] .colab-df-convert:hover {\n",
              "      background-color: #434B5C;\n",
              "      box-shadow: 0px 1px 3px 1px rgba(0, 0, 0, 0.15);\n",
              "      filter: drop-shadow(0px 1px 2px rgba(0, 0, 0, 0.3));\n",
              "      fill: #FFFFFF;\n",
              "    }\n",
              "  </style>\n",
              "\n",
              "      <script>\n",
              "        const buttonEl =\n",
              "          document.querySelector('#df-12ad40a3-dda6-4670-8362-c1e110698520 button.colab-df-convert');\n",
              "        buttonEl.style.display =\n",
              "          google.colab.kernel.accessAllowed ? 'block' : 'none';\n",
              "\n",
              "        async function convertToInteractive(key) {\n",
              "          const element = document.querySelector('#df-12ad40a3-dda6-4670-8362-c1e110698520');\n",
              "          const dataTable =\n",
              "            await google.colab.kernel.invokeFunction('convertToInteractive',\n",
              "                                                     [key], {});\n",
              "          if (!dataTable) return;\n",
              "\n",
              "          const docLinkHtml = 'Like what you see? Visit the ' +\n",
              "            '<a target=\"_blank\" href=https://colab.research.google.com/notebooks/data_table.ipynb>data table notebook</a>'\n",
              "            + ' to learn more about interactive tables.';\n",
              "          element.innerHTML = '';\n",
              "          dataTable['output_type'] = 'display_data';\n",
              "          await google.colab.output.renderOutput(dataTable, element);\n",
              "          const docLink = document.createElement('div');\n",
              "          docLink.innerHTML = docLinkHtml;\n",
              "          element.appendChild(docLink);\n",
              "        }\n",
              "      </script>\n",
              "    </div>\n",
              "  </div>\n",
              "  "
            ]
          },
          "metadata": {},
          "execution_count": 76
        }
      ]
    },
    {
      "cell_type": "markdown",
      "source": [
        "On passe maintenant à un l'autre dataset que nous avons importer: transcripts"
      ],
      "metadata": {
        "id": "tMwMO8KIqnrz"
      }
    },
    {
      "cell_type": "code",
      "metadata": {
        "id": "Iy-58dgv-H9K",
        "colab": {
          "base_uri": "https://localhost:8080/",
          "height": 206
        },
        "outputId": "49d42be8-f733-45a5-bc24-990b7edc0931"
      },
      "source": [
        "# Notez `(Laughter)` et `(Music..)` dans les \n",
        "# première et troisième lignes\n",
        "# ne font clairement pas partie de la transcription\n",
        "transcripts.head()"
      ],
      "execution_count": null,
      "outputs": [
        {
          "output_type": "execute_result",
          "data": {
            "text/plain": [
              "                                          transcript  \\\n",
              "0  Good morning. How are you?(Laughter)It's been ...   \n",
              "1  Thank you so much, Chris. And it's truly a gre...   \n",
              "2  (Music: \"The Sound of Silence,\" Simon & Garfun...   \n",
              "3  If you're here today — and I'm very happy that...   \n",
              "4  About 10 years ago, I took on the task to teac...   \n",
              "\n",
              "                                                 url  \n",
              "0  https://www.ted.com/talks/ken_robinson_says_sc...  \n",
              "1  https://www.ted.com/talks/al_gore_on_averting_...  \n",
              "2  https://www.ted.com/talks/david_pogue_says_sim...  \n",
              "3  https://www.ted.com/talks/majora_carter_s_tale...  \n",
              "4  https://www.ted.com/talks/hans_rosling_shows_t...  "
            ],
            "text/html": [
              "\n",
              "  <div id=\"df-4de22585-679b-4be9-8419-198800bbbd6d\">\n",
              "    <div class=\"colab-df-container\">\n",
              "      <div>\n",
              "<style scoped>\n",
              "    .dataframe tbody tr th:only-of-type {\n",
              "        vertical-align: middle;\n",
              "    }\n",
              "\n",
              "    .dataframe tbody tr th {\n",
              "        vertical-align: top;\n",
              "    }\n",
              "\n",
              "    .dataframe thead th {\n",
              "        text-align: right;\n",
              "    }\n",
              "</style>\n",
              "<table border=\"1\" class=\"dataframe\">\n",
              "  <thead>\n",
              "    <tr style=\"text-align: right;\">\n",
              "      <th></th>\n",
              "      <th>transcript</th>\n",
              "      <th>url</th>\n",
              "    </tr>\n",
              "  </thead>\n",
              "  <tbody>\n",
              "    <tr>\n",
              "      <th>0</th>\n",
              "      <td>Good morning. How are you?(Laughter)It's been ...</td>\n",
              "      <td>https://www.ted.com/talks/ken_robinson_says_sc...</td>\n",
              "    </tr>\n",
              "    <tr>\n",
              "      <th>1</th>\n",
              "      <td>Thank you so much, Chris. And it's truly a gre...</td>\n",
              "      <td>https://www.ted.com/talks/al_gore_on_averting_...</td>\n",
              "    </tr>\n",
              "    <tr>\n",
              "      <th>2</th>\n",
              "      <td>(Music: \"The Sound of Silence,\" Simon &amp; Garfun...</td>\n",
              "      <td>https://www.ted.com/talks/david_pogue_says_sim...</td>\n",
              "    </tr>\n",
              "    <tr>\n",
              "      <th>3</th>\n",
              "      <td>If you're here today — and I'm very happy that...</td>\n",
              "      <td>https://www.ted.com/talks/majora_carter_s_tale...</td>\n",
              "    </tr>\n",
              "    <tr>\n",
              "      <th>4</th>\n",
              "      <td>About 10 years ago, I took on the task to teac...</td>\n",
              "      <td>https://www.ted.com/talks/hans_rosling_shows_t...</td>\n",
              "    </tr>\n",
              "  </tbody>\n",
              "</table>\n",
              "</div>\n",
              "      <button class=\"colab-df-convert\" onclick=\"convertToInteractive('df-4de22585-679b-4be9-8419-198800bbbd6d')\"\n",
              "              title=\"Convert this dataframe to an interactive table.\"\n",
              "              style=\"display:none;\">\n",
              "        \n",
              "  <svg xmlns=\"http://www.w3.org/2000/svg\" height=\"24px\"viewBox=\"0 0 24 24\"\n",
              "       width=\"24px\">\n",
              "    <path d=\"M0 0h24v24H0V0z\" fill=\"none\"/>\n",
              "    <path d=\"M18.56 5.44l.94 2.06.94-2.06 2.06-.94-2.06-.94-.94-2.06-.94 2.06-2.06.94zm-11 1L8.5 8.5l.94-2.06 2.06-.94-2.06-.94L8.5 2.5l-.94 2.06-2.06.94zm10 10l.94 2.06.94-2.06 2.06-.94-2.06-.94-.94-2.06-.94 2.06-2.06.94z\"/><path d=\"M17.41 7.96l-1.37-1.37c-.4-.4-.92-.59-1.43-.59-.52 0-1.04.2-1.43.59L10.3 9.45l-7.72 7.72c-.78.78-.78 2.05 0 2.83L4 21.41c.39.39.9.59 1.41.59.51 0 1.02-.2 1.41-.59l7.78-7.78 2.81-2.81c.8-.78.8-2.07 0-2.86zM5.41 20L4 18.59l7.72-7.72 1.47 1.35L5.41 20z\"/>\n",
              "  </svg>\n",
              "      </button>\n",
              "      \n",
              "  <style>\n",
              "    .colab-df-container {\n",
              "      display:flex;\n",
              "      flex-wrap:wrap;\n",
              "      gap: 12px;\n",
              "    }\n",
              "\n",
              "    .colab-df-convert {\n",
              "      background-color: #E8F0FE;\n",
              "      border: none;\n",
              "      border-radius: 50%;\n",
              "      cursor: pointer;\n",
              "      display: none;\n",
              "      fill: #1967D2;\n",
              "      height: 32px;\n",
              "      padding: 0 0 0 0;\n",
              "      width: 32px;\n",
              "    }\n",
              "\n",
              "    .colab-df-convert:hover {\n",
              "      background-color: #E2EBFA;\n",
              "      box-shadow: 0px 1px 2px rgba(60, 64, 67, 0.3), 0px 1px 3px 1px rgba(60, 64, 67, 0.15);\n",
              "      fill: #174EA6;\n",
              "    }\n",
              "\n",
              "    [theme=dark] .colab-df-convert {\n",
              "      background-color: #3B4455;\n",
              "      fill: #D2E3FC;\n",
              "    }\n",
              "\n",
              "    [theme=dark] .colab-df-convert:hover {\n",
              "      background-color: #434B5C;\n",
              "      box-shadow: 0px 1px 3px 1px rgba(0, 0, 0, 0.15);\n",
              "      filter: drop-shadow(0px 1px 2px rgba(0, 0, 0, 0.3));\n",
              "      fill: #FFFFFF;\n",
              "    }\n",
              "  </style>\n",
              "\n",
              "      <script>\n",
              "        const buttonEl =\n",
              "          document.querySelector('#df-4de22585-679b-4be9-8419-198800bbbd6d button.colab-df-convert');\n",
              "        buttonEl.style.display =\n",
              "          google.colab.kernel.accessAllowed ? 'block' : 'none';\n",
              "\n",
              "        async function convertToInteractive(key) {\n",
              "          const element = document.querySelector('#df-4de22585-679b-4be9-8419-198800bbbd6d');\n",
              "          const dataTable =\n",
              "            await google.colab.kernel.invokeFunction('convertToInteractive',\n",
              "                                                     [key], {});\n",
              "          if (!dataTable) return;\n",
              "\n",
              "          const docLinkHtml = 'Like what you see? Visit the ' +\n",
              "            '<a target=\"_blank\" href=https://colab.research.google.com/notebooks/data_table.ipynb>data table notebook</a>'\n",
              "            + ' to learn more about interactive tables.';\n",
              "          element.innerHTML = '';\n",
              "          dataTable['output_type'] = 'display_data';\n",
              "          await google.colab.output.renderOutput(dataTable, element);\n",
              "          const docLink = document.createElement('div');\n",
              "          docLink.innerHTML = docLinkHtml;\n",
              "          element.appendChild(docLink);\n",
              "        }\n",
              "      </script>\n",
              "    </div>\n",
              "  </div>\n",
              "  "
            ]
          },
          "metadata": {},
          "execution_count": 77
        }
      ]
    },
    {
      "cell_type": "code",
      "metadata": {
        "colab": {
          "base_uri": "https://localhost:8080/",
          "height": 122
        },
        "id": "LghgRk1X4HDM",
        "outputId": "b1795a06-b6ec-4b86-c15a-b356799b1224"
      },
      "source": [
        "transcripts['transcript'].iloc[0]"
      ],
      "execution_count": null,
      "outputs": [
        {
          "output_type": "execute_result",
          "data": {
            "text/plain": [
              "'Good morning. How are you?(Laughter)It\\'s been great, hasn\\'t it? I\\'ve been blown away by the whole thing. In fact, I\\'m leaving.(Laughter)There have been three themes running through the conference which are relevant to what I want to talk about. One is the extraordinary evidence of human creativity in all of the presentations that we\\'ve had and in all of the people here. Just the variety of it and the range of it. The second is that it\\'s put us in a place where we have no idea what\\'s going to happen, in terms of the future. No idea how this may play out.I have an interest in education. Actually, what I find is everybody has an interest in education. Don\\'t you? I find this very interesting. If you\\'re at a dinner party, and you say you work in education — Actually, you\\'re not often at dinner parties, frankly.(Laughter)If you work in education, you\\'re not asked.(Laughter)And you\\'re never asked back, curiously. That\\'s strange to me. But if you are, and you say to somebody, you know, they say, \"What do you do?\" and you say you work in education, you can see the blood run from their face. They\\'re like, \"Oh my God,\" you know, \"Why me?\"(Laughter)\"My one night out all week.\"(Laughter)But if you ask about their education, they pin you to the wall. Because it\\'s one of those things that goes deep with people, am I right? Like religion, and money and other things. So I have a big interest in education, and I think we all do. We have a huge vested interest in it, partly because it\\'s education that\\'s meant to take us into this future that we can\\'t grasp. If you think of it, children starting school this year will be retiring in 2065. Nobody has a clue, despite all the expertise that\\'s been on parade for the past four days, what the world will look like in five years\\' time. And yet we\\'re meant to be educating them for it. So the unpredictability, I think, is extraordinary.And the third part of this is that we\\'ve all agreed, nonetheless, on the really extraordinary capacities that children have — their capacities for innovation. I mean, Sirena last night was a marvel, wasn\\'t she? Just seeing what she could do. And she\\'s exceptional, but I think she\\'s not, so to speak, exceptional in the whole of childhood. What you have there is a person of extraordinary dedication who found a talent. And my contention is, all kids have tremendous talents. And we squander them, pretty ruthlessly.So I want to talk about education and I want to talk about creativity. My contention is that creativity now is as important in education as literacy, and we should treat it with the same status.(Applause) Thank you.(Applause)That was it, by the way. Thank you very much.(Laughter)So, 15 minutes left.(Laughter)Well, I was born... no.(Laughter)I heard a great story recently — I love telling it — of a little girl who was in a drawing lesson. She was six, and she was at the back, drawing, and the teacher said this girl hardly ever paid attention, and in this drawing lesson, she did. The teacher was fascinated. She went over to her, and she said, \"What are you drawing?\" And the girl said, \"I\\'m drawing a picture of God.\" And the teacher said, \"But nobody knows what God looks like.\" And the girl said, \"They will, in a minute.\"(Laughter)When my son was four in England — Actually, he was four everywhere, to be honest.(Laughter)If we\\'re being strict about it, wherever he went, he was four that year. He was in the Nativity play. Do you remember the story?(Laughter)No, it was big, it was a big story. Mel Gibson did the sequel, you may have seen it.(Laughter)\"Nativity II.\" But James got the part of Joseph, which we were thrilled about. We considered this to be one of the lead parts. We had the place crammed full of agents in T-shirts: \"James Robinson IS Joseph!\" (Laughter) He didn\\'t have to speak, but you know the bit where the three kings come in? They come in bearing gifts, gold, frankincense and myrrh. This really happened. We were sitting there and I think they just went out of sequence, because we talked to the little boy afterward and we said, \"You OK with that?\" And he said, \"Yeah, why? Was that wrong?\" They just switched. The three boys came in, four-year-olds with tea towels on their heads, and they put these boxes down, and the first boy said, \"I bring you gold.\" And the second boy said, \"I bring you myrrh.\" And the third boy said, \"Frank sent this.\"(Laughter)What these things have in common is that kids will take a chance. If they don\\'t know, they\\'ll have a go. Am I right? They\\'re not frightened of being wrong. I don\\'t mean to say that being wrong is the same thing as being creative. What we do know is, if you\\'re not prepared to be wrong, you\\'ll never come up with anything original — if you\\'re not prepared to be wrong. And by the time they get to be adults, most kids have lost that capacity. They have become frightened of being wrong. And we run our companies like this. We stigmatize mistakes. And we\\'re now running national education systems where mistakes are the worst thing you can make. And the result is that we are educating people out of their creative capacities.Picasso once said this, he said that all children are born artists. The problem is to remain an artist as we grow up. I believe this passionately, that we don\\'t grow into creativity, we grow out of it. Or rather, we get educated out of it. So why is this?I lived in Stratford-on-Avon until about five years ago. In fact, we moved from Stratford to Los Angeles. So you can imagine what a seamless transition that was.(Laughter)Actually, we lived in a place called Snitterfield, just outside Stratford, which is where Shakespeare\\'s father was born. Are you struck by a new thought? I was. You don\\'t think of Shakespeare having a father, do you? Do you? Because you don\\'t think of Shakespeare being a child, do you? Shakespeare being seven? I never thought of it. I mean, he was seven at some point. He was in somebody\\'s English class, wasn\\'t he?(Laughter)How annoying would that be?(Laughter)\"Must try harder.\"(Laughter)Being sent to bed by his dad, you know, to Shakespeare, \"Go to bed, now! And put the pencil down.\"(Laughter)\"And stop speaking like that.\"(Laughter)\"It\\'s confusing everybody.\"(Laughter)Anyway, we moved from Stratford to Los Angeles, and I just want to say a word about the transition. My son didn\\'t want to come. I\\'ve got two kids; he\\'s 21 now, my daughter\\'s 16. He didn\\'t want to come to Los Angeles. He loved it, but he had a girlfriend in England. This was the love of his life, Sarah. He\\'d known her for a month.(Laughter)Mind you, they\\'d had their fourth anniversary, because it\\'s a long time when you\\'re 16. He was really upset on the plane, he said, \"I\\'ll never find another girl like Sarah.\" And we were rather pleased about that, frankly —(Laughter)Because she was the main reason we were leaving the country.(Laughter)But something strikes you when you move to America and travel around the world: Every education system on Earth has the same hierarchy of subjects. Every one. Doesn\\'t matter where you go. You\\'d think it would be otherwise, but it isn\\'t. At the top are mathematics and languages, then the humanities, and at the bottom are the arts. Everywhere on Earth. And in pretty much every system too, there\\'s a hierarchy within the arts. Art and music are normally given a higher status in schools than drama and dance. There isn\\'t an education system on the planet that teaches dance everyday to children the way we teach them mathematics. Why? Why not? I think this is rather important. I think math is very important, but so is dance. Children dance all the time if they\\'re allowed to, we all do. We all have bodies, don\\'t we? Did I miss a meeting?(Laughter)Truthfully, what happens is, as children grow up, we start to educate them progressively from the waist up. And then we focus on their heads. And slightly to one side.If you were to visit education, as an alien, and say \"What\\'s it for, public education?\" I think you\\'d have to conclude, if you look at the output, who really succeeds by this, who does everything that they should, who gets all the brownie points, who are the winners — I think you\\'d have to conclude the whole purpose of public education throughout the world is to produce university professors. Isn\\'t it? They\\'re the people who come out the top. And I used to be one, so there.(Laughter)And I like university professors, but you know, we shouldn\\'t hold them up as the high-water mark of all human achievement. They\\'re just a form of life, another form of life. But they\\'re rather curious, and I say this out of affection for them. There\\'s something curious about professors in my experience — not all of them, but typically, they live in their heads. They live up there, and slightly to one side. They\\'re disembodied, you know, in a kind of literal way. They look upon their body as a form of transport for their heads.(Laughter)Don\\'t they? It\\'s a way of getting their head to meetings.(Laughter)If you want real evidence of out-of-body experiences, get yourself along to a residential conference of senior academics, and pop into the discotheque on the final night.(Laughter)And there, you will see it. Grown men and women writhing uncontrollably, off the beat.(Laughter)Waiting until it ends so they can go home and write a paper about it.(Laughter)Our education system is predicated on the idea of academic ability. And there\\'s a reason. Around the world, there were no public systems of education, really, before the 19th century. They all came into being to meet the needs of industrialism. So the hierarchy is rooted on two ideas.Number one, that the most useful subjects for work are at the top. So you were probably steered benignly away from things at school when you were a kid, things you liked, on the grounds that you would never get a job doing that. Is that right? Don\\'t do music, you\\'re not going to be a musician; don\\'t do art, you won\\'t be an artist. Benign advice — now, profoundly mistaken. The whole world is engulfed in a revolution.And the second is academic ability, which has really come to dominate our view of intelligence, because the universities designed the system in their image. If you think of it, the whole system of public education around the world is a protracted process of university entrance. And the consequence is that many highly-talented, brilliant, creative people think they\\'re not, because the thing they were good at at school wasn\\'t valued, or was actually stigmatized. And I think we can\\'t afford to go on that way.In the next 30 years, according to UNESCO, more people worldwide will be graduating through education than since the beginning of history. More people, and it\\'s the combination of all the things we\\'ve talked about — technology and its transformation effect on work, and demography and the huge explosion in population.Suddenly, degrees aren\\'t worth anything. Isn\\'t that true? When I was a student, if you had a degree, you had a job. If you didn\\'t have a job, it\\'s because you didn\\'t want one. And I didn\\'t want one, frankly. (Laughter) But now kids with degrees are often heading home to carry on playing video games, because you need an MA where the previous job required a BA, and now you need a PhD for the other. It\\'s a process of academic inflation. And it indicates the whole structure of education is shifting beneath our feet. We need to radically rethink our view of intelligence.We know three things about intelligence. One, it\\'s diverse. We think about the world in all the ways that we experience it. We think visually, we think in sound, we think kinesthetically. We think in abstract terms, we think in movement. Secondly, intelligence is dynamic. If you look at the interactions of a human brain, as we heard yesterday from a number of presentations, intelligence is wonderfully interactive. The brain isn\\'t divided into compartments. In fact, creativity — which I define as the process of having original ideas that have value — more often than not comes about through the interaction of different disciplinary ways of seeing things.By the way, there\\'s a shaft of nerves that joins the two halves of the brain called the corpus callosum. It\\'s thicker in women. Following off from Helen yesterday, this is probably why women are better at multi-tasking. Because you are, aren\\'t you? There\\'s a raft of research, but I know it from my personal life. If my wife is cooking a meal at home — which is not often, thankfully.(Laughter)No, she\\'s good at some things, but if she\\'s cooking, she\\'s dealing with people on the phone, she\\'s talking to the kids, she\\'s painting the ceiling, she\\'s doing open-heart surgery over here. If I\\'m cooking, the door is shut, the kids are out, the phone\\'s on the hook, if she comes in I get annoyed. I say, \"Terry, please, I\\'m trying to fry an egg in here.\"(Laughter)\"Give me a break.\"(Laughter)Actually, do you know that old philosophical thing, if a tree falls in a forest and nobody hears it, did it happen? Remember that old chestnut? I saw a great t-shirt recently, which said, \"If a man speaks his mind in a forest, and no woman hears him, is he still wrong?\"(Laughter)And the third thing about intelligence is, it\\'s distinct. I\\'m doing a new book at the moment called \"Epiphany,\" which is based on a series of interviews with people about how they discovered their talent. I\\'m fascinated by how people got to be there. It\\'s really prompted by a conversation I had with a wonderful woman who maybe most people have never heard of, Gillian Lynne. Have you heard of her? Some have. She\\'s a choreographer, and everybody knows her work. She did \"Cats\" and \"Phantom of the Opera.\" She\\'s wonderful. I used to be on the board of The Royal Ballet, as you can see. Anyway, Gillian and I had lunch one day and I said, \"How did you get to be a dancer?\" It was interesting. When she was at school, she was really hopeless. And the school, in the \\'30s, wrote to her parents and said, \"We think Gillian has a learning disorder.\" She couldn\\'t concentrate; she was fidgeting. I think now they\\'d say she had ADHD. Wouldn\\'t you? But this was the 1930s, and ADHD hadn\\'t been invented at this point. It wasn\\'t an available condition.(Laughter)People weren\\'t aware they could have that.(Laughter)Anyway, she went to see this specialist. So, this oak-paneled room, and she was there with her mother, and she was led and sat on this chair at the end, and she sat on her hands for 20 minutes while this man talked to her mother about the problems Gillian was having at school. Because she was disturbing people; her homework was always late; and so on, little kid of eight. In the end, the doctor went and sat next to Gillian, and said, \"I\\'ve listened to all these things your mother\\'s told me, I need to speak to her privately. Wait here. We\\'ll be back; we won\\'t be very long,\" and they went and left her.But as they went out of the room, he turned on the radio that was sitting on his desk. And when they got out, he said to her mother, \"Just stand and watch her.\" And the minute they left the room, she was on her feet, moving to the music. And they watched for a few minutes and he turned to her mother and said, \"Mrs. Lynne, Gillian isn\\'t sick; she\\'s a dancer. Take her to a dance school.\"I said, \"What happened?\" She said, \"She did. I can\\'t tell you how wonderful it was. We walked in this room and it was full of people like me. People who couldn\\'t sit still. People who had to move to think.\" Who had to move to think. They did ballet, they did tap, jazz; they did modern; they did contemporary. She was eventually auditioned for the Royal Ballet School; she became a soloist; she had a wonderful career at the Royal Ballet. She eventually graduated from the Royal Ballet School, founded the Gillian Lynne Dance Company, met Andrew Lloyd Webber. She\\'s been responsible for some of the most successful musical theater productions in history, she\\'s given pleasure to millions, and she\\'s a multi-millionaire. Somebody else might have put her on medication and told her to calm down.(Applause)What I think it comes to is this: Al Gore spoke the other night about ecology and the revolution that was triggered by Rachel Carson. I believe our only hope for the future is to adopt a new conception of human ecology, one in which we start to reconstitute our conception of the richness of human capacity. Our education system has mined our minds in the way that we strip-mine the earth: for a particular commodity. And for the future, it won\\'t serve us. We have to rethink the fundamental principles on which we\\'re educating our children.There was a wonderful quote by Jonas Salk, who said, \"If all the insects were to disappear from the Earth, within 50 years all life on Earth would end. If all human beings disappeared from the Earth, within 50 years all forms of life would flourish.\" And he\\'s right.What TED celebrates is the gift of the human imagination. We have to be careful now that we use this gift wisely and that we avert some of the scenarios that we\\'ve talked about. And the only way we\\'ll do it is by seeing our creative capacities for the richness they are and seeing our children for the hope that they are. And our task is to educate their whole being, so they can face this future. By the way — we may not see this future, but they will. And our job is to help them make something of it.Thank you very much.(Applause)'"
            ],
            "application/vnd.google.colaboratory.intrinsic+json": {
              "type": "string"
            }
          },
          "metadata": {},
          "execution_count": 78
        }
      ]
    },
    {
      "cell_type": "code",
      "metadata": {
        "id": "kLNHp9t4_pid"
      },
      "source": [
        "# Pour remedier à celà, il faut donc utiliser les: \n",
        "# REGULAR EXPRESSIONS!\n",
        "\n",
        "import re"
      ],
      "execution_count": null,
      "outputs": []
    },
    {
      "cell_type": "code",
      "metadata": {
        "id": "xph_sfVp_NjR"
      },
      "source": [
        "transcripts['transcript'] = transcripts['transcript'].apply(lambda x: re.sub(r'\\((.*?)\\)', ' ', x))\n",
        "# \".\" correspond à n'importe quel caractère sauf les nouvelles lignes\n",
        "#'*' zéro ou plus de fois\n",
        "#'?' correspond au minimum de caractères possible\n",
        "\n"
      ],
      "execution_count": null,
      "outputs": []
    },
    {
      "cell_type": "code",
      "metadata": {
        "id": "Ua0qNnC8BY7n",
        "colab": {
          "base_uri": "https://localhost:8080/",
          "height": 206
        },
        "outputId": "8f74e321-b0c8-446b-e8a3-a79b8669f8c1"
      },
      "source": [
        "transcripts.head() # c'est fait !"
      ],
      "execution_count": null,
      "outputs": [
        {
          "output_type": "execute_result",
          "data": {
            "text/plain": [
              "                                          transcript  \\\n",
              "0  Good morning. How are you? It's been great, ha...   \n",
              "1  Thank you so much, Chris. And it's truly a gre...   \n",
              "2   Hello voice mail, my old friend. I've called ...   \n",
              "3  If you're here today — and I'm very happy that...   \n",
              "4  About 10 years ago, I took on the task to teac...   \n",
              "\n",
              "                                                 url  \n",
              "0  https://www.ted.com/talks/ken_robinson_says_sc...  \n",
              "1  https://www.ted.com/talks/al_gore_on_averting_...  \n",
              "2  https://www.ted.com/talks/david_pogue_says_sim...  \n",
              "3  https://www.ted.com/talks/majora_carter_s_tale...  \n",
              "4  https://www.ted.com/talks/hans_rosling_shows_t...  "
            ],
            "text/html": [
              "\n",
              "  <div id=\"df-8a9d7508-9ccc-4101-b14f-db4348a7bcc9\">\n",
              "    <div class=\"colab-df-container\">\n",
              "      <div>\n",
              "<style scoped>\n",
              "    .dataframe tbody tr th:only-of-type {\n",
              "        vertical-align: middle;\n",
              "    }\n",
              "\n",
              "    .dataframe tbody tr th {\n",
              "        vertical-align: top;\n",
              "    }\n",
              "\n",
              "    .dataframe thead th {\n",
              "        text-align: right;\n",
              "    }\n",
              "</style>\n",
              "<table border=\"1\" class=\"dataframe\">\n",
              "  <thead>\n",
              "    <tr style=\"text-align: right;\">\n",
              "      <th></th>\n",
              "      <th>transcript</th>\n",
              "      <th>url</th>\n",
              "    </tr>\n",
              "  </thead>\n",
              "  <tbody>\n",
              "    <tr>\n",
              "      <th>0</th>\n",
              "      <td>Good morning. How are you? It's been great, ha...</td>\n",
              "      <td>https://www.ted.com/talks/ken_robinson_says_sc...</td>\n",
              "    </tr>\n",
              "    <tr>\n",
              "      <th>1</th>\n",
              "      <td>Thank you so much, Chris. And it's truly a gre...</td>\n",
              "      <td>https://www.ted.com/talks/al_gore_on_averting_...</td>\n",
              "    </tr>\n",
              "    <tr>\n",
              "      <th>2</th>\n",
              "      <td>Hello voice mail, my old friend. I've called ...</td>\n",
              "      <td>https://www.ted.com/talks/david_pogue_says_sim...</td>\n",
              "    </tr>\n",
              "    <tr>\n",
              "      <th>3</th>\n",
              "      <td>If you're here today — and I'm very happy that...</td>\n",
              "      <td>https://www.ted.com/talks/majora_carter_s_tale...</td>\n",
              "    </tr>\n",
              "    <tr>\n",
              "      <th>4</th>\n",
              "      <td>About 10 years ago, I took on the task to teac...</td>\n",
              "      <td>https://www.ted.com/talks/hans_rosling_shows_t...</td>\n",
              "    </tr>\n",
              "  </tbody>\n",
              "</table>\n",
              "</div>\n",
              "      <button class=\"colab-df-convert\" onclick=\"convertToInteractive('df-8a9d7508-9ccc-4101-b14f-db4348a7bcc9')\"\n",
              "              title=\"Convert this dataframe to an interactive table.\"\n",
              "              style=\"display:none;\">\n",
              "        \n",
              "  <svg xmlns=\"http://www.w3.org/2000/svg\" height=\"24px\"viewBox=\"0 0 24 24\"\n",
              "       width=\"24px\">\n",
              "    <path d=\"M0 0h24v24H0V0z\" fill=\"none\"/>\n",
              "    <path d=\"M18.56 5.44l.94 2.06.94-2.06 2.06-.94-2.06-.94-.94-2.06-.94 2.06-2.06.94zm-11 1L8.5 8.5l.94-2.06 2.06-.94-2.06-.94L8.5 2.5l-.94 2.06-2.06.94zm10 10l.94 2.06.94-2.06 2.06-.94-2.06-.94-.94-2.06-.94 2.06-2.06.94z\"/><path d=\"M17.41 7.96l-1.37-1.37c-.4-.4-.92-.59-1.43-.59-.52 0-1.04.2-1.43.59L10.3 9.45l-7.72 7.72c-.78.78-.78 2.05 0 2.83L4 21.41c.39.39.9.59 1.41.59.51 0 1.02-.2 1.41-.59l7.78-7.78 2.81-2.81c.8-.78.8-2.07 0-2.86zM5.41 20L4 18.59l7.72-7.72 1.47 1.35L5.41 20z\"/>\n",
              "  </svg>\n",
              "      </button>\n",
              "      \n",
              "  <style>\n",
              "    .colab-df-container {\n",
              "      display:flex;\n",
              "      flex-wrap:wrap;\n",
              "      gap: 12px;\n",
              "    }\n",
              "\n",
              "    .colab-df-convert {\n",
              "      background-color: #E8F0FE;\n",
              "      border: none;\n",
              "      border-radius: 50%;\n",
              "      cursor: pointer;\n",
              "      display: none;\n",
              "      fill: #1967D2;\n",
              "      height: 32px;\n",
              "      padding: 0 0 0 0;\n",
              "      width: 32px;\n",
              "    }\n",
              "\n",
              "    .colab-df-convert:hover {\n",
              "      background-color: #E2EBFA;\n",
              "      box-shadow: 0px 1px 2px rgba(60, 64, 67, 0.3), 0px 1px 3px 1px rgba(60, 64, 67, 0.15);\n",
              "      fill: #174EA6;\n",
              "    }\n",
              "\n",
              "    [theme=dark] .colab-df-convert {\n",
              "      background-color: #3B4455;\n",
              "      fill: #D2E3FC;\n",
              "    }\n",
              "\n",
              "    [theme=dark] .colab-df-convert:hover {\n",
              "      background-color: #434B5C;\n",
              "      box-shadow: 0px 1px 3px 1px rgba(0, 0, 0, 0.15);\n",
              "      filter: drop-shadow(0px 1px 2px rgba(0, 0, 0, 0.3));\n",
              "      fill: #FFFFFF;\n",
              "    }\n",
              "  </style>\n",
              "\n",
              "      <script>\n",
              "        const buttonEl =\n",
              "          document.querySelector('#df-8a9d7508-9ccc-4101-b14f-db4348a7bcc9 button.colab-df-convert');\n",
              "        buttonEl.style.display =\n",
              "          google.colab.kernel.accessAllowed ? 'block' : 'none';\n",
              "\n",
              "        async function convertToInteractive(key) {\n",
              "          const element = document.querySelector('#df-8a9d7508-9ccc-4101-b14f-db4348a7bcc9');\n",
              "          const dataTable =\n",
              "            await google.colab.kernel.invokeFunction('convertToInteractive',\n",
              "                                                     [key], {});\n",
              "          if (!dataTable) return;\n",
              "\n",
              "          const docLinkHtml = 'Like what you see? Visit the ' +\n",
              "            '<a target=\"_blank\" href=https://colab.research.google.com/notebooks/data_table.ipynb>data table notebook</a>'\n",
              "            + ' to learn more about interactive tables.';\n",
              "          element.innerHTML = '';\n",
              "          dataTable['output_type'] = 'display_data';\n",
              "          await google.colab.output.renderOutput(dataTable, element);\n",
              "          const docLink = document.createElement('div');\n",
              "          docLink.innerHTML = docLinkHtml;\n",
              "          element.appendChild(docLink);\n",
              "        }\n",
              "      </script>\n",
              "    </div>\n",
              "  </div>\n",
              "  "
            ]
          },
          "metadata": {},
          "execution_count": 81
        }
      ]
    },
    {
      "cell_type": "code",
      "metadata": {
        "colab": {
          "base_uri": "https://localhost:8080/",
          "height": 122
        },
        "id": "9oNu2ZoN4gap",
        "outputId": "5d523cd9-4495-45f0-e2a9-b4501e1aa209"
      },
      "source": [
        "transcripts['transcript'].iloc[0]"
      ],
      "execution_count": null,
      "outputs": [
        {
          "output_type": "execute_result",
          "data": {
            "text/plain": [
              "'Good morning. How are you? It\\'s been great, hasn\\'t it? I\\'ve been blown away by the whole thing. In fact, I\\'m leaving. There have been three themes running through the conference which are relevant to what I want to talk about. One is the extraordinary evidence of human creativity in all of the presentations that we\\'ve had and in all of the people here. Just the variety of it and the range of it. The second is that it\\'s put us in a place where we have no idea what\\'s going to happen, in terms of the future. No idea how this may play out.I have an interest in education. Actually, what I find is everybody has an interest in education. Don\\'t you? I find this very interesting. If you\\'re at a dinner party, and you say you work in education — Actually, you\\'re not often at dinner parties, frankly. If you work in education, you\\'re not asked. And you\\'re never asked back, curiously. That\\'s strange to me. But if you are, and you say to somebody, you know, they say, \"What do you do?\" and you say you work in education, you can see the blood run from their face. They\\'re like, \"Oh my God,\" you know, \"Why me?\" \"My one night out all week.\" But if you ask about their education, they pin you to the wall. Because it\\'s one of those things that goes deep with people, am I right? Like religion, and money and other things. So I have a big interest in education, and I think we all do. We have a huge vested interest in it, partly because it\\'s education that\\'s meant to take us into this future that we can\\'t grasp. If you think of it, children starting school this year will be retiring in 2065. Nobody has a clue, despite all the expertise that\\'s been on parade for the past four days, what the world will look like in five years\\' time. And yet we\\'re meant to be educating them for it. So the unpredictability, I think, is extraordinary.And the third part of this is that we\\'ve all agreed, nonetheless, on the really extraordinary capacities that children have — their capacities for innovation. I mean, Sirena last night was a marvel, wasn\\'t she? Just seeing what she could do. And she\\'s exceptional, but I think she\\'s not, so to speak, exceptional in the whole of childhood. What you have there is a person of extraordinary dedication who found a talent. And my contention is, all kids have tremendous talents. And we squander them, pretty ruthlessly.So I want to talk about education and I want to talk about creativity. My contention is that creativity now is as important in education as literacy, and we should treat it with the same status.  Thank you. That was it, by the way. Thank you very much. So, 15 minutes left. Well, I was born... no. I heard a great story recently — I love telling it — of a little girl who was in a drawing lesson. She was six, and she was at the back, drawing, and the teacher said this girl hardly ever paid attention, and in this drawing lesson, she did. The teacher was fascinated. She went over to her, and she said, \"What are you drawing?\" And the girl said, \"I\\'m drawing a picture of God.\" And the teacher said, \"But nobody knows what God looks like.\" And the girl said, \"They will, in a minute.\" When my son was four in England — Actually, he was four everywhere, to be honest. If we\\'re being strict about it, wherever he went, he was four that year. He was in the Nativity play. Do you remember the story? No, it was big, it was a big story. Mel Gibson did the sequel, you may have seen it. \"Nativity II.\" But James got the part of Joseph, which we were thrilled about. We considered this to be one of the lead parts. We had the place crammed full of agents in T-shirts: \"James Robinson IS Joseph!\"   He didn\\'t have to speak, but you know the bit where the three kings come in? They come in bearing gifts, gold, frankincense and myrrh. This really happened. We were sitting there and I think they just went out of sequence, because we talked to the little boy afterward and we said, \"You OK with that?\" And he said, \"Yeah, why? Was that wrong?\" They just switched. The three boys came in, four-year-olds with tea towels on their heads, and they put these boxes down, and the first boy said, \"I bring you gold.\" And the second boy said, \"I bring you myrrh.\" And the third boy said, \"Frank sent this.\" What these things have in common is that kids will take a chance. If they don\\'t know, they\\'ll have a go. Am I right? They\\'re not frightened of being wrong. I don\\'t mean to say that being wrong is the same thing as being creative. What we do know is, if you\\'re not prepared to be wrong, you\\'ll never come up with anything original — if you\\'re not prepared to be wrong. And by the time they get to be adults, most kids have lost that capacity. They have become frightened of being wrong. And we run our companies like this. We stigmatize mistakes. And we\\'re now running national education systems where mistakes are the worst thing you can make. And the result is that we are educating people out of their creative capacities.Picasso once said this, he said that all children are born artists. The problem is to remain an artist as we grow up. I believe this passionately, that we don\\'t grow into creativity, we grow out of it. Or rather, we get educated out of it. So why is this?I lived in Stratford-on-Avon until about five years ago. In fact, we moved from Stratford to Los Angeles. So you can imagine what a seamless transition that was. Actually, we lived in a place called Snitterfield, just outside Stratford, which is where Shakespeare\\'s father was born. Are you struck by a new thought? I was. You don\\'t think of Shakespeare having a father, do you? Do you? Because you don\\'t think of Shakespeare being a child, do you? Shakespeare being seven? I never thought of it. I mean, he was seven at some point. He was in somebody\\'s English class, wasn\\'t he? How annoying would that be? \"Must try harder.\" Being sent to bed by his dad, you know, to Shakespeare, \"Go to bed, now! And put the pencil down.\" \"And stop speaking like that.\" \"It\\'s confusing everybody.\" Anyway, we moved from Stratford to Los Angeles, and I just want to say a word about the transition. My son didn\\'t want to come. I\\'ve got two kids; he\\'s 21 now, my daughter\\'s 16. He didn\\'t want to come to Los Angeles. He loved it, but he had a girlfriend in England. This was the love of his life, Sarah. He\\'d known her for a month. Mind you, they\\'d had their fourth anniversary, because it\\'s a long time when you\\'re 16. He was really upset on the plane, he said, \"I\\'ll never find another girl like Sarah.\" And we were rather pleased about that, frankly — Because she was the main reason we were leaving the country. But something strikes you when you move to America and travel around the world: Every education system on Earth has the same hierarchy of subjects. Every one. Doesn\\'t matter where you go. You\\'d think it would be otherwise, but it isn\\'t. At the top are mathematics and languages, then the humanities, and at the bottom are the arts. Everywhere on Earth. And in pretty much every system too, there\\'s a hierarchy within the arts. Art and music are normally given a higher status in schools than drama and dance. There isn\\'t an education system on the planet that teaches dance everyday to children the way we teach them mathematics. Why? Why not? I think this is rather important. I think math is very important, but so is dance. Children dance all the time if they\\'re allowed to, we all do. We all have bodies, don\\'t we? Did I miss a meeting? Truthfully, what happens is, as children grow up, we start to educate them progressively from the waist up. And then we focus on their heads. And slightly to one side.If you were to visit education, as an alien, and say \"What\\'s it for, public education?\" I think you\\'d have to conclude, if you look at the output, who really succeeds by this, who does everything that they should, who gets all the brownie points, who are the winners — I think you\\'d have to conclude the whole purpose of public education throughout the world is to produce university professors. Isn\\'t it? They\\'re the people who come out the top. And I used to be one, so there. And I like university professors, but you know, we shouldn\\'t hold them up as the high-water mark of all human achievement. They\\'re just a form of life, another form of life. But they\\'re rather curious, and I say this out of affection for them. There\\'s something curious about professors in my experience — not all of them, but typically, they live in their heads. They live up there, and slightly to one side. They\\'re disembodied, you know, in a kind of literal way. They look upon their body as a form of transport for their heads. Don\\'t they? It\\'s a way of getting their head to meetings. If you want real evidence of out-of-body experiences, get yourself along to a residential conference of senior academics, and pop into the discotheque on the final night. And there, you will see it. Grown men and women writhing uncontrollably, off the beat. Waiting until it ends so they can go home and write a paper about it. Our education system is predicated on the idea of academic ability. And there\\'s a reason. Around the world, there were no public systems of education, really, before the 19th century. They all came into being to meet the needs of industrialism. So the hierarchy is rooted on two ideas.Number one, that the most useful subjects for work are at the top. So you were probably steered benignly away from things at school when you were a kid, things you liked, on the grounds that you would never get a job doing that. Is that right? Don\\'t do music, you\\'re not going to be a musician; don\\'t do art, you won\\'t be an artist. Benign advice — now, profoundly mistaken. The whole world is engulfed in a revolution.And the second is academic ability, which has really come to dominate our view of intelligence, because the universities designed the system in their image. If you think of it, the whole system of public education around the world is a protracted process of university entrance. And the consequence is that many highly-talented, brilliant, creative people think they\\'re not, because the thing they were good at at school wasn\\'t valued, or was actually stigmatized. And I think we can\\'t afford to go on that way.In the next 30 years, according to UNESCO, more people worldwide will be graduating through education than since the beginning of history. More people, and it\\'s the combination of all the things we\\'ve talked about — technology and its transformation effect on work, and demography and the huge explosion in population.Suddenly, degrees aren\\'t worth anything. Isn\\'t that true? When I was a student, if you had a degree, you had a job. If you didn\\'t have a job, it\\'s because you didn\\'t want one. And I didn\\'t want one, frankly.   But now kids with degrees are often heading home to carry on playing video games, because you need an MA where the previous job required a BA, and now you need a PhD for the other. It\\'s a process of academic inflation. And it indicates the whole structure of education is shifting beneath our feet. We need to radically rethink our view of intelligence.We know three things about intelligence. One, it\\'s diverse. We think about the world in all the ways that we experience it. We think visually, we think in sound, we think kinesthetically. We think in abstract terms, we think in movement. Secondly, intelligence is dynamic. If you look at the interactions of a human brain, as we heard yesterday from a number of presentations, intelligence is wonderfully interactive. The brain isn\\'t divided into compartments. In fact, creativity — which I define as the process of having original ideas that have value — more often than not comes about through the interaction of different disciplinary ways of seeing things.By the way, there\\'s a shaft of nerves that joins the two halves of the brain called the corpus callosum. It\\'s thicker in women. Following off from Helen yesterday, this is probably why women are better at multi-tasking. Because you are, aren\\'t you? There\\'s a raft of research, but I know it from my personal life. If my wife is cooking a meal at home — which is not often, thankfully. No, she\\'s good at some things, but if she\\'s cooking, she\\'s dealing with people on the phone, she\\'s talking to the kids, she\\'s painting the ceiling, she\\'s doing open-heart surgery over here. If I\\'m cooking, the door is shut, the kids are out, the phone\\'s on the hook, if she comes in I get annoyed. I say, \"Terry, please, I\\'m trying to fry an egg in here.\" \"Give me a break.\" Actually, do you know that old philosophical thing, if a tree falls in a forest and nobody hears it, did it happen? Remember that old chestnut? I saw a great t-shirt recently, which said, \"If a man speaks his mind in a forest, and no woman hears him, is he still wrong?\" And the third thing about intelligence is, it\\'s distinct. I\\'m doing a new book at the moment called \"Epiphany,\" which is based on a series of interviews with people about how they discovered their talent. I\\'m fascinated by how people got to be there. It\\'s really prompted by a conversation I had with a wonderful woman who maybe most people have never heard of, Gillian Lynne. Have you heard of her? Some have. She\\'s a choreographer, and everybody knows her work. She did \"Cats\" and \"Phantom of the Opera.\" She\\'s wonderful. I used to be on the board of The Royal Ballet, as you can see. Anyway, Gillian and I had lunch one day and I said, \"How did you get to be a dancer?\" It was interesting. When she was at school, she was really hopeless. And the school, in the \\'30s, wrote to her parents and said, \"We think Gillian has a learning disorder.\" She couldn\\'t concentrate; she was fidgeting. I think now they\\'d say she had ADHD. Wouldn\\'t you? But this was the 1930s, and ADHD hadn\\'t been invented at this point. It wasn\\'t an available condition. People weren\\'t aware they could have that. Anyway, she went to see this specialist. So, this oak-paneled room, and she was there with her mother, and she was led and sat on this chair at the end, and she sat on her hands for 20 minutes while this man talked to her mother about the problems Gillian was having at school. Because she was disturbing people; her homework was always late; and so on, little kid of eight. In the end, the doctor went and sat next to Gillian, and said, \"I\\'ve listened to all these things your mother\\'s told me, I need to speak to her privately. Wait here. We\\'ll be back; we won\\'t be very long,\" and they went and left her.But as they went out of the room, he turned on the radio that was sitting on his desk. And when they got out, he said to her mother, \"Just stand and watch her.\" And the minute they left the room, she was on her feet, moving to the music. And they watched for a few minutes and he turned to her mother and said, \"Mrs. Lynne, Gillian isn\\'t sick; she\\'s a dancer. Take her to a dance school.\"I said, \"What happened?\" She said, \"She did. I can\\'t tell you how wonderful it was. We walked in this room and it was full of people like me. People who couldn\\'t sit still. People who had to move to think.\" Who had to move to think. They did ballet, they did tap, jazz; they did modern; they did contemporary. She was eventually auditioned for the Royal Ballet School; she became a soloist; she had a wonderful career at the Royal Ballet. She eventually graduated from the Royal Ballet School, founded the Gillian Lynne Dance Company, met Andrew Lloyd Webber. She\\'s been responsible for some of the most successful musical theater productions in history, she\\'s given pleasure to millions, and she\\'s a multi-millionaire. Somebody else might have put her on medication and told her to calm down. What I think it comes to is this: Al Gore spoke the other night about ecology and the revolution that was triggered by Rachel Carson. I believe our only hope for the future is to adopt a new conception of human ecology, one in which we start to reconstitute our conception of the richness of human capacity. Our education system has mined our minds in the way that we strip-mine the earth: for a particular commodity. And for the future, it won\\'t serve us. We have to rethink the fundamental principles on which we\\'re educating our children.There was a wonderful quote by Jonas Salk, who said, \"If all the insects were to disappear from the Earth, within 50 years all life on Earth would end. If all human beings disappeared from the Earth, within 50 years all forms of life would flourish.\" And he\\'s right.What TED celebrates is the gift of the human imagination. We have to be careful now that we use this gift wisely and that we avert some of the scenarios that we\\'ve talked about. And the only way we\\'ll do it is by seeing our creative capacities for the richness they are and seeing our children for the hope that they are. And our task is to educate their whole being, so they can face this future. By the way — we may not see this future, but they will. And our job is to help them make something of it.Thank you very much. '"
            ],
            "application/vnd.google.colaboratory.intrinsic+json": {
              "type": "string"
            }
          },
          "metadata": {},
          "execution_count": 82
        }
      ]
    },
    {
      "cell_type": "markdown",
      "metadata": {
        "id": "tURbkZPiAuXA"
      },
      "source": [
        "# Visualisons quelques distributions"
      ]
    },
    {
      "cell_type": "code",
      "metadata": {
        "id": "6x-hHqcLVZiE",
        "colab": {
          "base_uri": "https://localhost:8080/",
          "height": 294
        },
        "outputId": "a3d79042-9119-449b-db32-817f25c99b3e"
      },
      "source": [
        "# pandas offre la fonction hist pour visualiser la distributions des variables numeriques\n",
        "hists = ted_main.hist()"
      ],
      "execution_count": null,
      "outputs": [
        {
          "output_type": "display_data",
          "data": {
            "text/plain": [
              "<Figure size 432x288 with 9 Axes>"
            ],
            "image/png": "[encoded data removed]"
          },
          "metadata": {
            "needs_background": "light"
          }
        }
      ]
    },
    {
      "cell_type": "markdown",
      "source": [
        "Il faut avouer que c'est un peu moche!"
      ],
      "metadata": {
        "id": "vwPy_VsvxfTm"
      }
    },
    {
      "cell_type": "markdown",
      "metadata": {
        "id": "xWNue7n_VhHO"
      },
      "source": [
        "### Matplotlib aide à rendre les choses plus claires !"
      ]
    },
    {
      "cell_type": "code",
      "metadata": {
        "id": "fp1xefKgVS_E"
      },
      "source": [
        "import matplotlib.pyplot as plt"
      ],
      "execution_count": null,
      "outputs": []
    },
    {
      "cell_type": "code",
      "metadata": {
        "id": "dqaPPfu_Cz77",
        "colab": {
          "base_uri": "https://localhost:8080/",
          "height": 314
        },
        "outputId": "5a838d64-c447-4245-9096-451a325704a9"
      },
      "source": [
        "hists = ted_main.hist()\n",
        "plt.tight_layout() # fonction qui permet de mieux afficher les choses\n",
        "plt.show()\n",
        "plt.savefig('plot.png')"
      ],
      "execution_count": null,
      "outputs": [
        {
          "output_type": "display_data",
          "data": {
            "text/plain": [
              "<Figure size 432x288 with 9 Axes>"
            ],
            "image/png": "[encoded data removed]"
          },
          "metadata": {
            "needs_background": "light"
          }
        },
        {
          "output_type": "display_data",
          "data": {
            "text/plain": [
              "<Figure size 432x288 with 0 Axes>"
            ]
          },
          "metadata": {}
        }
      ]
    },
    {
      "cell_type": "code",
      "source": [
        "# on peut afficher l'histogramme d'une seule colonne\n",
        "ted_main['film_date'].hist()\n",
        "plt.tight_layout()\n",
        "plt.show()"
      ],
      "metadata": {
        "colab": {
          "base_uri": "https://localhost:8080/",
          "height": 297
        },
        "id": "-RA1B2K4x91X",
        "outputId": "ce126423-ea01-457b-ce77-be4a5959f105"
      },
      "execution_count": null,
      "outputs": [
        {
          "output_type": "display_data",
          "data": {
            "text/plain": [
              "<Figure size 432x288 with 1 Axes>"
            ],
            "image/png": "[encoded data removed]"
          },
          "metadata": {
            "needs_background": "light"
          }
        }
      ]
    },
    {
      "cell_type": "code",
      "metadata": {
        "colab": {
          "base_uri": "https://localhost:8080/",
          "height": 282
        },
        "id": "lAZiee8j4vgo",
        "outputId": "d670d188-2dfc-4b34-d061-1ff01fd1021f"
      },
      "source": [
        "# on peut aussi specifier le nombre de bacs de notre histogramme\n",
        "ted_main['comments'].hist(bins=50)"
      ],
      "execution_count": null,
      "outputs": [
        {
          "output_type": "execute_result",
          "data": {
            "text/plain": [
              "<matplotlib.axes._subplots.AxesSubplot at 0x7f8464897350>"
            ]
          },
          "metadata": {},
          "execution_count": 87
        },
        {
          "output_type": "display_data",
          "data": {
            "text/plain": [
              "<Figure size 432x288 with 1 Axes>"
            ],
            "image/png": "[encoded data removed]"
          },
          "metadata": {
            "needs_background": "light"
          }
        }
      ]
    },
    {
      "cell_type": "code",
      "metadata": {
        "id": "-ET0LkrFVojE",
        "colab": {
          "base_uri": "https://localhost:8080/",
          "height": 312
        },
        "outputId": "d72ce701-8fe0-442c-887a-b25929380b66"
      },
      "source": [
        "# tracer des courbes avec plt.plot\n",
        "nums = [1,2,3,4]\n",
        "plt.plot(nums, [x * x for x in nums], '.');\n",
        "plt.plot(nums, [x ** 3 for x in nums], '-o');\n",
        "plt.legend(['Carré', 'Cube']);\n",
        "plt.xlabel('x');\n",
        "plt.ylabel('puissance(x)');\n",
        "plt.title('ma courbe')"
      ],
      "execution_count": null,
      "outputs": [
        {
          "output_type": "execute_result",
          "data": {
            "text/plain": [
              "Text(0.5, 1.0, 'ma courbe')"
            ]
          },
          "metadata": {},
          "execution_count": 88
        },
        {
          "output_type": "display_data",
          "data": {
            "text/plain": [
              "<Figure size 432x288 with 1 Axes>"
            ],
            "image/png": "[encoded data removed]"
          },
          "metadata": {
            "needs_background": "light"
          }
        }
      ]
    },
    {
      "cell_type": "code",
      "metadata": {
        "id": "zIRw7_O1WdFk",
        "colab": {
          "base_uri": "https://localhost:8080/",
          "height": 513
        },
        "outputId": "48154092-00df-4d1c-ee14-0dc9f33a5e5f"
      },
      "source": [
        "nums = [1,2,3,4]\n",
        "plt.figure(figsize=(8,8))\n",
        "plt.plot(nums, [x * x for x in nums], '-s', color='Green');\n",
        "plt.plot(nums, [x * x * x for x in nums], '-.', color='Red');\n",
        "plt.legend(['Carré', 'Cube'])\n",
        "plt.xlabel('x');\n",
        "plt.ylabel('puissance(x)');\n",
        "\n",
        "plt.xticks(nums)\n",
        "plt.title('Une courbe normale')\n",
        "plt.grid(axis='both')"
      ],
      "execution_count": null,
      "outputs": [
        {
          "output_type": "display_data",
          "data": {
            "text/plain": [
              "<Figure size 576x576 with 1 Axes>"
            ],
            "image/png": "[encoded data removed]"
          },
          "metadata": {
            "needs_background": "light"
          }
        }
      ]
    },
    {
      "cell_type": "code",
      "metadata": {
        "id": "nI9rdPSGFf5D",
        "colab": {
          "base_uri": "https://localhost:8080/",
          "height": 617
        },
        "outputId": "aa8dbc51-6a18-4670-e57d-d1b0dd835a6f"
      },
      "source": [
        "ted_main.head(5)"
      ],
      "execution_count": null,
      "outputs": [
        {
          "output_type": "execute_result",
          "data": {
            "text/plain": [
              "   comments                                        description  duration  \\\n",
              "0      4553  Sir Ken Robinson makes an entertaining and pro...      1164   \n",
              "1       265  With the same humor and humanity he exuded in ...       977   \n",
              "2       124  New York Times columnist David Pogue takes aim...      1286   \n",
              "3       200  In an emotionally charged talk, MacArthur-winn...      1116   \n",
              "4       593  You've never seen data presented like this. Wi...      1190   \n",
              "\n",
              "     event  film_date  languages   main_speaker  \\\n",
              "0  TED2006 2006-02-25         60   Ken Robinson   \n",
              "1  TED2006 2006-02-25         43        Al Gore   \n",
              "2  TED2006 2006-02-24         26    David Pogue   \n",
              "3  TED2006 2006-02-26         35  Majora Carter   \n",
              "4  TED2006 2006-02-22         48   Hans Rosling   \n",
              "\n",
              "                              name  num_speaker      published_date  \\\n",
              "0      Do schools kill creativity?            1 2006-06-27 00:11:00   \n",
              "1      Averting the climate crisis            1 2006-06-27 00:11:00   \n",
              "2                 Simplicity sells            1 2006-06-27 00:11:00   \n",
              "3              Greening the ghetto            1 2006-06-27 00:11:00   \n",
              "4  The best stats you've ever seen            1 2006-06-27 20:38:00   \n",
              "\n",
              "                                             ratings  \\\n",
              "0  [{'id': 7, 'name': 'Funny', 'count': 19645}, {...   \n",
              "1  [{'id': 7, 'name': 'Funny', 'count': 544}, {'i...   \n",
              "2  [{'id': 7, 'name': 'Funny', 'count': 964}, {'i...   \n",
              "3  [{'id': 3, 'name': 'Courageous', 'count': 760}...   \n",
              "4  [{'id': 9, 'name': 'Ingenious', 'count': 3202}...   \n",
              "\n",
              "                                       related_talks  \\\n",
              "0  [{'id': 865, 'hero': 'https://pe.tedcdn.com/im...   \n",
              "1  [{'id': 243, 'hero': 'https://pe.tedcdn.com/im...   \n",
              "2  [{'id': 1725, 'hero': 'https://pe.tedcdn.com/i...   \n",
              "3  [{'id': 1041, 'hero': 'https://pe.tedcdn.com/i...   \n",
              "4  [{'id': 2056, 'hero': 'https://pe.tedcdn.com/i...   \n",
              "\n",
              "                     speaker_occupation  \\\n",
              "0                       Author/educator   \n",
              "1                      Climate advocate   \n",
              "2                  Technology columnist   \n",
              "3    Activist for environmental justice   \n",
              "4  Global health expert; data visionary   \n",
              "\n",
              "                                                tags  \\\n",
              "0  [children, creativity, culture, dance, educati...   \n",
              "1  [alternative energy, cars, climate change, cul...   \n",
              "2  [computers, entertainment, interface design, m...   \n",
              "3  [MacArthur grant, activism, business, cities, ...   \n",
              "4  [Africa, Asia, Google, demo, economics, global...   \n",
              "\n",
              "                             title  \\\n",
              "0      Do schools kill creativity?   \n",
              "1      Averting the climate crisis   \n",
              "2                 Simplicity sells   \n",
              "3              Greening the ghetto   \n",
              "4  The best stats you've ever seen   \n",
              "\n",
              "                                                 url     views  \n",
              "0  https://www.ted.com/talks/ken_robinson_says_sc...  47227110  \n",
              "1  https://www.ted.com/talks/al_gore_on_averting_...   3200520  \n",
              "2  https://www.ted.com/talks/david_pogue_says_sim...   1636292  \n",
              "3  https://www.ted.com/talks/majora_carter_s_tale...   1697550  \n",
              "4  https://www.ted.com/talks/hans_rosling_shows_t...  12005869  "
            ],
            "text/html": [
              "\n",
              "  <div id=\"df-e0a428f3-aae6-4508-84ee-6c301f3bda99\">\n",
              "    <div class=\"colab-df-container\">\n",
              "      <div>\n",
              "<style scoped>\n",
              "    .dataframe tbody tr th:only-of-type {\n",
              "        vertical-align: middle;\n",
              "    }\n",
              "\n",
              "    .dataframe tbody tr th {\n",
              "        vertical-align: top;\n",
              "    }\n",
              "\n",
              "    .dataframe thead th {\n",
              "        text-align: right;\n",
              "    }\n",
              "</style>\n",
              "<table border=\"1\" class=\"dataframe\">\n",
              "  <thead>\n",
              "    <tr style=\"text-align: right;\">\n",
              "      <th></th>\n",
              "      <th>comments</th>\n",
              "      <th>description</th>\n",
              "      <th>duration</th>\n",
              "      <th>event</th>\n",
              "      <th>film_date</th>\n",
              "      <th>languages</th>\n",
              "      <th>main_speaker</th>\n",
              "      <th>name</th>\n",
              "      <th>num_speaker</th>\n",
              "      <th>published_date</th>\n",
              "      <th>ratings</th>\n",
              "      <th>related_talks</th>\n",
              "      <th>speaker_occupation</th>\n",
              "      <th>tags</th>\n",
              "      <th>title</th>\n",
              "      <th>url</th>\n",
              "      <th>views</th>\n",
              "    </tr>\n",
              "  </thead>\n",
              "  <tbody>\n",
              "    <tr>\n",
              "      <th>0</th>\n",
              "      <td>4553</td>\n",
              "      <td>Sir Ken Robinson makes an entertaining and pro...</td>\n",
              "      <td>1164</td>\n",
              "      <td>TED2006</td>\n",
              "      <td>2006-02-25</td>\n",
              "      <td>60</td>\n",
              "      <td>Ken Robinson</td>\n",
              "      <td>Do schools kill creativity?</td>\n",
              "      <td>1</td>\n",
              "      <td>2006-06-27 00:11:00</td>\n",
              "      <td>[{'id': 7, 'name': 'Funny', 'count': 19645}, {...</td>\n",
              "      <td>[{'id': 865, 'hero': 'https://pe.tedcdn.com/im...</td>\n",
              "      <td>Author/educator</td>\n",
              "      <td>[children, creativity, culture, dance, educati...</td>\n",
              "      <td>Do schools kill creativity?</td>\n",
              "      <td>https://www.ted.com/talks/ken_robinson_says_sc...</td>\n",
              "      <td>47227110</td>\n",
              "    </tr>\n",
              "    <tr>\n",
              "      <th>1</th>\n",
              "      <td>265</td>\n",
              "      <td>With the same humor and humanity he exuded in ...</td>\n",
              "      <td>977</td>\n",
              "      <td>TED2006</td>\n",
              "      <td>2006-02-25</td>\n",
              "      <td>43</td>\n",
              "      <td>Al Gore</td>\n",
              "      <td>Averting the climate crisis</td>\n",
              "      <td>1</td>\n",
              "      <td>2006-06-27 00:11:00</td>\n",
              "      <td>[{'id': 7, 'name': 'Funny', 'count': 544}, {'i...</td>\n",
              "      <td>[{'id': 243, 'hero': 'https://pe.tedcdn.com/im...</td>\n",
              "      <td>Climate advocate</td>\n",
              "      <td>[alternative energy, cars, climate change, cul...</td>\n",
              "      <td>Averting the climate crisis</td>\n",
              "      <td>https://www.ted.com/talks/al_gore_on_averting_...</td>\n",
              "      <td>3200520</td>\n",
              "    </tr>\n",
              "    <tr>\n",
              "      <th>2</th>\n",
              "      <td>124</td>\n",
              "      <td>New York Times columnist David Pogue takes aim...</td>\n",
              "      <td>1286</td>\n",
              "      <td>TED2006</td>\n",
              "      <td>2006-02-24</td>\n",
              "      <td>26</td>\n",
              "      <td>David Pogue</td>\n",
              "      <td>Simplicity sells</td>\n",
              "      <td>1</td>\n",
              "      <td>2006-06-27 00:11:00</td>\n",
              "      <td>[{'id': 7, 'name': 'Funny', 'count': 964}, {'i...</td>\n",
              "      <td>[{'id': 1725, 'hero': 'https://pe.tedcdn.com/i...</td>\n",
              "      <td>Technology columnist</td>\n",
              "      <td>[computers, entertainment, interface design, m...</td>\n",
              "      <td>Simplicity sells</td>\n",
              "      <td>https://www.ted.com/talks/david_pogue_says_sim...</td>\n",
              "      <td>1636292</td>\n",
              "    </tr>\n",
              "    <tr>\n",
              "      <th>3</th>\n",
              "      <td>200</td>\n",
              "      <td>In an emotionally charged talk, MacArthur-winn...</td>\n",
              "      <td>1116</td>\n",
              "      <td>TED2006</td>\n",
              "      <td>2006-02-26</td>\n",
              "      <td>35</td>\n",
              "      <td>Majora Carter</td>\n",
              "      <td>Greening the ghetto</td>\n",
              "      <td>1</td>\n",
              "      <td>2006-06-27 00:11:00</td>\n",
              "      <td>[{'id': 3, 'name': 'Courageous', 'count': 760}...</td>\n",
              "      <td>[{'id': 1041, 'hero': 'https://pe.tedcdn.com/i...</td>\n",
              "      <td>Activist for environmental justice</td>\n",
              "      <td>[MacArthur grant, activism, business, cities, ...</td>\n",
              "      <td>Greening the ghetto</td>\n",
              "      <td>https://www.ted.com/talks/majora_carter_s_tale...</td>\n",
              "      <td>1697550</td>\n",
              "    </tr>\n",
              "    <tr>\n",
              "      <th>4</th>\n",
              "      <td>593</td>\n",
              "      <td>You've never seen data presented like this. Wi...</td>\n",
              "      <td>1190</td>\n",
              "      <td>TED2006</td>\n",
              "      <td>2006-02-22</td>\n",
              "      <td>48</td>\n",
              "      <td>Hans Rosling</td>\n",
              "      <td>The best stats you've ever seen</td>\n",
              "      <td>1</td>\n",
              "      <td>2006-06-27 20:38:00</td>\n",
              "      <td>[{'id': 9, 'name': 'Ingenious', 'count': 3202}...</td>\n",
              "      <td>[{'id': 2056, 'hero': 'https://pe.tedcdn.com/i...</td>\n",
              "      <td>Global health expert; data visionary</td>\n",
              "      <td>[Africa, Asia, Google, demo, economics, global...</td>\n",
              "      <td>The best stats you've ever seen</td>\n",
              "      <td>https://www.ted.com/talks/hans_rosling_shows_t...</td>\n",
              "      <td>12005869</td>\n",
              "    </tr>\n",
              "  </tbody>\n",
              "</table>\n",
              "</div>\n",
              "      <button class=\"colab-df-convert\" onclick=\"convertToInteractive('df-e0a428f3-aae6-4508-84ee-6c301f3bda99')\"\n",
              "              title=\"Convert this dataframe to an interactive table.\"\n",
              "              style=\"display:none;\">\n",
              "        \n",
              "  <svg xmlns=\"http://www.w3.org/2000/svg\" height=\"24px\"viewBox=\"0 0 24 24\"\n",
              "       width=\"24px\">\n",
              "    <path d=\"M0 0h24v24H0V0z\" fill=\"none\"/>\n",
              "    <path d=\"M18.56 5.44l.94 2.06.94-2.06 2.06-.94-2.06-.94-.94-2.06-.94 2.06-2.06.94zm-11 1L8.5 8.5l.94-2.06 2.06-.94-2.06-.94L8.5 2.5l-.94 2.06-2.06.94zm10 10l.94 2.06.94-2.06 2.06-.94-2.06-.94-.94-2.06-.94 2.06-2.06.94z\"/><path d=\"M17.41 7.96l-1.37-1.37c-.4-.4-.92-.59-1.43-.59-.52 0-1.04.2-1.43.59L10.3 9.45l-7.72 7.72c-.78.78-.78 2.05 0 2.83L4 21.41c.39.39.9.59 1.41.59.51 0 1.02-.2 1.41-.59l7.78-7.78 2.81-2.81c.8-.78.8-2.07 0-2.86zM5.41 20L4 18.59l7.72-7.72 1.47 1.35L5.41 20z\"/>\n",
              "  </svg>\n",
              "      </button>\n",
              "      \n",
              "  <style>\n",
              "    .colab-df-container {\n",
              "      display:flex;\n",
              "      flex-wrap:wrap;\n",
              "      gap: 12px;\n",
              "    }\n",
              "\n",
              "    .colab-df-convert {\n",
              "      background-color: #E8F0FE;\n",
              "      border: none;\n",
              "      border-radius: 50%;\n",
              "      cursor: pointer;\n",
              "      display: none;\n",
              "      fill: #1967D2;\n",
              "      height: 32px;\n",
              "      padding: 0 0 0 0;\n",
              "      width: 32px;\n",
              "    }\n",
              "\n",
              "    .colab-df-convert:hover {\n",
              "      background-color: #E2EBFA;\n",
              "      box-shadow: 0px 1px 2px rgba(60, 64, 67, 0.3), 0px 1px 3px 1px rgba(60, 64, 67, 0.15);\n",
              "      fill: #174EA6;\n",
              "    }\n",
              "\n",
              "    [theme=dark] .colab-df-convert {\n",
              "      background-color: #3B4455;\n",
              "      fill: #D2E3FC;\n",
              "    }\n",
              "\n",
              "    [theme=dark] .colab-df-convert:hover {\n",
              "      background-color: #434B5C;\n",
              "      box-shadow: 0px 1px 3px 1px rgba(0, 0, 0, 0.15);\n",
              "      filter: drop-shadow(0px 1px 2px rgba(0, 0, 0, 0.3));\n",
              "      fill: #FFFFFF;\n",
              "    }\n",
              "  </style>\n",
              "\n",
              "      <script>\n",
              "        const buttonEl =\n",
              "          document.querySelector('#df-e0a428f3-aae6-4508-84ee-6c301f3bda99 button.colab-df-convert');\n",
              "        buttonEl.style.display =\n",
              "          google.colab.kernel.accessAllowed ? 'block' : 'none';\n",
              "\n",
              "        async function convertToInteractive(key) {\n",
              "          const element = document.querySelector('#df-e0a428f3-aae6-4508-84ee-6c301f3bda99');\n",
              "          const dataTable =\n",
              "            await google.colab.kernel.invokeFunction('convertToInteractive',\n",
              "                                                     [key], {});\n",
              "          if (!dataTable) return;\n",
              "\n",
              "          const docLinkHtml = 'Like what you see? Visit the ' +\n",
              "            '<a target=\"_blank\" href=https://colab.research.google.com/notebooks/data_table.ipynb>data table notebook</a>'\n",
              "            + ' to learn more about interactive tables.';\n",
              "          element.innerHTML = '';\n",
              "          dataTable['output_type'] = 'display_data';\n",
              "          await google.colab.output.renderOutput(dataTable, element);\n",
              "          const docLink = document.createElement('div');\n",
              "          docLink.innerHTML = docLinkHtml;\n",
              "          element.appendChild(docLink);\n",
              "        }\n",
              "      </script>\n",
              "    </div>\n",
              "  </div>\n",
              "  "
            ]
          },
          "metadata": {},
          "execution_count": 90
        }
      ]
    },
    {
      "cell_type": "code",
      "metadata": {
        "id": "UgB_1a_dj19l"
      },
      "source": [
        "# pour afficher les correlations des differentes colonnes\n",
        "ted_main.corr?"
      ],
      "execution_count": null,
      "outputs": []
    },
    {
      "cell_type": "code",
      "source": [
        "ted_main.corr()"
      ],
      "metadata": {
        "colab": {
          "base_uri": "https://localhost:8080/",
          "height": 206
        },
        "id": "_QVzVGOY2kEt",
        "outputId": "1adf27ee-cf80-4a12-ac8b-b45da7e2493a"
      },
      "execution_count": null,
      "outputs": [
        {
          "output_type": "execute_result",
          "data": {
            "text/plain": [
              "             comments  duration  languages  num_speaker     views\n",
              "comments     1.000000  0.140694   0.321246    -0.035489  0.530939\n",
              "duration     0.140694  1.000000  -0.297336     0.022257  0.048740\n",
              "languages    0.321246 -0.297336   1.000000    -0.063620  0.379810\n",
              "num_speaker -0.035489  0.022257  -0.063620     1.000000 -0.026389\n",
              "views        0.530939  0.048740   0.379810    -0.026389  1.000000"
            ],
            "text/html": [
              "\n",
              "  <div id=\"df-e93b1210-48f4-4df2-8769-b40215128009\">\n",
              "    <div class=\"colab-df-container\">\n",
              "      <div>\n",
              "<style scoped>\n",
              "    .dataframe tbody tr th:only-of-type {\n",
              "        vertical-align: middle;\n",
              "    }\n",
              "\n",
              "    .dataframe tbody tr th {\n",
              "        vertical-align: top;\n",
              "    }\n",
              "\n",
              "    .dataframe thead th {\n",
              "        text-align: right;\n",
              "    }\n",
              "</style>\n",
              "<table border=\"1\" class=\"dataframe\">\n",
              "  <thead>\n",
              "    <tr style=\"text-align: right;\">\n",
              "      <th></th>\n",
              "      <th>comments</th>\n",
              "      <th>duration</th>\n",
              "      <th>languages</th>\n",
              "      <th>num_speaker</th>\n",
              "      <th>views</th>\n",
              "    </tr>\n",
              "  </thead>\n",
              "  <tbody>\n",
              "    <tr>\n",
              "      <th>comments</th>\n",
              "      <td>1.000000</td>\n",
              "      <td>0.140694</td>\n",
              "      <td>0.321246</td>\n",
              "      <td>-0.035489</td>\n",
              "      <td>0.530939</td>\n",
              "    </tr>\n",
              "    <tr>\n",
              "      <th>duration</th>\n",
              "      <td>0.140694</td>\n",
              "      <td>1.000000</td>\n",
              "      <td>-0.297336</td>\n",
              "      <td>0.022257</td>\n",
              "      <td>0.048740</td>\n",
              "    </tr>\n",
              "    <tr>\n",
              "      <th>languages</th>\n",
              "      <td>0.321246</td>\n",
              "      <td>-0.297336</td>\n",
              "      <td>1.000000</td>\n",
              "      <td>-0.063620</td>\n",
              "      <td>0.379810</td>\n",
              "    </tr>\n",
              "    <tr>\n",
              "      <th>num_speaker</th>\n",
              "      <td>-0.035489</td>\n",
              "      <td>0.022257</td>\n",
              "      <td>-0.063620</td>\n",
              "      <td>1.000000</td>\n",
              "      <td>-0.026389</td>\n",
              "    </tr>\n",
              "    <tr>\n",
              "      <th>views</th>\n",
              "      <td>0.530939</td>\n",
              "      <td>0.048740</td>\n",
              "      <td>0.379810</td>\n",
              "      <td>-0.026389</td>\n",
              "      <td>1.000000</td>\n",
              "    </tr>\n",
              "  </tbody>\n",
              "</table>\n",
              "</div>\n",
              "      <button class=\"colab-df-convert\" onclick=\"convertToInteractive('df-e93b1210-48f4-4df2-8769-b40215128009')\"\n",
              "              title=\"Convert this dataframe to an interactive table.\"\n",
              "              style=\"display:none;\">\n",
              "        \n",
              "  <svg xmlns=\"http://www.w3.org/2000/svg\" height=\"24px\"viewBox=\"0 0 24 24\"\n",
              "       width=\"24px\">\n",
              "    <path d=\"M0 0h24v24H0V0z\" fill=\"none\"/>\n",
              "    <path d=\"M18.56 5.44l.94 2.06.94-2.06 2.06-.94-2.06-.94-.94-2.06-.94 2.06-2.06.94zm-11 1L8.5 8.5l.94-2.06 2.06-.94-2.06-.94L8.5 2.5l-.94 2.06-2.06.94zm10 10l.94 2.06.94-2.06 2.06-.94-2.06-.94-.94-2.06-.94 2.06-2.06.94z\"/><path d=\"M17.41 7.96l-1.37-1.37c-.4-.4-.92-.59-1.43-.59-.52 0-1.04.2-1.43.59L10.3 9.45l-7.72 7.72c-.78.78-.78 2.05 0 2.83L4 21.41c.39.39.9.59 1.41.59.51 0 1.02-.2 1.41-.59l7.78-7.78 2.81-2.81c.8-.78.8-2.07 0-2.86zM5.41 20L4 18.59l7.72-7.72 1.47 1.35L5.41 20z\"/>\n",
              "  </svg>\n",
              "      </button>\n",
              "      \n",
              "  <style>\n",
              "    .colab-df-container {\n",
              "      display:flex;\n",
              "      flex-wrap:wrap;\n",
              "      gap: 12px;\n",
              "    }\n",
              "\n",
              "    .colab-df-convert {\n",
              "      background-color: #E8F0FE;\n",
              "      border: none;\n",
              "      border-radius: 50%;\n",
              "      cursor: pointer;\n",
              "      display: none;\n",
              "      fill: #1967D2;\n",
              "      height: 32px;\n",
              "      padding: 0 0 0 0;\n",
              "      width: 32px;\n",
              "    }\n",
              "\n",
              "    .colab-df-convert:hover {\n",
              "      background-color: #E2EBFA;\n",
              "      box-shadow: 0px 1px 2px rgba(60, 64, 67, 0.3), 0px 1px 3px 1px rgba(60, 64, 67, 0.15);\n",
              "      fill: #174EA6;\n",
              "    }\n",
              "\n",
              "    [theme=dark] .colab-df-convert {\n",
              "      background-color: #3B4455;\n",
              "      fill: #D2E3FC;\n",
              "    }\n",
              "\n",
              "    [theme=dark] .colab-df-convert:hover {\n",
              "      background-color: #434B5C;\n",
              "      box-shadow: 0px 1px 3px 1px rgba(0, 0, 0, 0.15);\n",
              "      filter: drop-shadow(0px 1px 2px rgba(0, 0, 0, 0.3));\n",
              "      fill: #FFFFFF;\n",
              "    }\n",
              "  </style>\n",
              "\n",
              "      <script>\n",
              "        const buttonEl =\n",
              "          document.querySelector('#df-e93b1210-48f4-4df2-8769-b40215128009 button.colab-df-convert');\n",
              "        buttonEl.style.display =\n",
              "          google.colab.kernel.accessAllowed ? 'block' : 'none';\n",
              "\n",
              "        async function convertToInteractive(key) {\n",
              "          const element = document.querySelector('#df-e93b1210-48f4-4df2-8769-b40215128009');\n",
              "          const dataTable =\n",
              "            await google.colab.kernel.invokeFunction('convertToInteractive',\n",
              "                                                     [key], {});\n",
              "          if (!dataTable) return;\n",
              "\n",
              "          const docLinkHtml = 'Like what you see? Visit the ' +\n",
              "            '<a target=\"_blank\" href=https://colab.research.google.com/notebooks/data_table.ipynb>data table notebook</a>'\n",
              "            + ' to learn more about interactive tables.';\n",
              "          element.innerHTML = '';\n",
              "          dataTable['output_type'] = 'display_data';\n",
              "          await google.colab.output.renderOutput(dataTable, element);\n",
              "          const docLink = document.createElement('div');\n",
              "          docLink.innerHTML = docLinkHtml;\n",
              "          element.appendChild(docLink);\n",
              "        }\n",
              "      </script>\n",
              "    </div>\n",
              "  </div>\n",
              "  "
            ]
          },
          "metadata": {},
          "execution_count": 92
        }
      ]
    },
    {
      "cell_type": "code",
      "metadata": {
        "id": "fTblQchpjzFk"
      },
      "source": [
        "# comme il est un peu difficile d'interpreter les resultats de corr() nous allons essayer de la visualiser \n",
        "# Seaborn est une bibliothèque permettant de créer des graphiques statistiques \n",
        "import seaborn as sns"
      ],
      "execution_count": null,
      "outputs": []
    },
    {
      "cell_type": "code",
      "metadata": {
        "id": "ubpO2nJnj-CD",
        "colab": {
          "base_uri": "https://localhost:8080/",
          "height": 343
        },
        "outputId": "13c719f1-7ddf-45a9-bd49-e7b63d2f1222"
      },
      "source": [
        "sns.heatmap(ted_main.corr())"
      ],
      "execution_count": null,
      "outputs": [
        {
          "output_type": "execute_result",
          "data": {
            "text/plain": [
              "<matplotlib.axes._subplots.AxesSubplot at 0x7f8464dd0290>"
            ]
          },
          "metadata": {},
          "execution_count": 94
        },
        {
          "output_type": "display_data",
          "data": {
            "text/plain": [
              "<Figure size 432x288 with 2 Axes>"
            ],
            "image/png": "[encoded data removed]"
          },
          "metadata": {
            "needs_background": "light"
          }
        }
      ]
    },
    {
      "cell_type": "markdown",
      "source": [
        "C'est mieux mais toujours pas assez informatif"
      ],
      "metadata": {
        "id": "w6VqvV8AB2ZM"
      }
    },
    {
      "cell_type": "code",
      "metadata": {
        "id": "PMdMJNsnkCzU",
        "colab": {
          "base_uri": "https://localhost:8080/",
          "height": 326
        },
        "outputId": "ff6f0c0f-dd41-4d35-c093-cba6d1b8224d"
      },
      "source": [
        "sns.heatmap(ted_main.corr(), vmin=-1, vmax=1, cmap='seismic', linewidths=0.2, annot=True);"
      ],
      "execution_count": null,
      "outputs": [
        {
          "output_type": "display_data",
          "data": {
            "text/plain": [
              "<Figure size 432x288 with 2 Axes>"
            ],
            "image/png": "[encoded data removed]"
          },
          "metadata": {
            "needs_background": "light"
          }
        }
      ]
    },
    {
      "cell_type": "markdown",
      "metadata": {
        "id": "0-VKk9QcBW9N"
      },
      "source": [
        "## Visualisation des distributions"
      ]
    },
    {
      "cell_type": "code",
      "metadata": {
        "id": "fr46ApODAo0X",
        "colab": {
          "base_uri": "https://localhost:8080/",
          "height": 265
        },
        "outputId": "13e234a3-fd88-46a1-88a8-e8475040cf80"
      },
      "source": [
        "ted_main['comments'].hist(bins=100);"
      ],
      "execution_count": null,
      "outputs": [
        {
          "output_type": "display_data",
          "data": {
            "text/plain": [
              "<Figure size 432x288 with 1 Axes>"
            ],
            "image/png": "[encoded data removed]"
          },
          "metadata": {
            "needs_background": "light"
          }
        }
      ]
    },
    {
      "cell_type": "markdown",
      "metadata": {
        "id": "ctYd4EMnBY8M"
      },
      "source": [
        "## Duration"
      ]
    },
    {
      "cell_type": "code",
      "metadata": {
        "id": "vo_ChGuyBDqU",
        "colab": {
          "base_uri": "https://localhost:8080/",
          "height": 282
        },
        "outputId": "f24af21c-6d44-471e-e5ac-cd1c1f67692f"
      },
      "source": [
        "ted_main['duration'].hist(bins=50)"
      ],
      "execution_count": null,
      "outputs": [
        {
          "output_type": "execute_result",
          "data": {
            "text/plain": [
              "<matplotlib.axes._subplots.AxesSubplot at 0x7f8455a76ad0>"
            ]
          },
          "metadata": {},
          "execution_count": 97
        },
        {
          "output_type": "display_data",
          "data": {
            "text/plain": [
              "<Figure size 432x288 with 1 Axes>"
            ],
            "image/png": "[encoded data removed]"
          },
          "metadata": {
            "needs_background": "light"
          }
        }
      ]
    },
    {
      "cell_type": "code",
      "source": [
        "import numpy as np"
      ],
      "metadata": {
        "id": "wVbPloa9Dyd8"
      },
      "execution_count": null,
      "outputs": []
    },
    {
      "cell_type": "code",
      "metadata": {
        "id": "7MzW-_xJBdpT",
        "colab": {
          "base_uri": "https://localhost:8080/",
          "height": 265
        },
        "outputId": "ad4e3b80-e212-49dc-b98f-bc5f978e95c8"
      },
      "source": [
        "np.log(ted_main['duration']).hist(bins=50);"
      ],
      "execution_count": null,
      "outputs": [
        {
          "output_type": "display_data",
          "data": {
            "text/plain": [
              "<Figure size 432x288 with 1 Axes>"
            ],
            "image/png": "[encoded data removed]"
          },
          "metadata": {
            "needs_background": "light"
          }
        }
      ]
    },
    {
      "cell_type": "markdown",
      "metadata": {
        "id": "MYaqjS5oBvIK"
      },
      "source": [
        "## Views"
      ]
    },
    {
      "cell_type": "code",
      "metadata": {
        "id": "ZPZVm9P2BfqX",
        "colab": {
          "base_uri": "https://localhost:8080/",
          "height": 295
        },
        "outputId": "8a0754bc-9ad4-476f-d5bc-41fc82b8eb57"
      },
      "source": [
        "ted_main['views'].hist(bins=50)"
      ],
      "execution_count": null,
      "outputs": [
        {
          "output_type": "execute_result",
          "data": {
            "text/plain": [
              "<matplotlib.axes._subplots.AxesSubplot at 0x7f8455806a10>"
            ]
          },
          "metadata": {},
          "execution_count": 100
        },
        {
          "output_type": "display_data",
          "data": {
            "text/plain": [
              "<Figure size 432x288 with 1 Axes>"
            ],
            "image/png": "[encoded data removed]"
          },
          "metadata": {
            "needs_background": "light"
          }
        }
      ]
    },
    {
      "cell_type": "code",
      "metadata": {
        "id": "TmdCHVs7ByXV",
        "colab": {
          "base_uri": "https://localhost:8080/",
          "height": 282
        },
        "outputId": "d0d44c5a-c286-4df6-ed72-69553579b852"
      },
      "source": [
        "np.log(ted_main['views']).hist(bins=50)"
      ],
      "execution_count": null,
      "outputs": [
        {
          "output_type": "execute_result",
          "data": {
            "text/plain": [
              "<matplotlib.axes._subplots.AxesSubplot at 0x7f8455592c90>"
            ]
          },
          "metadata": {},
          "execution_count": 101
        },
        {
          "output_type": "display_data",
          "data": {
            "text/plain": [
              "<Figure size 432x288 with 1 Axes>"
            ],
            "image/png": "[encoded data removed]"
          },
          "metadata": {
            "needs_background": "light"
          }
        }
      ]
    },
    {
      "cell_type": "markdown",
      "metadata": {
        "id": "wRUPZdN2KXiM"
      },
      "source": [
        "# Prédire le label à partir de la profession du speaker"
      ]
    },
    {
      "cell_type": "code",
      "metadata": {
        "id": "DVGbPKu2G3Qp",
        "colab": {
          "base_uri": "https://localhost:8080/"
        },
        "outputId": "314f6fcc-59d1-43eb-b3ac-01c82be32108"
      },
      "source": [
        "ted_main['speaker_occupation'].value_counts()"
      ],
      "execution_count": null,
      "outputs": [
        {
          "output_type": "execute_result",
          "data": {
            "text/plain": [
              "Writer                  45\n",
              "Artist                  34\n",
              "Designer                34\n",
              "Journalist              33\n",
              "Entrepreneur            31\n",
              "                        ..\n",
              "Science author           1\n",
              "Pro snowboarder          1\n",
              "Artist, urban farmer     1\n",
              "Entrepreneur, author     1\n",
              " Robotics engineer       1\n",
              "Name: speaker_occupation, Length: 1458, dtype: int64"
            ]
          },
          "metadata": {},
          "execution_count": 6
        }
      ]
    },
    {
      "cell_type": "code",
      "metadata": {
        "id": "N_uZVrvUMYKf"
      },
      "source": [
        "# nous allons selectionner juste les 50 professions le plus frequentes\n",
        "professions = ted_main['speaker_occupation']\n",
        "most_common_professions = list(professions.value_counts()[:50].index)\n",
        "test = ted_main['speaker_occupation'].apply(\\\n",
        "  lambda x: x if x in most_common_professions else 'Other')"
      ],
      "execution_count": null,
      "outputs": []
    },
    {
      "cell_type": "code",
      "metadata": {
        "colab": {
          "base_uri": "https://localhost:8080/"
        },
        "id": "IaXyz-OQ8d0U",
        "outputId": "16699f8b-6b24-4309-8b78-05e391d4e5ef"
      },
      "source": [
        "# jettons un coup d'oeil sur notre selection\n",
        "professions.value_counts()[:50].index"
      ],
      "execution_count": null,
      "outputs": [
        {
          "output_type": "execute_result",
          "data": {
            "text/plain": [
              "Index(['Writer', 'Artist', 'Designer', 'Journalist', 'Entrepreneur',\n",
              "       'Architect', 'Inventor', 'Psychologist', 'Photographer', 'Filmmaker',\n",
              "       'Economist', 'Author', 'Neuroscientist', 'Educator', 'Roboticist',\n",
              "       'Philosopher', 'Biologist', 'Physicist', 'Musician', 'Marine biologist',\n",
              "       'Activist', 'Global health expert; data visionary', 'Technologist',\n",
              "       'Graphic designer', 'Historian', 'Philanthropist', 'Astronomer',\n",
              "       'Behavioral economist', 'Oceanographer', 'Singer/songwriter', 'Poet',\n",
              "       'Futurist', 'Engineer', 'Computer scientist', 'Social psychologist',\n",
              "       'Novelist', 'Mathematician', 'Astrophysicist', 'Social entrepreneur',\n",
              "       'Photojournalist', 'Writer, activist', 'Evolutionary biologist',\n",
              "       'Legal activist', 'Climate advocate', 'Techno-illusionist',\n",
              "       'Singer-songwriter', 'Comedian', 'Performance poet, multimedia artist',\n",
              "       'Reporter', 'Paleontologist'],\n",
              "      dtype='object')"
            ]
          },
          "metadata": {},
          "execution_count": 8
        }
      ]
    },
    {
      "cell_type": "code",
      "metadata": {
        "id": "1hg9OaOMHBm0",
        "colab": {
          "base_uri": "https://localhost:8080/"
        },
        "outputId": "ac8805e8-47a2-411f-f7b5-e89ef9151cfc"
      },
      "source": [
        "test.value_counts()"
      ],
      "execution_count": null,
      "outputs": [
        {
          "output_type": "execute_result",
          "data": {
            "text/plain": [
              "Other                                   1854\n",
              "Writer                                    45\n",
              "Artist                                    34\n",
              "Designer                                  34\n",
              "Journalist                                33\n",
              "Entrepreneur                              31\n",
              "Architect                                 30\n",
              "Inventor                                  27\n",
              "Psychologist                              26\n",
              "Photographer                              25\n",
              "Filmmaker                                 21\n",
              "Economist                                 20\n",
              "Educator                                  20\n",
              "Author                                    20\n",
              "Neuroscientist                            20\n",
              "Philosopher                               16\n",
              "Roboticist                                16\n",
              "Biologist                                 15\n",
              "Physicist                                 14\n",
              "Musician                                  11\n",
              "Marine biologist                          11\n",
              "Technologist                              10\n",
              "Activist                                  10\n",
              "Global health expert; data visionary      10\n",
              "Historian                                  9\n",
              "Philanthropist                             9\n",
              "Poet                                       9\n",
              "Astronomer                                 9\n",
              "Singer/songwriter                          9\n",
              "Graphic designer                           9\n",
              "Behavioral economist                       9\n",
              "Oceanographer                              9\n",
              "Computer scientist                         8\n",
              "Social psychologist                        8\n",
              "Engineer                                   8\n",
              "Novelist                                   8\n",
              "Futurist                                   8\n",
              "Mathematician                              7\n",
              "Astrophysicist                             7\n",
              "Singer-songwriter                          6\n",
              "Comedian                                   6\n",
              "Reporter                                   6\n",
              "Legal activist                             6\n",
              "Climate advocate                           6\n",
              "Photojournalist                            6\n",
              "Performance poet, multimedia artist        6\n",
              "Social entrepreneur                        6\n",
              "Techno-illusionist                         6\n",
              "Evolutionary biologist                     6\n",
              "Writer, activist                           6\n",
              "Paleontologist                             5\n",
              "Name: speaker_occupation, dtype: int64"
            ]
          },
          "metadata": {},
          "execution_count": 9
        }
      ]
    },
    {
      "cell_type": "code",
      "metadata": {
        "id": "bue0jMH8-_at",
        "colab": {
          "base_uri": "https://localhost:8080/"
        },
        "outputId": "2e63cb9d-16cb-4182-9dfb-20263fda5238"
      },
      "source": [
        "# nous avons maintenant une liste de professions\n",
        "test"
      ],
      "execution_count": null,
      "outputs": [
        {
          "output_type": "execute_result",
          "data": {
            "text/plain": [
              "0                                      Other\n",
              "1                           Climate advocate\n",
              "2                                      Other\n",
              "3                                      Other\n",
              "4       Global health expert; data visionary\n",
              "                        ...                 \n",
              "2545                              Journalist\n",
              "2546                                   Other\n",
              "2547                                   Other\n",
              "2548                                   Other\n",
              "2549                                   Other\n",
              "Name: speaker_occupation, Length: 2550, dtype: object"
            ]
          },
          "metadata": {},
          "execution_count": 10
        }
      ]
    },
    {
      "cell_type": "code",
      "metadata": {
        "id": "bidMhDG_NeOC"
      },
      "source": [
        "# mais comme nous avons vu en cours seules les donnees quantitatives sont utilisables directement, les professions que nous avons ici sont des donnees categorielles\n",
        "# nous devons donc remedier à ce problème, en utilisant le one hot encoding\n",
        "one_hot_vectors = pd.get_dummies(test)"
      ],
      "execution_count": null,
      "outputs": []
    },
    {
      "cell_type": "code",
      "metadata": {
        "id": "BrnW2XIO9W1R"
      },
      "source": [
        "pd.get_dummies?"
      ],
      "execution_count": null,
      "outputs": []
    },
    {
      "cell_type": "code",
      "metadata": {
        "id": "U4X53nLNHPyw",
        "colab": {
          "base_uri": "https://localhost:8080/",
          "height": 505
        },
        "outputId": "69bf1239-7eb9-43e9-b914-45ececb0180f"
      },
      "source": [
        "one_hot_vectors"
      ],
      "execution_count": null,
      "outputs": [
        {
          "output_type": "execute_result",
          "data": {
            "text/plain": [
              "      Activist  Architect  Artist  Astronomer  Astrophysicist  Author  \\\n",
              "0            0          0       0           0               0       0   \n",
              "1            0          0       0           0               0       0   \n",
              "2            0          0       0           0               0       0   \n",
              "3            0          0       0           0               0       0   \n",
              "4            0          0       0           0               0       0   \n",
              "...        ...        ...     ...         ...             ...     ...   \n",
              "2545         0          0       0           0               0       0   \n",
              "2546         0          0       0           0               0       0   \n",
              "2547         0          0       0           0               0       0   \n",
              "2548         0          0       0           0               0       0   \n",
              "2549         0          0       0           0               0       0   \n",
              "\n",
              "      Behavioral economist  Biologist  Climate advocate  Comedian  ...  \\\n",
              "0                        0          0                 0         0  ...   \n",
              "1                        0          0                 1         0  ...   \n",
              "2                        0          0                 0         0  ...   \n",
              "3                        0          0                 0         0  ...   \n",
              "4                        0          0                 0         0  ...   \n",
              "...                    ...        ...               ...       ...  ...   \n",
              "2545                     0          0                 0         0  ...   \n",
              "2546                     0          0                 0         0  ...   \n",
              "2547                     0          0                 0         0  ...   \n",
              "2548                     0          0                 0         0  ...   \n",
              "2549                     0          0                 0         0  ...   \n",
              "\n",
              "      Reporter  Roboticist  Singer-songwriter  Singer/songwriter  \\\n",
              "0            0           0                  0                  0   \n",
              "1            0           0                  0                  0   \n",
              "2            0           0                  0                  0   \n",
              "3            0           0                  0                  0   \n",
              "4            0           0                  0                  0   \n",
              "...        ...         ...                ...                ...   \n",
              "2545         0           0                  0                  0   \n",
              "2546         0           0                  0                  0   \n",
              "2547         0           0                  0                  0   \n",
              "2548         0           0                  0                  0   \n",
              "2549         0           0                  0                  0   \n",
              "\n",
              "      Social entrepreneur  Social psychologist  Techno-illusionist  \\\n",
              "0                       0                    0                   0   \n",
              "1                       0                    0                   0   \n",
              "2                       0                    0                   0   \n",
              "3                       0                    0                   0   \n",
              "4                       0                    0                   0   \n",
              "...                   ...                  ...                 ...   \n",
              "2545                    0                    0                   0   \n",
              "2546                    0                    0                   0   \n",
              "2547                    0                    0                   0   \n",
              "2548                    0                    0                   0   \n",
              "2549                    0                    0                   0   \n",
              "\n",
              "      Technologist  Writer  Writer, activist  \n",
              "0                0       0                 0  \n",
              "1                0       0                 0  \n",
              "2                0       0                 0  \n",
              "3                0       0                 0  \n",
              "4                0       0                 0  \n",
              "...            ...     ...               ...  \n",
              "2545             0       0                 0  \n",
              "2546             0       0                 0  \n",
              "2547             0       0                 0  \n",
              "2548             0       0                 0  \n",
              "2549             0       0                 0  \n",
              "\n",
              "[2550 rows x 51 columns]"
            ],
            "text/html": [
              "\n",
              "  <div id=\"df-c3423519-ba2f-4ad1-93e4-1ba673201014\">\n",
              "    <div class=\"colab-df-container\">\n",
              "      <div>\n",
              "<style scoped>\n",
              "    .dataframe tbody tr th:only-of-type {\n",
              "        vertical-align: middle;\n",
              "    }\n",
              "\n",
              "    .dataframe tbody tr th {\n",
              "        vertical-align: top;\n",
              "    }\n",
              "\n",
              "    .dataframe thead th {\n",
              "        text-align: right;\n",
              "    }\n",
              "</style>\n",
              "<table border=\"1\" class=\"dataframe\">\n",
              "  <thead>\n",
              "    <tr style=\"text-align: right;\">\n",
              "      <th></th>\n",
              "      <th>Activist</th>\n",
              "      <th>Architect</th>\n",
              "      <th>Artist</th>\n",
              "      <th>Astronomer</th>\n",
              "      <th>Astrophysicist</th>\n",
              "      <th>Author</th>\n",
              "      <th>Behavioral economist</th>\n",
              "      <th>Biologist</th>\n",
              "      <th>Climate advocate</th>\n",
              "      <th>Comedian</th>\n",
              "      <th>...</th>\n",
              "      <th>Reporter</th>\n",
              "      <th>Roboticist</th>\n",
              "      <th>Singer-songwriter</th>\n",
              "      <th>Singer/songwriter</th>\n",
              "      <th>Social entrepreneur</th>\n",
              "      <th>Social psychologist</th>\n",
              "      <th>Techno-illusionist</th>\n",
              "      <th>Technologist</th>\n",
              "      <th>Writer</th>\n",
              "      <th>Writer, activist</th>\n",
              "    </tr>\n",
              "  </thead>\n",
              "  <tbody>\n",
              "    <tr>\n",
              "      <th>0</th>\n",
              "      <td>0</td>\n",
              "      <td>0</td>\n",
              "      <td>0</td>\n",
              "      <td>0</td>\n",
              "      <td>0</td>\n",
              "      <td>0</td>\n",
              "      <td>0</td>\n",
              "      <td>0</td>\n",
              "      <td>0</td>\n",
              "      <td>0</td>\n",
              "      <td>...</td>\n",
              "      <td>0</td>\n",
              "      <td>0</td>\n",
              "      <td>0</td>\n",
              "      <td>0</td>\n",
              "      <td>0</td>\n",
              "      <td>0</td>\n",
              "      <td>0</td>\n",
              "      <td>0</td>\n",
              "      <td>0</td>\n",
              "      <td>0</td>\n",
              "    </tr>\n",
              "    <tr>\n",
              "      <th>1</th>\n",
              "      <td>0</td>\n",
              "      <td>0</td>\n",
              "      <td>0</td>\n",
              "      <td>0</td>\n",
              "      <td>0</td>\n",
              "      <td>0</td>\n",
              "      <td>0</td>\n",
              "      <td>0</td>\n",
              "      <td>1</td>\n",
              "      <td>0</td>\n",
              "      <td>...</td>\n",
              "      <td>0</td>\n",
              "      <td>0</td>\n",
              "      <td>0</td>\n",
              "      <td>0</td>\n",
              "      <td>0</td>\n",
              "      <td>0</td>\n",
              "      <td>0</td>\n",
              "      <td>0</td>\n",
              "      <td>0</td>\n",
              "      <td>0</td>\n",
              "    </tr>\n",
              "    <tr>\n",
              "      <th>2</th>\n",
              "      <td>0</td>\n",
              "      <td>0</td>\n",
              "      <td>0</td>\n",
              "      <td>0</td>\n",
              "      <td>0</td>\n",
              "      <td>0</td>\n",
              "      <td>0</td>\n",
              "      <td>0</td>\n",
              "      <td>0</td>\n",
              "      <td>0</td>\n",
              "      <td>...</td>\n",
              "      <td>0</td>\n",
              "      <td>0</td>\n",
              "      <td>0</td>\n",
              "      <td>0</td>\n",
              "      <td>0</td>\n",
              "      <td>0</td>\n",
              "      <td>0</td>\n",
              "      <td>0</td>\n",
              "      <td>0</td>\n",
              "      <td>0</td>\n",
              "    </tr>\n",
              "    <tr>\n",
              "      <th>3</th>\n",
              "      <td>0</td>\n",
              "      <td>0</td>\n",
              "      <td>0</td>\n",
              "      <td>0</td>\n",
              "      <td>0</td>\n",
              "      <td>0</td>\n",
              "      <td>0</td>\n",
              "      <td>0</td>\n",
              "      <td>0</td>\n",
              "      <td>0</td>\n",
              "      <td>...</td>\n",
              "      <td>0</td>\n",
              "      <td>0</td>\n",
              "      <td>0</td>\n",
              "      <td>0</td>\n",
              "      <td>0</td>\n",
              "      <td>0</td>\n",
              "      <td>0</td>\n",
              "      <td>0</td>\n",
              "      <td>0</td>\n",
              "      <td>0</td>\n",
              "    </tr>\n",
              "    <tr>\n",
              "      <th>4</th>\n",
              "      <td>0</td>\n",
              "      <td>0</td>\n",
              "      <td>0</td>\n",
              "      <td>0</td>\n",
              "      <td>0</td>\n",
              "      <td>0</td>\n",
              "      <td>0</td>\n",
              "      <td>0</td>\n",
              "      <td>0</td>\n",
              "      <td>0</td>\n",
              "      <td>...</td>\n",
              "      <td>0</td>\n",
              "      <td>0</td>\n",
              "      <td>0</td>\n",
              "      <td>0</td>\n",
              "      <td>0</td>\n",
              "      <td>0</td>\n",
              "      <td>0</td>\n",
              "      <td>0</td>\n",
              "      <td>0</td>\n",
              "      <td>0</td>\n",
              "    </tr>\n",
              "    <tr>\n",
              "      <th>...</th>\n",
              "      <td>...</td>\n",
              "      <td>...</td>\n",
              "      <td>...</td>\n",
              "      <td>...</td>\n",
              "      <td>...</td>\n",
              "      <td>...</td>\n",
              "      <td>...</td>\n",
              "      <td>...</td>\n",
              "      <td>...</td>\n",
              "      <td>...</td>\n",
              "      <td>...</td>\n",
              "      <td>...</td>\n",
              "      <td>...</td>\n",
              "      <td>...</td>\n",
              "      <td>...</td>\n",
              "      <td>...</td>\n",
              "      <td>...</td>\n",
              "      <td>...</td>\n",
              "      <td>...</td>\n",
              "      <td>...</td>\n",
              "      <td>...</td>\n",
              "    </tr>\n",
              "    <tr>\n",
              "      <th>2545</th>\n",
              "      <td>0</td>\n",
              "      <td>0</td>\n",
              "      <td>0</td>\n",
              "      <td>0</td>\n",
              "      <td>0</td>\n",
              "      <td>0</td>\n",
              "      <td>0</td>\n",
              "      <td>0</td>\n",
              "      <td>0</td>\n",
              "      <td>0</td>\n",
              "      <td>...</td>\n",
              "      <td>0</td>\n",
              "      <td>0</td>\n",
              "      <td>0</td>\n",
              "      <td>0</td>\n",
              "      <td>0</td>\n",
              "      <td>0</td>\n",
              "      <td>0</td>\n",
              "      <td>0</td>\n",
              "      <td>0</td>\n",
              "      <td>0</td>\n",
              "    </tr>\n",
              "    <tr>\n",
              "      <th>2546</th>\n",
              "      <td>0</td>\n",
              "      <td>0</td>\n",
              "      <td>0</td>\n",
              "      <td>0</td>\n",
              "      <td>0</td>\n",
              "      <td>0</td>\n",
              "      <td>0</td>\n",
              "      <td>0</td>\n",
              "      <td>0</td>\n",
              "      <td>0</td>\n",
              "      <td>...</td>\n",
              "      <td>0</td>\n",
              "      <td>0</td>\n",
              "      <td>0</td>\n",
              "      <td>0</td>\n",
              "      <td>0</td>\n",
              "      <td>0</td>\n",
              "      <td>0</td>\n",
              "      <td>0</td>\n",
              "      <td>0</td>\n",
              "      <td>0</td>\n",
              "    </tr>\n",
              "    <tr>\n",
              "      <th>2547</th>\n",
              "      <td>0</td>\n",
              "      <td>0</td>\n",
              "      <td>0</td>\n",
              "      <td>0</td>\n",
              "      <td>0</td>\n",
              "      <td>0</td>\n",
              "      <td>0</td>\n",
              "      <td>0</td>\n",
              "      <td>0</td>\n",
              "      <td>0</td>\n",
              "      <td>...</td>\n",
              "      <td>0</td>\n",
              "      <td>0</td>\n",
              "      <td>0</td>\n",
              "      <td>0</td>\n",
              "      <td>0</td>\n",
              "      <td>0</td>\n",
              "      <td>0</td>\n",
              "      <td>0</td>\n",
              "      <td>0</td>\n",
              "      <td>0</td>\n",
              "    </tr>\n",
              "    <tr>\n",
              "      <th>2548</th>\n",
              "      <td>0</td>\n",
              "      <td>0</td>\n",
              "      <td>0</td>\n",
              "      <td>0</td>\n",
              "      <td>0</td>\n",
              "      <td>0</td>\n",
              "      <td>0</td>\n",
              "      <td>0</td>\n",
              "      <td>0</td>\n",
              "      <td>0</td>\n",
              "      <td>...</td>\n",
              "      <td>0</td>\n",
              "      <td>0</td>\n",
              "      <td>0</td>\n",
              "      <td>0</td>\n",
              "      <td>0</td>\n",
              "      <td>0</td>\n",
              "      <td>0</td>\n",
              "      <td>0</td>\n",
              "      <td>0</td>\n",
              "      <td>0</td>\n",
              "    </tr>\n",
              "    <tr>\n",
              "      <th>2549</th>\n",
              "      <td>0</td>\n",
              "      <td>0</td>\n",
              "      <td>0</td>\n",
              "      <td>0</td>\n",
              "      <td>0</td>\n",
              "      <td>0</td>\n",
              "      <td>0</td>\n",
              "      <td>0</td>\n",
              "      <td>0</td>\n",
              "      <td>0</td>\n",
              "      <td>...</td>\n",
              "      <td>0</td>\n",
              "      <td>0</td>\n",
              "      <td>0</td>\n",
              "      <td>0</td>\n",
              "      <td>0</td>\n",
              "      <td>0</td>\n",
              "      <td>0</td>\n",
              "      <td>0</td>\n",
              "      <td>0</td>\n",
              "      <td>0</td>\n",
              "    </tr>\n",
              "  </tbody>\n",
              "</table>\n",
              "<p>2550 rows × 51 columns</p>\n",
              "</div>\n",
              "      <button class=\"colab-df-convert\" onclick=\"convertToInteractive('df-c3423519-ba2f-4ad1-93e4-1ba673201014')\"\n",
              "              title=\"Convert this dataframe to an interactive table.\"\n",
              "              style=\"display:none;\">\n",
              "        \n",
              "  <svg xmlns=\"http://www.w3.org/2000/svg\" height=\"24px\"viewBox=\"0 0 24 24\"\n",
              "       width=\"24px\">\n",
              "    <path d=\"M0 0h24v24H0V0z\" fill=\"none\"/>\n",
              "    <path d=\"M18.56 5.44l.94 2.06.94-2.06 2.06-.94-2.06-.94-.94-2.06-.94 2.06-2.06.94zm-11 1L8.5 8.5l.94-2.06 2.06-.94-2.06-.94L8.5 2.5l-.94 2.06-2.06.94zm10 10l.94 2.06.94-2.06 2.06-.94-2.06-.94-.94-2.06-.94 2.06-2.06.94z\"/><path d=\"M17.41 7.96l-1.37-1.37c-.4-.4-.92-.59-1.43-.59-.52 0-1.04.2-1.43.59L10.3 9.45l-7.72 7.72c-.78.78-.78 2.05 0 2.83L4 21.41c.39.39.9.59 1.41.59.51 0 1.02-.2 1.41-.59l7.78-7.78 2.81-2.81c.8-.78.8-2.07 0-2.86zM5.41 20L4 18.59l7.72-7.72 1.47 1.35L5.41 20z\"/>\n",
              "  </svg>\n",
              "      </button>\n",
              "      \n",
              "  <style>\n",
              "    .colab-df-container {\n",
              "      display:flex;\n",
              "      flex-wrap:wrap;\n",
              "      gap: 12px;\n",
              "    }\n",
              "\n",
              "    .colab-df-convert {\n",
              "      background-color: #E8F0FE;\n",
              "      border: none;\n",
              "      border-radius: 50%;\n",
              "      cursor: pointer;\n",
              "      display: none;\n",
              "      fill: #1967D2;\n",
              "      height: 32px;\n",
              "      padding: 0 0 0 0;\n",
              "      width: 32px;\n",
              "    }\n",
              "\n",
              "    .colab-df-convert:hover {\n",
              "      background-color: #E2EBFA;\n",
              "      box-shadow: 0px 1px 2px rgba(60, 64, 67, 0.3), 0px 1px 3px 1px rgba(60, 64, 67, 0.15);\n",
              "      fill: #174EA6;\n",
              "    }\n",
              "\n",
              "    [theme=dark] .colab-df-convert {\n",
              "      background-color: #3B4455;\n",
              "      fill: #D2E3FC;\n",
              "    }\n",
              "\n",
              "    [theme=dark] .colab-df-convert:hover {\n",
              "      background-color: #434B5C;\n",
              "      box-shadow: 0px 1px 3px 1px rgba(0, 0, 0, 0.15);\n",
              "      filter: drop-shadow(0px 1px 2px rgba(0, 0, 0, 0.3));\n",
              "      fill: #FFFFFF;\n",
              "    }\n",
              "  </style>\n",
              "\n",
              "      <script>\n",
              "        const buttonEl =\n",
              "          document.querySelector('#df-c3423519-ba2f-4ad1-93e4-1ba673201014 button.colab-df-convert');\n",
              "        buttonEl.style.display =\n",
              "          google.colab.kernel.accessAllowed ? 'block' : 'none';\n",
              "\n",
              "        async function convertToInteractive(key) {\n",
              "          const element = document.querySelector('#df-c3423519-ba2f-4ad1-93e4-1ba673201014');\n",
              "          const dataTable =\n",
              "            await google.colab.kernel.invokeFunction('convertToInteractive',\n",
              "                                                     [key], {});\n",
              "          if (!dataTable) return;\n",
              "\n",
              "          const docLinkHtml = 'Like what you see? Visit the ' +\n",
              "            '<a target=\"_blank\" href=https://colab.research.google.com/notebooks/data_table.ipynb>data table notebook</a>'\n",
              "            + ' to learn more about interactive tables.';\n",
              "          element.innerHTML = '';\n",
              "          dataTable['output_type'] = 'display_data';\n",
              "          await google.colab.output.renderOutput(dataTable, element);\n",
              "          const docLink = document.createElement('div');\n",
              "          docLink.innerHTML = docLinkHtml;\n",
              "          element.appendChild(docLink);\n",
              "        }\n",
              "      </script>\n",
              "    </div>\n",
              "  </div>\n",
              "  "
            ]
          },
          "metadata": {},
          "execution_count": 13
        }
      ]
    },
    {
      "cell_type": "code",
      "metadata": {
        "id": "nB6IQJoTHpeo",
        "colab": {
          "base_uri": "https://localhost:8080/"
        },
        "outputId": "0ffe317a-457a-4b14-ced1-dc118a941905"
      },
      "source": [
        "# nous allons essayer de construire un modele qui essaye de determiner si le 'tag' d'un TEDtalk contient 'technology' ou pas\n",
        "ted_main['tags']"
      ],
      "execution_count": null,
      "outputs": [
        {
          "output_type": "execute_result",
          "data": {
            "text/plain": [
              "0       ['children', 'creativity', 'culture', 'dance',...\n",
              "1       ['alternative energy', 'cars', 'climate change...\n",
              "2       ['computers', 'entertainment', 'interface desi...\n",
              "3       ['MacArthur grant', 'activism', 'business', 'c...\n",
              "4       ['Africa', 'Asia', 'Google', 'demo', 'economic...\n",
              "                              ...                        \n",
              "2545    ['TED Residency', 'United States', 'community'...\n",
              "2546    ['Mars', 'South America', 'TED Fellows', 'astr...\n",
              "2547    ['AI', 'ants', 'fish', 'future', 'innovation',...\n",
              "2548    ['Internet', 'TEDx', 'United States', 'communi...\n",
              "2549    ['cities', 'design', 'future', 'infrastructure...\n",
              "Name: tags, Length: 2550, dtype: object"
            ]
          },
          "metadata": {},
          "execution_count": 14
        }
      ]
    },
    {
      "cell_type": "markdown",
      "metadata": {
        "id": "_mH16l09JbIR"
      },
      "source": [
        "## Répartition des données en ensembles de formation et de test (training set, test set)"
      ]
    },
    {
      "cell_type": "code",
      "metadata": {
        "id": "E42MGgzXOGNf"
      },
      "source": [
        "from sklearn.metrics import accuracy_score\n",
        "from sklearn.model_selection import train_test_split\n",
        "\n",
        "X = one_hot_vectors\n",
        "y = ted_main['tags'].apply(lambda x: 'technology' in x)\n",
        "\n",
        "X_train, X_test, y_train, y_test = train_test_split(X, y, test_size=0.3)"
      ],
      "execution_count": null,
      "outputs": []
    },
    {
      "cell_type": "code",
      "metadata": {
        "id": "nJ9fq3jbH1Fw",
        "colab": {
          "base_uri": "https://localhost:8080/"
        },
        "outputId": "b753d436-17e6-491b-f143-d5dd305be9bd"
      },
      "source": [
        "len(X_train), len(X_test)"
      ],
      "execution_count": null,
      "outputs": [
        {
          "output_type": "execute_result",
          "data": {
            "text/plain": [
              "(1785, 765)"
            ]
          },
          "metadata": {},
          "execution_count": 16
        }
      ]
    },
    {
      "cell_type": "code",
      "metadata": {
        "id": "1rkm0TiAIBqu",
        "colab": {
          "base_uri": "https://localhost:8080/"
        },
        "outputId": "007a86cb-95dc-4db2-ce13-8517140fdc09"
      },
      "source": [
        "y.value_counts()"
      ],
      "execution_count": null,
      "outputs": [
        {
          "output_type": "execute_result",
          "data": {
            "text/plain": [
              "False    1823\n",
              "True      727\n",
              "Name: tags, dtype: int64"
            ]
          },
          "metadata": {},
          "execution_count": 17
        }
      ]
    },
    {
      "cell_type": "code",
      "metadata": {
        "colab": {
          "base_uri": "https://localhost:8080/"
        },
        "id": "DdakuGJe91wt",
        "outputId": "96bf4af2-bb8e-4096-b779-ed5d6f79054d"
      },
      "source": [
        "y_train.value_counts()"
      ],
      "execution_count": null,
      "outputs": [
        {
          "output_type": "execute_result",
          "data": {
            "text/plain": [
              "False    1261\n",
              "True      524\n",
              "Name: tags, dtype: int64"
            ]
          },
          "metadata": {},
          "execution_count": 18
        }
      ]
    },
    {
      "cell_type": "code",
      "metadata": {
        "colab": {
          "base_uri": "https://localhost:8080/"
        },
        "id": "evQjiJFE95ZX",
        "outputId": "ecf8228c-3e91-4382-e7f4-071979e3a7fb"
      },
      "source": [
        "y_test.value_counts()"
      ],
      "execution_count": null,
      "outputs": [
        {
          "output_type": "execute_result",
          "data": {
            "text/plain": [
              "False    562\n",
              "True     203\n",
              "Name: tags, dtype: int64"
            ]
          },
          "metadata": {},
          "execution_count": 19
        }
      ]
    },
    {
      "cell_type": "markdown",
      "metadata": {
        "id": "qXJGOQXUJkCy"
      },
      "source": [
        "## Importation d'un classificateur de régression logistique et utilisation de celui-ci pour prédire si l'entretien a le tag \"Technology\"."
      ]
    },
    {
      "cell_type": "code",
      "metadata": {
        "id": "243_tQswaMlx",
        "colab": {
          "base_uri": "https://localhost:8080/"
        },
        "outputId": "0243a191-1455-4097-9df7-950efc895750"
      },
      "source": [
        "from sklearn.linear_model import LogisticRegression\n",
        "# on va utiliser X_train et y_train pour entrainer le modele\n",
        "# et X_test, y_test pour tester nos predictions\n",
        "clf = LogisticRegression()\n",
        "clf.fit(X_train, y_train)\n",
        "preds = clf.predict(X_test)\n",
        "\n",
        "print(\"Prédire si le TEDtalk est lié à la technologie à l'aide d'un classificateur de régression logistique\")\n",
        "print(f\"\\nLa précision du classificateur est...:\\n\\n {round(100*accuracy_score(y_test, preds),2)} pourcent !\\n\") "
      ],
      "execution_count": null,
      "outputs": [
        {
          "output_type": "stream",
          "name": "stdout",
          "text": [
            "Prédire si le TEDtalk est lié à la technologie à l'aide d'un classificateur de régression logistique\n",
            "\n",
            "La précision du classificateur est...:\n",
            "\n",
            " 75.29 pourcent !\n",
            "\n"
          ]
        }
      ]
    },
    {
      "cell_type": "code",
      "metadata": {
        "id": "MXF8utEw_UFC"
      },
      "source": [
        "LogisticRegression?"
      ],
      "execution_count": null,
      "outputs": []
    },
    {
      "cell_type": "code",
      "metadata": {
        "id": "azaeJuRcIwKp"
      },
      "source": [
        "accuracy_score?"
      ],
      "execution_count": null,
      "outputs": []
    },
    {
      "cell_type": "code",
      "metadata": {
        "colab": {
          "base_uri": "https://localhost:8080/"
        },
        "id": "_q7coKYAUnJd",
        "outputId": "96c0f7d4-7675-407d-c3d0-e9fa960f7eb9"
      },
      "source": [
        "accuracy_score(y_test, preds)"
      ],
      "execution_count": null,
      "outputs": [
        {
          "output_type": "execute_result",
          "data": {
            "text/plain": [
              "0.7529411764705882"
            ]
          },
          "metadata": {},
          "execution_count": 31
        }
      ]
    },
    {
      "cell_type": "code",
      "metadata": {
        "id": "T8PCifRN9VdE"
      },
      "source": [
        "from sklearn.metrics import classification_report"
      ],
      "execution_count": null,
      "outputs": []
    },
    {
      "cell_type": "code",
      "metadata": {
        "id": "YfeFau6V9YA1",
        "colab": {
          "base_uri": "https://localhost:8080/"
        },
        "outputId": "4d6ae70a-e599-4db3-c0f5-9b1d3e3b0ed8"
      },
      "source": [
        "print(classification_report(y_test, preds))"
      ],
      "execution_count": null,
      "outputs": [
        {
          "output_type": "stream",
          "name": "stdout",
          "text": [
            "              precision    recall  f1-score   support\n",
            "\n",
            "       False       0.76      0.98      0.85       562\n",
            "        True       0.68      0.13      0.22       203\n",
            "\n",
            "    accuracy                           0.75       765\n",
            "   macro avg       0.72      0.55      0.53       765\n",
            "weighted avg       0.74      0.75      0.68       765\n",
            "\n"
          ]
        }
      ]
    },
    {
      "cell_type": "code",
      "metadata": {
        "id": "vtuX3F8Y-5LS"
      },
      "source": [
        "classification_report?"
      ],
      "execution_count": null,
      "outputs": []
    },
    {
      "cell_type": "markdown",
      "metadata": {
        "id": "cJKRyAhFJwtx"
      },
      "source": [
        "\n",
        "## Importation d'un classificateur à arbre de décision et utilisation de celui-ci pour prédire si le TEDtalk a le tag \" Technology \"."
      ]
    },
    {
      "cell_type": "code",
      "metadata": {
        "id": "O1glOTtfbDlI",
        "colab": {
          "base_uri": "https://localhost:8080/"
        },
        "outputId": "0d0b3e59-7ee6-427e-d1ea-7689ae786410"
      },
      "source": [
        "from sklearn.tree import DecisionTreeClassifier\n",
        "\n",
        "clf2 = DecisionTreeClassifier()\n",
        "clf2.fit(X_train, y_train)\n",
        "preds = clf2.predict(X_test)\n",
        "\n",
        "print(\"Prédire si le discours est lié à la technologie en utilisant un classificateur à arbre de décision.\")\n",
        "# print(classification_report(y_test, preds))\n",
        "print(f\"\\nThe classifier's accuracy is... *\\n\\n{round(100*accuracy_score(y_test, preds),2)} pourcent !\\n\" )"
      ],
      "execution_count": null,
      "outputs": [
        {
          "output_type": "stream",
          "name": "stdout",
          "text": [
            "Prédire si le discours est lié à la technologie en utilisant un classificateur à arbre de décision.\n",
            "\n",
            "The classifier's accuracy is... *\n",
            "\n",
            "75.16 pourcent !\n",
            "\n"
          ]
        }
      ]
    },
    {
      "cell_type": "code",
      "metadata": {
        "id": "81w2Qpmc9O1B"
      },
      "source": [],
      "execution_count": null,
      "outputs": []
    }
  ]
}