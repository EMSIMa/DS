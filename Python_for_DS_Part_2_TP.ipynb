{
  "nbformat": 4,
  "nbformat_minor": 0,
  "metadata": {
    "colab": {
      "provenance": [],
      "collapsed_sections": []
    },
    "kernelspec": {
      "display_name": "Python 3",
      "name": "python3"
    }
  },
  "cells": [
    {
      "cell_type": "markdown",
      "metadata": {
        "id": "YTEEVVsQUfQ3"
      },
      "source": [
        "# PYTHON FOR DATA SCIENCE"
      ]
    },
    {
      "cell_type": "markdown",
      "source": [
        "<a href=\"https://colab.research.google.com/github/EMSIMa/DS/blob/main/Python%20For%20Data%20Science%20Part%202.ipynb\" target=\"_parent\"><img src=\"https://colab.research.google.com/assets/colab-badge.svg\" alt=\"Open in Colab\"/></a>"
      ],
      "metadata": {
        "id": "S2K-pZN4ulTM"
      }
    },
    {
      "cell_type": "markdown",
      "metadata": {
        "id": "jJzoQxrllLCJ"
      },
      "source": [
        "# Nouveau Dataset : Plus de Memes !"
      ]
    },
    {
      "cell_type": "code",
      "metadata": {
        "cellView": "form",
        "colab": {
          "base_uri": "https://localhost:8080/",
          "height": 349
        },
        "id": "_6VEVmGm68EI",
        "outputId": "502e711e-afa8-4ee5-e75d-127ca2fc5cab"
      },
      "source": [
        "#@title .\n",
        "%%html\n",
        "<figure>\n",
        "<center>\n",
        "<img src='https://www.budgetsaresexy.com/images/you-get-a-meme-oprah.jpg' width=400 height=300/>\n",
        "<figcaption></figcaption></center>\n",
        "</figure>"
      ],
      "execution_count": null,
      "outputs": [
        {
          "output_type": "display_data",
          "data": {
            "text/plain": [
              "<IPython.core.display.HTML object>"
            ],
            "text/html": [
              "<figure>\n",
              "<center>\n",
              "<img src='https://www.budgetsaresexy.com/images/you-get-a-meme-oprah.jpg' width=400 height=300/>\n",
              "<figcaption></figcaption></center>\n",
              "</figure>\n"
            ]
          },
          "metadata": {}
        }
      ]
    },
    {
      "cell_type": "markdown",
      "metadata": {
        "id": "_T_lVWmQ9ViS"
      },
      "source": [
        "Les données initiales proviennent de : https://www.kaggle.com/sayangoswami/reddit-memes-dataset"
      ]
    },
    {
      "cell_type": "code",
      "metadata": {
        "id": "sYf39GwgA-12"
      },
      "source": [
        "import pandas as pd\n",
        "initial_data = pd.read_csv('https://raw.githubusercontent.com/EMSIMa/DS/main/reddit_memes.csv', header=0, index_col=0)"
      ],
      "execution_count": null,
      "outputs": []
    },
    {
      "cell_type": "code",
      "metadata": {
        "colab": {
          "base_uri": "https://localhost:8080/",
          "height": 143
        },
        "id": "g6jwBt7fBEMX",
        "outputId": "b98fe3a0-a3bf-4b50-8b63-6d1dd093c56d"
      },
      "source": [
        "initial_data.tail(3)"
      ],
      "execution_count": null,
      "outputs": [
        {
          "output_type": "execute_result",
          "data": {
            "text/plain": [
              "            author                               media  downs  \\\n",
              "3223     Mambatony  https://i.redd.it/bqhsh59q0sxz.png      0   \n",
              "3224  Holofan4life     https://i.imgur.com/uinYISg.png      0   \n",
              "3225  Holofan4life     https://i.imgur.com/f0vsMo8.jpg      0   \n",
              "\n",
              "                  title   created_utc  width  \\\n",
              "3223      disgusting...  1.510594e+09    140   \n",
              "3224  I'd pay to see it  1.522068e+09    140   \n",
              "3225        There's one  1.515661e+09    140   \n",
              "\n",
              "                                              thumbnail  height   ups      id  \n",
              "3223  https://a.thumbs.redditmedia.com/VEhSkmJhQFDpz...     137   701  7colnv  \n",
              "3224  https://b.thumbs.redditmedia.com/JqLYENKMIzTwU...     139  7651  878r2b  \n",
              "3225  https://a.thumbs.redditmedia.com/8UFE5XxvGCHTm...     140  7587  7pmvxq  "
            ],
            "text/html": [
              "\n",
              "  <div id=\"df-739876ae-e1f9-4ff6-bf45-5af42bd4e5c5\">\n",
              "    <div class=\"colab-df-container\">\n",
              "      <div>\n",
              "<style scoped>\n",
              "    .dataframe tbody tr th:only-of-type {\n",
              "        vertical-align: middle;\n",
              "    }\n",
              "\n",
              "    .dataframe tbody tr th {\n",
              "        vertical-align: top;\n",
              "    }\n",
              "\n",
              "    .dataframe thead th {\n",
              "        text-align: right;\n",
              "    }\n",
              "</style>\n",
              "<table border=\"1\" class=\"dataframe\">\n",
              "  <thead>\n",
              "    <tr style=\"text-align: right;\">\n",
              "      <th></th>\n",
              "      <th>author</th>\n",
              "      <th>media</th>\n",
              "      <th>downs</th>\n",
              "      <th>title</th>\n",
              "      <th>created_utc</th>\n",
              "      <th>width</th>\n",
              "      <th>thumbnail</th>\n",
              "      <th>height</th>\n",
              "      <th>ups</th>\n",
              "      <th>id</th>\n",
              "    </tr>\n",
              "  </thead>\n",
              "  <tbody>\n",
              "    <tr>\n",
              "      <th>3223</th>\n",
              "      <td>Mambatony</td>\n",
              "      <td>https://i.redd.it/bqhsh59q0sxz.png</td>\n",
              "      <td>0</td>\n",
              "      <td>disgusting...</td>\n",
              "      <td>1.510594e+09</td>\n",
              "      <td>140</td>\n",
              "      <td>https://a.thumbs.redditmedia.com/VEhSkmJhQFDpz...</td>\n",
              "      <td>137</td>\n",
              "      <td>701</td>\n",
              "      <td>7colnv</td>\n",
              "    </tr>\n",
              "    <tr>\n",
              "      <th>3224</th>\n",
              "      <td>Holofan4life</td>\n",
              "      <td>https://i.imgur.com/uinYISg.png</td>\n",
              "      <td>0</td>\n",
              "      <td>I'd pay to see it</td>\n",
              "      <td>1.522068e+09</td>\n",
              "      <td>140</td>\n",
              "      <td>https://b.thumbs.redditmedia.com/JqLYENKMIzTwU...</td>\n",
              "      <td>139</td>\n",
              "      <td>7651</td>\n",
              "      <td>878r2b</td>\n",
              "    </tr>\n",
              "    <tr>\n",
              "      <th>3225</th>\n",
              "      <td>Holofan4life</td>\n",
              "      <td>https://i.imgur.com/f0vsMo8.jpg</td>\n",
              "      <td>0</td>\n",
              "      <td>There's one</td>\n",
              "      <td>1.515661e+09</td>\n",
              "      <td>140</td>\n",
              "      <td>https://a.thumbs.redditmedia.com/8UFE5XxvGCHTm...</td>\n",
              "      <td>140</td>\n",
              "      <td>7587</td>\n",
              "      <td>7pmvxq</td>\n",
              "    </tr>\n",
              "  </tbody>\n",
              "</table>\n",
              "</div>\n",
              "      <button class=\"colab-df-convert\" onclick=\"convertToInteractive('df-739876ae-e1f9-4ff6-bf45-5af42bd4e5c5')\"\n",
              "              title=\"Convert this dataframe to an interactive table.\"\n",
              "              style=\"display:none;\">\n",
              "        \n",
              "  <svg xmlns=\"http://www.w3.org/2000/svg\" height=\"24px\"viewBox=\"0 0 24 24\"\n",
              "       width=\"24px\">\n",
              "    <path d=\"M0 0h24v24H0V0z\" fill=\"none\"/>\n",
              "    <path d=\"M18.56 5.44l.94 2.06.94-2.06 2.06-.94-2.06-.94-.94-2.06-.94 2.06-2.06.94zm-11 1L8.5 8.5l.94-2.06 2.06-.94-2.06-.94L8.5 2.5l-.94 2.06-2.06.94zm10 10l.94 2.06.94-2.06 2.06-.94-2.06-.94-.94-2.06-.94 2.06-2.06.94z\"/><path d=\"M17.41 7.96l-1.37-1.37c-.4-.4-.92-.59-1.43-.59-.52 0-1.04.2-1.43.59L10.3 9.45l-7.72 7.72c-.78.78-.78 2.05 0 2.83L4 21.41c.39.39.9.59 1.41.59.51 0 1.02-.2 1.41-.59l7.78-7.78 2.81-2.81c.8-.78.8-2.07 0-2.86zM5.41 20L4 18.59l7.72-7.72 1.47 1.35L5.41 20z\"/>\n",
              "  </svg>\n",
              "      </button>\n",
              "      \n",
              "  <style>\n",
              "    .colab-df-container {\n",
              "      display:flex;\n",
              "      flex-wrap:wrap;\n",
              "      gap: 12px;\n",
              "    }\n",
              "\n",
              "    .colab-df-convert {\n",
              "      background-color: #E8F0FE;\n",
              "      border: none;\n",
              "      border-radius: 50%;\n",
              "      cursor: pointer;\n",
              "      display: none;\n",
              "      fill: #1967D2;\n",
              "      height: 32px;\n",
              "      padding: 0 0 0 0;\n",
              "      width: 32px;\n",
              "    }\n",
              "\n",
              "    .colab-df-convert:hover {\n",
              "      background-color: #E2EBFA;\n",
              "      box-shadow: 0px 1px 2px rgba(60, 64, 67, 0.3), 0px 1px 3px 1px rgba(60, 64, 67, 0.15);\n",
              "      fill: #174EA6;\n",
              "    }\n",
              "\n",
              "    [theme=dark] .colab-df-convert {\n",
              "      background-color: #3B4455;\n",
              "      fill: #D2E3FC;\n",
              "    }\n",
              "\n",
              "    [theme=dark] .colab-df-convert:hover {\n",
              "      background-color: #434B5C;\n",
              "      box-shadow: 0px 1px 3px 1px rgba(0, 0, 0, 0.15);\n",
              "      filter: drop-shadow(0px 1px 2px rgba(0, 0, 0, 0.3));\n",
              "      fill: #FFFFFF;\n",
              "    }\n",
              "  </style>\n",
              "\n",
              "      <script>\n",
              "        const buttonEl =\n",
              "          document.querySelector('#df-739876ae-e1f9-4ff6-bf45-5af42bd4e5c5 button.colab-df-convert');\n",
              "        buttonEl.style.display =\n",
              "          google.colab.kernel.accessAllowed ? 'block' : 'none';\n",
              "\n",
              "        async function convertToInteractive(key) {\n",
              "          const element = document.querySelector('#df-739876ae-e1f9-4ff6-bf45-5af42bd4e5c5');\n",
              "          const dataTable =\n",
              "            await google.colab.kernel.invokeFunction('convertToInteractive',\n",
              "                                                     [key], {});\n",
              "          if (!dataTable) return;\n",
              "\n",
              "          const docLinkHtml = 'Like what you see? Visit the ' +\n",
              "            '<a target=\"_blank\" href=https://colab.research.google.com/notebooks/data_table.ipynb>data table notebook</a>'\n",
              "            + ' to learn more about interactive tables.';\n",
              "          element.innerHTML = '';\n",
              "          dataTable['output_type'] = 'display_data';\n",
              "          await google.colab.output.renderOutput(dataTable, element);\n",
              "          const docLink = document.createElement('div');\n",
              "          docLink.innerHTML = docLinkHtml;\n",
              "          element.appendChild(docLink);\n",
              "        }\n",
              "      </script>\n",
              "    </div>\n",
              "  </div>\n",
              "  "
            ]
          },
          "metadata": {},
          "execution_count": 2
        }
      ]
    },
    {
      "cell_type": "code",
      "metadata": {
        "id": "bc51JHhrTatH"
      },
      "source": [
        "import matplotlib.pyplot as plt"
      ],
      "execution_count": null,
      "outputs": []
    },
    {
      "cell_type": "code",
      "metadata": {
        "colab": {
          "base_uri": "https://localhost:8080/",
          "height": 282
        },
        "id": "FlkoqlbztNgK",
        "outputId": "52738e6c-3f62-4024-e3b6-75306ee66998"
      },
      "source": [
        "plt.hist(initial_data['ups'], bins=50, log=True);\n",
        "print(initial_data.shape)"
      ],
      "execution_count": null,
      "outputs": [
        {
          "output_type": "stream",
          "name": "stdout",
          "text": [
            "(3226, 10)\n"
          ]
        },
        {
          "output_type": "display_data",
          "data": {
            "text/plain": [
              "<Figure size 432x288 with 1 Axes>"
            ],
            "image/png": "[encoded data removed]"
          },
          "metadata": {
            "needs_background": "light"
          }
        }
      ]
    },
    {
      "cell_type": "code",
      "metadata": {
        "cellView": "form",
        "colab": {
          "base_uri": "https://localhost:8080/",
          "height": 299
        },
        "id": "rLCNn4kNCMMG",
        "outputId": "e2c23765-b78f-4b8b-8e35-7d7bb4727c36"
      },
      "source": [
        "#@title Data Science Problems\n",
        "%%html\n",
        "<figure>\n",
        "<center>\n",
        "<img src='https://i.imgflip.com/39qq22.jpg' width=400 height=250/>\n",
        "<figcaption></figcaption></center>\n",
        "</figure>"
      ],
      "execution_count": null,
      "outputs": [
        {
          "data": {
            "text/html": [
              "<figure>\n",
              "<center>\n",
              "<img src='https://i.imgflip.com/39qq22.jpg' width=400 height=250/>\n",
              "<figcaption></figcaption></center>\n",
              "</figure>"
            ],
            "text/plain": [
              "<IPython.core.display.HTML object>"
            ]
          },
          "metadata": {
            "tags": []
          },
          "output_type": "display_data"
        }
      ]
    },
    {
      "cell_type": "markdown",
      "source": [
        "Ce DataSet n'est pas suffisant pour creer un modele qui prevoit si un meme est bon ou pas "
      ],
      "metadata": {
        "id": "KT4m1NmJr9Nc"
      }
    },
    {
      "cell_type": "code",
      "metadata": {
        "cellView": "form",
        "colab": {
          "base_uri": "https://localhost:8080/",
          "height": 349
        },
        "id": "Vt6eE7Ip_weP",
        "outputId": "fd8ffaf5-499b-49d7-d757-2ce61ebb30ed"
      },
      "source": [
        "#@title Ne vous inquietez pas...\n",
        "%%html\n",
        "<figure>\n",
        "<center>\n",
        "<img src='https://miro.medium.com/max/550/0*Bj_O1jRFzZjKxzi4.jpg' width=400 height=300/>\n",
        "<figcaption></figcaption></center>\n",
        "</figure>"
      ],
      "execution_count": null,
      "outputs": [
        {
          "output_type": "display_data",
          "data": {
            "text/plain": [
              "<IPython.core.display.HTML object>"
            ],
            "text/html": [
              "<figure>\n",
              "<center>\n",
              "<img src='https://miro.medium.com/max/550/0*Bj_O1jRFzZjKxzi4.jpg' width=400 height=300/>\n",
              "<figcaption></figcaption></center>\n",
              "</figure>\n"
            ]
          },
          "metadata": {}
        }
      ]
    },
    {
      "cell_type": "markdown",
      "metadata": {
        "id": "ZSAtTNyGEgDV"
      },
      "source": [
        "# Faire du Scrapping de commentaires depuis le subreddit \"Dank Memes\""
      ]
    },
    {
      "cell_type": "markdown",
      "metadata": {
        "id": "aAO2N4mjE3xL"
      },
      "source": [
        "Grace au fichier [db.json](https://www.kaggle.com/datasets/sayangoswami/reddit-memes-dataset) qui contient les metadata sur les memes de notre dataset, nous avons parcouru le subreddit r/dankmemes/ pour récupérer les commentaires. \n",
        "Nous avons utilisé:\n",
        "* selenium : à l'origine, une bibliothèque de tests javascript, couramment utilisée pour le scrapping de sites web avec chargement de contenu dynamique \n",
        "\n",
        "* chrome-driver : navigateur chrome, mais headless (sans GUI)"
      ]
    },
    {
      "cell_type": "markdown",
      "metadata": {
        "id": "hivknebUFbQK"
      },
      "source": [
        "Nous obtenons donc un nouveau dataset avec des commentaires"
      ]
    },
    {
      "cell_type": "code",
      "metadata": {
        "id": "dXWvMESm2x-L"
      },
      "source": [
        "raw = pd.read_csv('https://raw.githubusercontent.com/EMSIMa/DS/main/memes_data_full2.csv', header=0, index_col=0)\n",
        "\n",
        "raw = raw.dropna()"
      ],
      "execution_count": null,
      "outputs": []
    },
    {
      "cell_type": "code",
      "metadata": {
        "colab": {
          "base_uri": "https://localhost:8080/",
          "height": 424
        },
        "id": "zpqInmn1S8GG",
        "outputId": "a14b4af5-502e-4702-aa5a-3c4694501456"
      },
      "source": [
        "raw.head()"
      ],
      "execution_count": null,
      "outputs": [
        {
          "output_type": "execute_result",
          "data": {
            "text/plain": [
              "    author                               media  downs                title  \\\n",
              "0  itsopaz  https://i.redd.it/3blmjda9w4ny.jpg      0  1929 was rough year   \n",
              "1  itsopaz  https://i.redd.it/3blmjda9w4ny.jpg      0  1929 was rough year   \n",
              "2  itsopaz  https://i.redd.it/3blmjda9w4ny.jpg      0  1929 was rough year   \n",
              "3  itsopaz  https://i.redd.it/3blmjda9w4ny.jpg      0  1929 was rough year   \n",
              "4  itsopaz  https://i.redd.it/3blmjda9w4ny.jpg      0  1929 was rough year   \n",
              "\n",
              "    created_utc  width                                          thumbnail  \\\n",
              "0  1.490265e+09    140  https://b.thumbs.redditmedia.com/Lo2LOVGTJc-uv...   \n",
              "1  1.490265e+09    140  https://b.thumbs.redditmedia.com/Lo2LOVGTJc-uv...   \n",
              "2  1.490265e+09    140  https://b.thumbs.redditmedia.com/Lo2LOVGTJc-uv...   \n",
              "3  1.490265e+09    140  https://b.thumbs.redditmedia.com/Lo2LOVGTJc-uv...   \n",
              "4  1.490265e+09    140  https://b.thumbs.redditmedia.com/Lo2LOVGTJc-uv...   \n",
              "\n",
              "   height    ups      id                                            comment  \\\n",
              "0      83  26034  6110zu                                              dank.   \n",
              "1      83  26034  6110zu  farmer: well if the bank doesn't kick me off t...   \n",
              "2      83  26034  6110zu  banker: we need a way to ensure that food can'...   \n",
              "3      83  26034  6110zu  if the bank doesn't enforce a punishment for d...   \n",
              "4      83  26034  6110zu  many farmers went bankrupt because they were c...   \n",
              "\n",
              "             usr   total_cmnts  percent_ups  \n",
              "0   savageaxebot  509 comments  91% Upvoted  \n",
              "1      pacificol  509 comments  91% Upvoted  \n",
              "2  evolving_dore  509 comments  91% Upvoted  \n",
              "3    2 years ago  509 comments  91% Upvoted  \n",
              "4     drsandbags  509 comments  91% Upvoted  "
            ],
            "text/html": [
              "\n",
              "  <div id=\"df-781abd85-85f2-4243-8751-a072e4ec90fa\">\n",
              "    <div class=\"colab-df-container\">\n",
              "      <div>\n",
              "<style scoped>\n",
              "    .dataframe tbody tr th:only-of-type {\n",
              "        vertical-align: middle;\n",
              "    }\n",
              "\n",
              "    .dataframe tbody tr th {\n",
              "        vertical-align: top;\n",
              "    }\n",
              "\n",
              "    .dataframe thead th {\n",
              "        text-align: right;\n",
              "    }\n",
              "</style>\n",
              "<table border=\"1\" class=\"dataframe\">\n",
              "  <thead>\n",
              "    <tr style=\"text-align: right;\">\n",
              "      <th></th>\n",
              "      <th>author</th>\n",
              "      <th>media</th>\n",
              "      <th>downs</th>\n",
              "      <th>title</th>\n",
              "      <th>created_utc</th>\n",
              "      <th>width</th>\n",
              "      <th>thumbnail</th>\n",
              "      <th>height</th>\n",
              "      <th>ups</th>\n",
              "      <th>id</th>\n",
              "      <th>comment</th>\n",
              "      <th>usr</th>\n",
              "      <th>total_cmnts</th>\n",
              "      <th>percent_ups</th>\n",
              "    </tr>\n",
              "  </thead>\n",
              "  <tbody>\n",
              "    <tr>\n",
              "      <th>0</th>\n",
              "      <td>itsopaz</td>\n",
              "      <td>https://i.redd.it/3blmjda9w4ny.jpg</td>\n",
              "      <td>0</td>\n",
              "      <td>1929 was rough year</td>\n",
              "      <td>1.490265e+09</td>\n",
              "      <td>140</td>\n",
              "      <td>https://b.thumbs.redditmedia.com/Lo2LOVGTJc-uv...</td>\n",
              "      <td>83</td>\n",
              "      <td>26034</td>\n",
              "      <td>6110zu</td>\n",
              "      <td>dank.</td>\n",
              "      <td>savageaxebot</td>\n",
              "      <td>509 comments</td>\n",
              "      <td>91% Upvoted</td>\n",
              "    </tr>\n",
              "    <tr>\n",
              "      <th>1</th>\n",
              "      <td>itsopaz</td>\n",
              "      <td>https://i.redd.it/3blmjda9w4ny.jpg</td>\n",
              "      <td>0</td>\n",
              "      <td>1929 was rough year</td>\n",
              "      <td>1.490265e+09</td>\n",
              "      <td>140</td>\n",
              "      <td>https://b.thumbs.redditmedia.com/Lo2LOVGTJc-uv...</td>\n",
              "      <td>83</td>\n",
              "      <td>26034</td>\n",
              "      <td>6110zu</td>\n",
              "      <td>farmer: well if the bank doesn't kick me off t...</td>\n",
              "      <td>pacificol</td>\n",
              "      <td>509 comments</td>\n",
              "      <td>91% Upvoted</td>\n",
              "    </tr>\n",
              "    <tr>\n",
              "      <th>2</th>\n",
              "      <td>itsopaz</td>\n",
              "      <td>https://i.redd.it/3blmjda9w4ny.jpg</td>\n",
              "      <td>0</td>\n",
              "      <td>1929 was rough year</td>\n",
              "      <td>1.490265e+09</td>\n",
              "      <td>140</td>\n",
              "      <td>https://b.thumbs.redditmedia.com/Lo2LOVGTJc-uv...</td>\n",
              "      <td>83</td>\n",
              "      <td>26034</td>\n",
              "      <td>6110zu</td>\n",
              "      <td>banker: we need a way to ensure that food can'...</td>\n",
              "      <td>evolving_dore</td>\n",
              "      <td>509 comments</td>\n",
              "      <td>91% Upvoted</td>\n",
              "    </tr>\n",
              "    <tr>\n",
              "      <th>3</th>\n",
              "      <td>itsopaz</td>\n",
              "      <td>https://i.redd.it/3blmjda9w4ny.jpg</td>\n",
              "      <td>0</td>\n",
              "      <td>1929 was rough year</td>\n",
              "      <td>1.490265e+09</td>\n",
              "      <td>140</td>\n",
              "      <td>https://b.thumbs.redditmedia.com/Lo2LOVGTJc-uv...</td>\n",
              "      <td>83</td>\n",
              "      <td>26034</td>\n",
              "      <td>6110zu</td>\n",
              "      <td>if the bank doesn't enforce a punishment for d...</td>\n",
              "      <td>2 years ago</td>\n",
              "      <td>509 comments</td>\n",
              "      <td>91% Upvoted</td>\n",
              "    </tr>\n",
              "    <tr>\n",
              "      <th>4</th>\n",
              "      <td>itsopaz</td>\n",
              "      <td>https://i.redd.it/3blmjda9w4ny.jpg</td>\n",
              "      <td>0</td>\n",
              "      <td>1929 was rough year</td>\n",
              "      <td>1.490265e+09</td>\n",
              "      <td>140</td>\n",
              "      <td>https://b.thumbs.redditmedia.com/Lo2LOVGTJc-uv...</td>\n",
              "      <td>83</td>\n",
              "      <td>26034</td>\n",
              "      <td>6110zu</td>\n",
              "      <td>many farmers went bankrupt because they were c...</td>\n",
              "      <td>drsandbags</td>\n",
              "      <td>509 comments</td>\n",
              "      <td>91% Upvoted</td>\n",
              "    </tr>\n",
              "  </tbody>\n",
              "</table>\n",
              "</div>\n",
              "      <button class=\"colab-df-convert\" onclick=\"convertToInteractive('df-781abd85-85f2-4243-8751-a072e4ec90fa')\"\n",
              "              title=\"Convert this dataframe to an interactive table.\"\n",
              "              style=\"display:none;\">\n",
              "        \n",
              "  <svg xmlns=\"http://www.w3.org/2000/svg\" height=\"24px\"viewBox=\"0 0 24 24\"\n",
              "       width=\"24px\">\n",
              "    <path d=\"M0 0h24v24H0V0z\" fill=\"none\"/>\n",
              "    <path d=\"M18.56 5.44l.94 2.06.94-2.06 2.06-.94-2.06-.94-.94-2.06-.94 2.06-2.06.94zm-11 1L8.5 8.5l.94-2.06 2.06-.94-2.06-.94L8.5 2.5l-.94 2.06-2.06.94zm10 10l.94 2.06.94-2.06 2.06-.94-2.06-.94-.94-2.06-.94 2.06-2.06.94z\"/><path d=\"M17.41 7.96l-1.37-1.37c-.4-.4-.92-.59-1.43-.59-.52 0-1.04.2-1.43.59L10.3 9.45l-7.72 7.72c-.78.78-.78 2.05 0 2.83L4 21.41c.39.39.9.59 1.41.59.51 0 1.02-.2 1.41-.59l7.78-7.78 2.81-2.81c.8-.78.8-2.07 0-2.86zM5.41 20L4 18.59l7.72-7.72 1.47 1.35L5.41 20z\"/>\n",
              "  </svg>\n",
              "      </button>\n",
              "      \n",
              "  <style>\n",
              "    .colab-df-container {\n",
              "      display:flex;\n",
              "      flex-wrap:wrap;\n",
              "      gap: 12px;\n",
              "    }\n",
              "\n",
              "    .colab-df-convert {\n",
              "      background-color: #E8F0FE;\n",
              "      border: none;\n",
              "      border-radius: 50%;\n",
              "      cursor: pointer;\n",
              "      display: none;\n",
              "      fill: #1967D2;\n",
              "      height: 32px;\n",
              "      padding: 0 0 0 0;\n",
              "      width: 32px;\n",
              "    }\n",
              "\n",
              "    .colab-df-convert:hover {\n",
              "      background-color: #E2EBFA;\n",
              "      box-shadow: 0px 1px 2px rgba(60, 64, 67, 0.3), 0px 1px 3px 1px rgba(60, 64, 67, 0.15);\n",
              "      fill: #174EA6;\n",
              "    }\n",
              "\n",
              "    [theme=dark] .colab-df-convert {\n",
              "      background-color: #3B4455;\n",
              "      fill: #D2E3FC;\n",
              "    }\n",
              "\n",
              "    [theme=dark] .colab-df-convert:hover {\n",
              "      background-color: #434B5C;\n",
              "      box-shadow: 0px 1px 3px 1px rgba(0, 0, 0, 0.15);\n",
              "      filter: drop-shadow(0px 1px 2px rgba(0, 0, 0, 0.3));\n",
              "      fill: #FFFFFF;\n",
              "    }\n",
              "  </style>\n",
              "\n",
              "      <script>\n",
              "        const buttonEl =\n",
              "          document.querySelector('#df-781abd85-85f2-4243-8751-a072e4ec90fa button.colab-df-convert');\n",
              "        buttonEl.style.display =\n",
              "          google.colab.kernel.accessAllowed ? 'block' : 'none';\n",
              "\n",
              "        async function convertToInteractive(key) {\n",
              "          const element = document.querySelector('#df-781abd85-85f2-4243-8751-a072e4ec90fa');\n",
              "          const dataTable =\n",
              "            await google.colab.kernel.invokeFunction('convertToInteractive',\n",
              "                                                     [key], {});\n",
              "          if (!dataTable) return;\n",
              "\n",
              "          const docLinkHtml = 'Like what you see? Visit the ' +\n",
              "            '<a target=\"_blank\" href=https://colab.research.google.com/notebooks/data_table.ipynb>data table notebook</a>'\n",
              "            + ' to learn more about interactive tables.';\n",
              "          element.innerHTML = '';\n",
              "          dataTable['output_type'] = 'display_data';\n",
              "          await google.colab.output.renderOutput(dataTable, element);\n",
              "          const docLink = document.createElement('div');\n",
              "          docLink.innerHTML = docLinkHtml;\n",
              "          element.appendChild(docLink);\n",
              "        }\n",
              "      </script>\n",
              "    </div>\n",
              "  </div>\n",
              "  "
            ]
          },
          "metadata": {},
          "execution_count": 8
        }
      ]
    },
    {
      "cell_type": "code",
      "metadata": {
        "cellView": "form",
        "colab": {
          "base_uri": "https://localhost:8080/",
          "height": 449
        },
        "id": "WIoMYGbjXTtv",
        "outputId": "aad1d0a5-2917-4fde-e1ae-3de6a29e9021"
      },
      "source": [
        "#@title .\n",
        "%%html\n",
        "<figure>\n",
        "<center>\n",
        "<img src='https://i.imgflip.com/3ar5z2.jpg' width=400 height=400/>\n",
        "<figcaption></figcaption></center>\n",
        "</figure>"
      ],
      "execution_count": null,
      "outputs": [
        {
          "output_type": "display_data",
          "data": {
            "text/plain": [
              "<IPython.core.display.HTML object>"
            ],
            "text/html": [
              "<figure>\n",
              "<center>\n",
              "<img src='https://i.imgflip.com/3ar5z2.jpg' width=400 height=400/>\n",
              "<figcaption></figcaption></center>\n",
              "</figure>\n"
            ]
          },
          "metadata": {}
        }
      ]
    },
    {
      "cell_type": "code",
      "metadata": {
        "id": "fFKmnPBYQ-Go"
      },
      "source": [
        "memes = raw.groupby('id').apply(lambda x: pd.Series(\\\n",
        "  {'comments'       : ' '.join(x['comment']).lower().replace('dank', ' '),\\\n",
        "   'sampled_cmnts'  : len(x), \\\n",
        "   'sampled_cmnters': len(x['usr'].unique()),\n",
        "   'dank'           : len(x[(x['usr']=='savageaxebot') & (x['comment'].apply(lambda x: 'dank' in x))])>0,\n",
        "    'author'        : x['author'].iloc[0],\n",
        "    'media'         : x['media'].iloc[0],\n",
        "    'title'         : x['title'].iloc[0], \n",
        "    'ups'           : x['ups'].iloc[0],\n",
        "    'total_cmnts'   : x['total_cmnts'].iloc[0].split()[0],\n",
        "    'percent_ups'  :  int(x['percent_ups'].iloc[0].split()[0][:-1])})).reset_index()\n",
        "\n",
        "memes['total_cmnts'] = memes['total_cmnts'].apply(lambda x: float(x[:-1])*1000 if x[-1]=='k' else float(x))"
      ],
      "execution_count": null,
      "outputs": []
    },
    {
      "cell_type": "code",
      "metadata": {
        "colab": {
          "base_uri": "https://localhost:8080/",
          "height": 337
        },
        "id": "cOXOQI5fToOu",
        "outputId": "3d07be33-7bd9-42f0-888c-9b14a02ab252"
      },
      "source": [
        "memes.head(5)"
      ],
      "execution_count": null,
      "outputs": [
        {
          "output_type": "execute_result",
          "data": {
            "text/plain": [
              "       id                                           comments  sampled_cmnts  \\\n",
              "0  51xh6y  here is a larger version of the imagealso got ...             16   \n",
              "1  56qdez  what about my favourite adolf?edit: 👌👌wow👌👌👌th...             21   \n",
              "2  5blhtv  congrats, you reached /r/all! make reddit grea...             17   \n",
              "3  5btgto  ahh hail jeb! my name is jeb! oh jeb can you s...             19   \n",
              "4  5bycmm  this is literally me rn 😂😂😂👌👌👌 remember when a...             15   \n",
              "\n",
              "   sampled_cmnters   dank              author  \\\n",
              "0               15  False            pete7201   \n",
              "1               21  False      swagmaster1155   \n",
              "2               16  False        just__my__up   \n",
              "3               19  False  syntheticstupidity   \n",
              "4               15  False    relational_sense   \n",
              "\n",
              "                                media  \\\n",
              "0  https://i.redd.it/9ytusfmcbikx.jpg   \n",
              "1      http://i.imgur.com/Jdnb1st.jpg   \n",
              "2  https://i.redd.it/nda2tqf0f6wx.jpg   \n",
              "3      http://i.imgur.com/UYXRlNI.png   \n",
              "4      http://i.imgur.com/trS2xCh.png   \n",
              "\n",
              "                                               title    ups  total_cmnts  \\\n",
              "0  my . if you upvote this post it will come up o...  18517         94.0   \n",
              "1                                             me irl  14734         48.0   \n",
              "2                                    you guys ready?  28890        582.0   \n",
              "3          🔥 leaked results of tonight's election! 🔥  23478        151.0   \n",
              "4                                democrats right now  24265        177.0   \n",
              "\n",
              "   percent_ups  \n",
              "0           78  \n",
              "1           95  \n",
              "2           91  \n",
              "3           92  \n",
              "4           91  "
            ],
            "text/html": [
              "\n",
              "  <div id=\"df-0f855477-0e8a-44ac-8610-9397498580f0\">\n",
              "    <div class=\"colab-df-container\">\n",
              "      <div>\n",
              "<style scoped>\n",
              "    .dataframe tbody tr th:only-of-type {\n",
              "        vertical-align: middle;\n",
              "    }\n",
              "\n",
              "    .dataframe tbody tr th {\n",
              "        vertical-align: top;\n",
              "    }\n",
              "\n",
              "    .dataframe thead th {\n",
              "        text-align: right;\n",
              "    }\n",
              "</style>\n",
              "<table border=\"1\" class=\"dataframe\">\n",
              "  <thead>\n",
              "    <tr style=\"text-align: right;\">\n",
              "      <th></th>\n",
              "      <th>id</th>\n",
              "      <th>comments</th>\n",
              "      <th>sampled_cmnts</th>\n",
              "      <th>sampled_cmnters</th>\n",
              "      <th>dank</th>\n",
              "      <th>author</th>\n",
              "      <th>media</th>\n",
              "      <th>title</th>\n",
              "      <th>ups</th>\n",
              "      <th>total_cmnts</th>\n",
              "      <th>percent_ups</th>\n",
              "    </tr>\n",
              "  </thead>\n",
              "  <tbody>\n",
              "    <tr>\n",
              "      <th>0</th>\n",
              "      <td>51xh6y</td>\n",
              "      <td>here is a larger version of the imagealso got ...</td>\n",
              "      <td>16</td>\n",
              "      <td>15</td>\n",
              "      <td>False</td>\n",
              "      <td>pete7201</td>\n",
              "      <td>https://i.redd.it/9ytusfmcbikx.jpg</td>\n",
              "      <td>my . if you upvote this post it will come up o...</td>\n",
              "      <td>18517</td>\n",
              "      <td>94.0</td>\n",
              "      <td>78</td>\n",
              "    </tr>\n",
              "    <tr>\n",
              "      <th>1</th>\n",
              "      <td>56qdez</td>\n",
              "      <td>what about my favourite adolf?edit: 👌👌wow👌👌👌th...</td>\n",
              "      <td>21</td>\n",
              "      <td>21</td>\n",
              "      <td>False</td>\n",
              "      <td>swagmaster1155</td>\n",
              "      <td>http://i.imgur.com/Jdnb1st.jpg</td>\n",
              "      <td>me irl</td>\n",
              "      <td>14734</td>\n",
              "      <td>48.0</td>\n",
              "      <td>95</td>\n",
              "    </tr>\n",
              "    <tr>\n",
              "      <th>2</th>\n",
              "      <td>5blhtv</td>\n",
              "      <td>congrats, you reached /r/all! make reddit grea...</td>\n",
              "      <td>17</td>\n",
              "      <td>16</td>\n",
              "      <td>False</td>\n",
              "      <td>just__my__up</td>\n",
              "      <td>https://i.redd.it/nda2tqf0f6wx.jpg</td>\n",
              "      <td>you guys ready?</td>\n",
              "      <td>28890</td>\n",
              "      <td>582.0</td>\n",
              "      <td>91</td>\n",
              "    </tr>\n",
              "    <tr>\n",
              "      <th>3</th>\n",
              "      <td>5btgto</td>\n",
              "      <td>ahh hail jeb! my name is jeb! oh jeb can you s...</td>\n",
              "      <td>19</td>\n",
              "      <td>19</td>\n",
              "      <td>False</td>\n",
              "      <td>syntheticstupidity</td>\n",
              "      <td>http://i.imgur.com/UYXRlNI.png</td>\n",
              "      <td>🔥 leaked results of tonight's election! 🔥</td>\n",
              "      <td>23478</td>\n",
              "      <td>151.0</td>\n",
              "      <td>92</td>\n",
              "    </tr>\n",
              "    <tr>\n",
              "      <th>4</th>\n",
              "      <td>5bycmm</td>\n",
              "      <td>this is literally me rn 😂😂😂👌👌👌 remember when a...</td>\n",
              "      <td>15</td>\n",
              "      <td>15</td>\n",
              "      <td>False</td>\n",
              "      <td>relational_sense</td>\n",
              "      <td>http://i.imgur.com/trS2xCh.png</td>\n",
              "      <td>democrats right now</td>\n",
              "      <td>24265</td>\n",
              "      <td>177.0</td>\n",
              "      <td>91</td>\n",
              "    </tr>\n",
              "  </tbody>\n",
              "</table>\n",
              "</div>\n",
              "      <button class=\"colab-df-convert\" onclick=\"convertToInteractive('df-0f855477-0e8a-44ac-8610-9397498580f0')\"\n",
              "              title=\"Convert this dataframe to an interactive table.\"\n",
              "              style=\"display:none;\">\n",
              "        \n",
              "  <svg xmlns=\"http://www.w3.org/2000/svg\" height=\"24px\"viewBox=\"0 0 24 24\"\n",
              "       width=\"24px\">\n",
              "    <path d=\"M0 0h24v24H0V0z\" fill=\"none\"/>\n",
              "    <path d=\"M18.56 5.44l.94 2.06.94-2.06 2.06-.94-2.06-.94-.94-2.06-.94 2.06-2.06.94zm-11 1L8.5 8.5l.94-2.06 2.06-.94-2.06-.94L8.5 2.5l-.94 2.06-2.06.94zm10 10l.94 2.06.94-2.06 2.06-.94-2.06-.94-.94-2.06-.94 2.06-2.06.94z\"/><path d=\"M17.41 7.96l-1.37-1.37c-.4-.4-.92-.59-1.43-.59-.52 0-1.04.2-1.43.59L10.3 9.45l-7.72 7.72c-.78.78-.78 2.05 0 2.83L4 21.41c.39.39.9.59 1.41.59.51 0 1.02-.2 1.41-.59l7.78-7.78 2.81-2.81c.8-.78.8-2.07 0-2.86zM5.41 20L4 18.59l7.72-7.72 1.47 1.35L5.41 20z\"/>\n",
              "  </svg>\n",
              "      </button>\n",
              "      \n",
              "  <style>\n",
              "    .colab-df-container {\n",
              "      display:flex;\n",
              "      flex-wrap:wrap;\n",
              "      gap: 12px;\n",
              "    }\n",
              "\n",
              "    .colab-df-convert {\n",
              "      background-color: #E8F0FE;\n",
              "      border: none;\n",
              "      border-radius: 50%;\n",
              "      cursor: pointer;\n",
              "      display: none;\n",
              "      fill: #1967D2;\n",
              "      height: 32px;\n",
              "      padding: 0 0 0 0;\n",
              "      width: 32px;\n",
              "    }\n",
              "\n",
              "    .colab-df-convert:hover {\n",
              "      background-color: #E2EBFA;\n",
              "      box-shadow: 0px 1px 2px rgba(60, 64, 67, 0.3), 0px 1px 3px 1px rgba(60, 64, 67, 0.15);\n",
              "      fill: #174EA6;\n",
              "    }\n",
              "\n",
              "    [theme=dark] .colab-df-convert {\n",
              "      background-color: #3B4455;\n",
              "      fill: #D2E3FC;\n",
              "    }\n",
              "\n",
              "    [theme=dark] .colab-df-convert:hover {\n",
              "      background-color: #434B5C;\n",
              "      box-shadow: 0px 1px 3px 1px rgba(0, 0, 0, 0.15);\n",
              "      filter: drop-shadow(0px 1px 2px rgba(0, 0, 0, 0.3));\n",
              "      fill: #FFFFFF;\n",
              "    }\n",
              "  </style>\n",
              "\n",
              "      <script>\n",
              "        const buttonEl =\n",
              "          document.querySelector('#df-0f855477-0e8a-44ac-8610-9397498580f0 button.colab-df-convert');\n",
              "        buttonEl.style.display =\n",
              "          google.colab.kernel.accessAllowed ? 'block' : 'none';\n",
              "\n",
              "        async function convertToInteractive(key) {\n",
              "          const element = document.querySelector('#df-0f855477-0e8a-44ac-8610-9397498580f0');\n",
              "          const dataTable =\n",
              "            await google.colab.kernel.invokeFunction('convertToInteractive',\n",
              "                                                     [key], {});\n",
              "          if (!dataTable) return;\n",
              "\n",
              "          const docLinkHtml = 'Like what you see? Visit the ' +\n",
              "            '<a target=\"_blank\" href=https://colab.research.google.com/notebooks/data_table.ipynb>data table notebook</a>'\n",
              "            + ' to learn more about interactive tables.';\n",
              "          element.innerHTML = '';\n",
              "          dataTable['output_type'] = 'display_data';\n",
              "          await google.colab.output.renderOutput(dataTable, element);\n",
              "          const docLink = document.createElement('div');\n",
              "          docLink.innerHTML = docLinkHtml;\n",
              "          element.appendChild(docLink);\n",
              "        }\n",
              "      </script>\n",
              "    </div>\n",
              "  </div>\n",
              "  "
            ]
          },
          "metadata": {},
          "execution_count": 15
        }
      ]
    }
  ]
}